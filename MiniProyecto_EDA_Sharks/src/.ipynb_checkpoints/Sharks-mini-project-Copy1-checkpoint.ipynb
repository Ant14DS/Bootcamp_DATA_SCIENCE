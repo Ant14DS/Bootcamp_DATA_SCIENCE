{
 "cells": [
  {
   "cell_type": "markdown",
   "metadata": {},
   "source": [
    "![](img/shark.png)"
   ]
  },
  {
   "cell_type": "markdown",
   "metadata": {},
   "source": [
    "# Global Shark Attack\n",
    "\n",
    "Fecha de entrega: _23:59 05/04/2021_ "
   ]
  },
  {
   "cell_type": "markdown",
   "metadata": {},
   "source": [
    "### ¿En qué consiste este mini-proyecto?\n",
    "\n",
    "El objetivo de este mini-proyecto es que os enfrentéis a realizar un Exploratory Data Analysis por primera vez, antes del proyecto EDA. \n",
    "\n",
    "Durante este mini-proyecto deberás poner en práctica todo lo aprendido durante las últimas semanas. Tanto cómo te haga falta y solo si te hace falta. Esta vez serás tú el qué tome la decisión de qué tratamientos o limpiezas y visualizaciones serán mejor para tratar tus datos. \n",
    "\n",
    "Mínimo deberás importar las siguientes librerías, aunque te animo a explorar otras librerías nuevas.\n",
    "\n",
    "```python\n",
    "import pandas as pd\n",
    "import numpy as np\n",
    "import matplotlib.pyplot as plt\n",
    "import seaborn as sns\n",
    "```\n",
    "\n",
    "Todo esto con el fin de poder verificar nuestra hipótesis. Sigue leyendo para más información."
   ]
  },
  {
   "cell_type": "markdown",
   "metadata": {},
   "source": [
    "### Dataset"
   ]
  },
  {
   "cell_type": "markdown",
   "metadata": {},
   "source": [
    "El dataset que utilizaremos para este mini-proyecto contiene datos sobre los ataques de tiburones en el mundo: localicación, fechas, tipología, especie causante, información sobre las víctimas, etc.. \n",
    "\n",
    "Registrado por http://www.sharkattackfile.net/index.htm.\n",
    "\n",
    "Te lo podrás descargar en este enlace: https://www.kaggle.com/teajay/global-shark-attacks"
   ]
  },
  {
   "cell_type": "markdown",
   "metadata": {},
   "source": [
    "### Hipótesis\n",
    "Elige una o varias de estas hipótesis para desarrollar tu mini proyecto.\n",
    "\n",
    "Siéntete libre de establecer nuevas hipótesis que puedas validar o rechazar con tu análisis."
   ]
  },
  {
   "cell_type": "markdown",
   "metadata": {},
   "source": [
    "- El número de supervivientes ha aumentado con el paso de los años\n",
    "- Todos los ataques producidos en la India, ocurren a primera hora de la mañana\n",
    "- La mayoría de los ataques en los últimos 200 años tuvieron lugar en USA, Australia y Sudáfrica. \n",
    "- Las actividades con más riesgo de sufrir un ataque de tiburon son pescar y nadar. \n",
    "- La mayoría de los ataques de tiburón fueron fatales.\n",
    "- Los tiburones tienen especial predilección por los surferos.\n",
    "- Reunion Island es el lugar del mundo donde ocurren más ataques de tiburón en terminos relativos.\n",
    "- En Sudáfrica hay más ataques letales a mujeres que en Australia."
   ]
  },
  {
   "cell_type": "markdown",
   "metadata": {},
   "source": [
    "### Github*\n",
    "*_Este punto es opcional pero MUY recomendable, ya que en el Proyecto de EDA será obligatorio_\n",
    "\n",
    "Crea un repositorio nuevo para guardar los archivos que necesites.\n",
    "\n",
    "Sigue la siguiente estructuras de carpetas:\n",
    "\n",
    "    - src -> aquí encontrarás el código, en este caso los notebooks que uses\n",
    "    - input -> aquí guardarás el dataset que utilices\n",
    "    - output -> aquí guardarás gráficas o datasets limpios, si los tuvieras"
   ]
  },
  {
   "cell_type": "markdown",
   "metadata": {},
   "source": [
    "# Librerías"
   ]
  },
  {
   "cell_type": "code",
   "execution_count": 1,
   "metadata": {},
   "outputs": [],
   "source": [
    "import pandas as pd\n",
    "import numpy as np\n",
    "import matplotlib.pyplot as plt\n",
    "import seaborn as sns"
   ]
  },
  {
   "cell_type": "code",
   "execution_count": 2,
   "metadata": {},
   "outputs": [],
   "source": [
    "import warnings\n",
    "warnings.filterwarnings(\"ignore\")"
   ]
  },
  {
   "cell_type": "code",
   "execution_count": 3,
   "metadata": {},
   "outputs": [],
   "source": [
    "plt.style.use('seaborn-bright')"
   ]
  },
  {
   "cell_type": "markdown",
   "metadata": {},
   "source": [
    "# Índice\n",
    "\n",
    "## Análisis previo y limpieza del dataset original\n",
    "\n",
    "* [Análisis General](#Ager)\n",
    "* [Análisis de columnas con datos no categorizados](#AC1)\n",
    "* [Análisis de columnas con datos categorizados](#AC2)\n",
    "\n",
    "## Comprobación de Hipótesis\n",
    "\n",
    "* [Hipótesis 1](#Hipo1) ; [Conclusión](#solu1)\n",
    "* [Hipótesis 2](#Hipo2) ; [Conclusión](#solu2)\n",
    "* [Hipótesis 3](#Hipo3) ; [Conclusión](#solu3)\n",
    "* [Hipótesis 4](#Hipo4) ; [Conclusión](#solu4)\n",
    "* [Hipótesis 5](#Hipo5) ; [Conclusión](#solu5)\n",
    "* [Hipótesis 6](#Hipo6) ; [Conclusión](#solu6)\n",
    "* [Hipótesis 7](#Hipo7) ; [Conclusión](#solu7)\n",
    "* [Hipótesis 1](#Hipo8) ; [Conclusión](#solu8)"
   ]
  },
  {
   "cell_type": "markdown",
   "metadata": {},
   "source": [
    "### Análisis General <a id=\"Ager\"></a>"
   ]
  },
  {
   "cell_type": "code",
   "execution_count": 4,
   "metadata": {
    "scrolled": true
   },
   "outputs": [
    {
     "data": {
      "text/html": [
       "<div>\n",
       "<style scoped>\n",
       "    .dataframe tbody tr th:only-of-type {\n",
       "        vertical-align: middle;\n",
       "    }\n",
       "\n",
       "    .dataframe tbody tr th {\n",
       "        vertical-align: top;\n",
       "    }\n",
       "\n",
       "    .dataframe thead th {\n",
       "        text-align: right;\n",
       "    }\n",
       "</style>\n",
       "<table border=\"1\" class=\"dataframe\">\n",
       "  <thead>\n",
       "    <tr style=\"text-align: right;\">\n",
       "      <th></th>\n",
       "      <th>Case Number</th>\n",
       "      <th>Date</th>\n",
       "      <th>Year</th>\n",
       "      <th>Type</th>\n",
       "      <th>Country</th>\n",
       "      <th>Area</th>\n",
       "      <th>Location</th>\n",
       "      <th>Activity</th>\n",
       "      <th>Name</th>\n",
       "      <th>Sex</th>\n",
       "      <th>...</th>\n",
       "      <th>Species</th>\n",
       "      <th>Investigator or Source</th>\n",
       "      <th>pdf</th>\n",
       "      <th>href formula</th>\n",
       "      <th>href</th>\n",
       "      <th>Case Number.1</th>\n",
       "      <th>Case Number.2</th>\n",
       "      <th>original order</th>\n",
       "      <th>Unnamed: 22</th>\n",
       "      <th>Unnamed: 23</th>\n",
       "    </tr>\n",
       "  </thead>\n",
       "  <tbody>\n",
       "    <tr>\n",
       "      <th>0</th>\n",
       "      <td>2018.06.25</td>\n",
       "      <td>25-Jun-2018</td>\n",
       "      <td>2018.0</td>\n",
       "      <td>Boating</td>\n",
       "      <td>USA</td>\n",
       "      <td>California</td>\n",
       "      <td>Oceanside, San Diego County</td>\n",
       "      <td>Paddling</td>\n",
       "      <td>Julie Wolfe</td>\n",
       "      <td>F</td>\n",
       "      <td>...</td>\n",
       "      <td>White shark</td>\n",
       "      <td>R. Collier, GSAF</td>\n",
       "      <td>2018.06.25-Wolfe.pdf</td>\n",
       "      <td>http://sharkattackfile.net/spreadsheets/pdf_di...</td>\n",
       "      <td>http://sharkattackfile.net/spreadsheets/pdf_di...</td>\n",
       "      <td>2018.06.25</td>\n",
       "      <td>2018.06.25</td>\n",
       "      <td>6303.0</td>\n",
       "      <td>NaN</td>\n",
       "      <td>NaN</td>\n",
       "    </tr>\n",
       "    <tr>\n",
       "      <th>1</th>\n",
       "      <td>2018.06.18</td>\n",
       "      <td>18-Jun-2018</td>\n",
       "      <td>2018.0</td>\n",
       "      <td>Unprovoked</td>\n",
       "      <td>USA</td>\n",
       "      <td>Georgia</td>\n",
       "      <td>St. Simon Island, Glynn County</td>\n",
       "      <td>Standing</td>\n",
       "      <td>Adyson McNeely</td>\n",
       "      <td>F</td>\n",
       "      <td>...</td>\n",
       "      <td>NaN</td>\n",
       "      <td>K.McMurray, TrackingSharks.com</td>\n",
       "      <td>2018.06.18-McNeely.pdf</td>\n",
       "      <td>http://sharkattackfile.net/spreadsheets/pdf_di...</td>\n",
       "      <td>http://sharkattackfile.net/spreadsheets/pdf_di...</td>\n",
       "      <td>2018.06.18</td>\n",
       "      <td>2018.06.18</td>\n",
       "      <td>6302.0</td>\n",
       "      <td>NaN</td>\n",
       "      <td>NaN</td>\n",
       "    </tr>\n",
       "    <tr>\n",
       "      <th>2</th>\n",
       "      <td>2018.06.09</td>\n",
       "      <td>09-Jun-2018</td>\n",
       "      <td>2018.0</td>\n",
       "      <td>Invalid</td>\n",
       "      <td>USA</td>\n",
       "      <td>Hawaii</td>\n",
       "      <td>Habush, Oahu</td>\n",
       "      <td>Surfing</td>\n",
       "      <td>John Denges</td>\n",
       "      <td>M</td>\n",
       "      <td>...</td>\n",
       "      <td>NaN</td>\n",
       "      <td>K.McMurray, TrackingSharks.com</td>\n",
       "      <td>2018.06.09-Denges.pdf</td>\n",
       "      <td>http://sharkattackfile.net/spreadsheets/pdf_di...</td>\n",
       "      <td>http://sharkattackfile.net/spreadsheets/pdf_di...</td>\n",
       "      <td>2018.06.09</td>\n",
       "      <td>2018.06.09</td>\n",
       "      <td>6301.0</td>\n",
       "      <td>NaN</td>\n",
       "      <td>NaN</td>\n",
       "    </tr>\n",
       "    <tr>\n",
       "      <th>3</th>\n",
       "      <td>2018.06.08</td>\n",
       "      <td>08-Jun-2018</td>\n",
       "      <td>2018.0</td>\n",
       "      <td>Unprovoked</td>\n",
       "      <td>AUSTRALIA</td>\n",
       "      <td>New South Wales</td>\n",
       "      <td>Arrawarra Headland</td>\n",
       "      <td>Surfing</td>\n",
       "      <td>male</td>\n",
       "      <td>M</td>\n",
       "      <td>...</td>\n",
       "      <td>2 m shark</td>\n",
       "      <td>B. Myatt, GSAF</td>\n",
       "      <td>2018.06.08-Arrawarra.pdf</td>\n",
       "      <td>http://sharkattackfile.net/spreadsheets/pdf_di...</td>\n",
       "      <td>http://sharkattackfile.net/spreadsheets/pdf_di...</td>\n",
       "      <td>2018.06.08</td>\n",
       "      <td>2018.06.08</td>\n",
       "      <td>6300.0</td>\n",
       "      <td>NaN</td>\n",
       "      <td>NaN</td>\n",
       "    </tr>\n",
       "    <tr>\n",
       "      <th>4</th>\n",
       "      <td>2018.06.04</td>\n",
       "      <td>04-Jun-2018</td>\n",
       "      <td>2018.0</td>\n",
       "      <td>Provoked</td>\n",
       "      <td>MEXICO</td>\n",
       "      <td>Colima</td>\n",
       "      <td>La Ticla</td>\n",
       "      <td>Free diving</td>\n",
       "      <td>Gustavo Ramos</td>\n",
       "      <td>M</td>\n",
       "      <td>...</td>\n",
       "      <td>Tiger shark, 3m</td>\n",
       "      <td>A .Kipper</td>\n",
       "      <td>2018.06.04-Ramos.pdf</td>\n",
       "      <td>http://sharkattackfile.net/spreadsheets/pdf_di...</td>\n",
       "      <td>http://sharkattackfile.net/spreadsheets/pdf_di...</td>\n",
       "      <td>2018.06.04</td>\n",
       "      <td>2018.06.04</td>\n",
       "      <td>6299.0</td>\n",
       "      <td>NaN</td>\n",
       "      <td>NaN</td>\n",
       "    </tr>\n",
       "  </tbody>\n",
       "</table>\n",
       "<p>5 rows × 24 columns</p>\n",
       "</div>"
      ],
      "text/plain": [
       "  Case Number         Date    Year        Type    Country             Area  \\\n",
       "0  2018.06.25  25-Jun-2018  2018.0     Boating        USA       California   \n",
       "1  2018.06.18  18-Jun-2018  2018.0  Unprovoked        USA          Georgia   \n",
       "2  2018.06.09  09-Jun-2018  2018.0     Invalid        USA           Hawaii   \n",
       "3  2018.06.08  08-Jun-2018  2018.0  Unprovoked  AUSTRALIA  New South Wales   \n",
       "4  2018.06.04  04-Jun-2018  2018.0    Provoked     MEXICO           Colima   \n",
       "\n",
       "                         Location     Activity             Name Sex   ...  \\\n",
       "0     Oceanside, San Diego County     Paddling      Julie Wolfe    F  ...   \n",
       "1  St. Simon Island, Glynn County     Standing  Adyson McNeely     F  ...   \n",
       "2                    Habush, Oahu      Surfing      John Denges    M  ...   \n",
       "3              Arrawarra Headland      Surfing             male    M  ...   \n",
       "4                        La Ticla  Free diving   Gustavo Ramos     M  ...   \n",
       "\n",
       "          Species           Investigator or Source                       pdf  \\\n",
       "0      White shark                R. Collier, GSAF      2018.06.25-Wolfe.pdf   \n",
       "1              NaN  K.McMurray, TrackingSharks.com    2018.06.18-McNeely.pdf   \n",
       "2              NaN  K.McMurray, TrackingSharks.com     2018.06.09-Denges.pdf   \n",
       "3        2 m shark                  B. Myatt, GSAF  2018.06.08-Arrawarra.pdf   \n",
       "4  Tiger shark, 3m                       A .Kipper      2018.06.04-Ramos.pdf   \n",
       "\n",
       "                                        href formula  \\\n",
       "0  http://sharkattackfile.net/spreadsheets/pdf_di...   \n",
       "1  http://sharkattackfile.net/spreadsheets/pdf_di...   \n",
       "2  http://sharkattackfile.net/spreadsheets/pdf_di...   \n",
       "3  http://sharkattackfile.net/spreadsheets/pdf_di...   \n",
       "4  http://sharkattackfile.net/spreadsheets/pdf_di...   \n",
       "\n",
       "                                                href Case Number.1  \\\n",
       "0  http://sharkattackfile.net/spreadsheets/pdf_di...    2018.06.25   \n",
       "1  http://sharkattackfile.net/spreadsheets/pdf_di...    2018.06.18   \n",
       "2  http://sharkattackfile.net/spreadsheets/pdf_di...    2018.06.09   \n",
       "3  http://sharkattackfile.net/spreadsheets/pdf_di...    2018.06.08   \n",
       "4  http://sharkattackfile.net/spreadsheets/pdf_di...    2018.06.04   \n",
       "\n",
       "  Case Number.2 original order Unnamed: 22 Unnamed: 23  \n",
       "0    2018.06.25         6303.0         NaN         NaN  \n",
       "1    2018.06.18         6302.0         NaN         NaN  \n",
       "2    2018.06.09         6301.0         NaN         NaN  \n",
       "3    2018.06.08         6300.0         NaN         NaN  \n",
       "4    2018.06.04         6299.0         NaN         NaN  \n",
       "\n",
       "[5 rows x 24 columns]"
      ]
     },
     "execution_count": 4,
     "metadata": {},
     "output_type": "execute_result"
    }
   ],
   "source": [
    "#Importo el dataset\n",
    "sharks = pd.read_csv('../input/attacks.csv', encoding = 'latin1')\n",
    "sharks.head()"
   ]
  },
  {
   "cell_type": "code",
   "execution_count": 5,
   "metadata": {
    "scrolled": true
   },
   "outputs": [
    {
     "data": {
      "text/plain": [
       "Index(['Case Number', 'Date', 'Year', 'Type', 'Country', 'Area', 'Location',\n",
       "       'Activity', 'Name', 'Sex ', 'Age', 'Injury', 'Fatal (Y/N)', 'Time',\n",
       "       'Species ', 'Investigator or Source', 'pdf', 'href formula', 'href',\n",
       "       'Case Number.1', 'Case Number.2', 'original order', 'Unnamed: 22',\n",
       "       'Unnamed: 23'],\n",
       "      dtype='object')"
      ]
     },
     "execution_count": 5,
     "metadata": {},
     "output_type": "execute_result"
    }
   ],
   "source": [
    "sharks.columns"
   ]
  },
  {
   "cell_type": "code",
   "execution_count": 6,
   "metadata": {},
   "outputs": [],
   "source": [
    "'''\n",
    "Hay columnas con espacios en el nombre, las renombro para evitar errores \n",
    "'''\n",
    "sharks.rename(columns={'Case Number':'Case_Number','Sex ':'Sex','Fatal (Y/N)':'Fatal_Y/N',\n",
    "                       'Species ':'Species', 'Investigator or Source':'Source',\n",
    "                       'href formula':'href_formula', 'Case Number.1':'Case_Number.1',\n",
    "                       'Case Number.2':'Case_Number.2', 'original order':'original_order'},\n",
    "                        inplace = True)"
   ]
  },
  {
   "cell_type": "code",
   "execution_count": 7,
   "metadata": {},
   "outputs": [
    {
     "data": {
      "text/plain": [
       "Index(['Case_Number', 'Date', 'Year', 'Type', 'Country', 'Area', 'Location',\n",
       "       'Activity', 'Name', 'Sex', 'Age', 'Injury', 'Fatal_Y/N', 'Time',\n",
       "       'Species', 'Source', 'pdf', 'href_formula', 'href', 'Case_Number.1',\n",
       "       'Case_Number.2', 'original_order', 'Unnamed: 22', 'Unnamed: 23'],\n",
       "      dtype='object')"
      ]
     },
     "execution_count": 7,
     "metadata": {},
     "output_type": "execute_result"
    }
   ],
   "source": [
    "sharks.columns"
   ]
  },
  {
   "cell_type": "code",
   "execution_count": 8,
   "metadata": {},
   "outputs": [
    {
     "data": {
      "text/plain": [
       "(25723, 24)"
      ]
     },
     "execution_count": 8,
     "metadata": {},
     "output_type": "execute_result"
    }
   ],
   "source": [
    "sharks.shape"
   ]
  },
  {
   "cell_type": "code",
   "execution_count": 9,
   "metadata": {},
   "outputs": [
    {
     "name": "stdout",
     "output_type": "stream",
     "text": [
      "<class 'pandas.core.frame.DataFrame'>\n",
      "RangeIndex: 25723 entries, 0 to 25722\n",
      "Data columns (total 24 columns):\n",
      " #   Column          Non-Null Count  Dtype  \n",
      "---  ------          --------------  -----  \n",
      " 0   Case_Number     8702 non-null   object \n",
      " 1   Date            6302 non-null   object \n",
      " 2   Year            6300 non-null   float64\n",
      " 3   Type            6298 non-null   object \n",
      " 4   Country         6252 non-null   object \n",
      " 5   Area            5847 non-null   object \n",
      " 6   Location        5762 non-null   object \n",
      " 7   Activity        5758 non-null   object \n",
      " 8   Name            6092 non-null   object \n",
      " 9   Sex             5737 non-null   object \n",
      " 10  Age             3471 non-null   object \n",
      " 11  Injury          6274 non-null   object \n",
      " 12  Fatal_Y/N       5763 non-null   object \n",
      " 13  Time            2948 non-null   object \n",
      " 14  Species         3464 non-null   object \n",
      " 15  Source          6285 non-null   object \n",
      " 16  pdf             6302 non-null   object \n",
      " 17  href_formula    6301 non-null   object \n",
      " 18  href            6302 non-null   object \n",
      " 19  Case_Number.1   6302 non-null   object \n",
      " 20  Case_Number.2   6302 non-null   object \n",
      " 21  original_order  6309 non-null   float64\n",
      " 22  Unnamed: 22     1 non-null      object \n",
      " 23  Unnamed: 23     2 non-null      object \n",
      "dtypes: float64(2), object(22)\n",
      "memory usage: 4.7+ MB\n"
     ]
    }
   ],
   "source": [
    "sharks.info()"
   ]
  },
  {
   "cell_type": "code",
   "execution_count": 10,
   "metadata": {},
   "outputs": [
    {
     "data": {
      "text/html": [
       "<div>\n",
       "<style scoped>\n",
       "    .dataframe tbody tr th:only-of-type {\n",
       "        vertical-align: middle;\n",
       "    }\n",
       "\n",
       "    .dataframe tbody tr th {\n",
       "        vertical-align: top;\n",
       "    }\n",
       "\n",
       "    .dataframe thead th {\n",
       "        text-align: right;\n",
       "    }\n",
       "</style>\n",
       "<table border=\"1\" class=\"dataframe\">\n",
       "  <thead>\n",
       "    <tr style=\"text-align: right;\">\n",
       "      <th></th>\n",
       "      <th>Case_Number</th>\n",
       "      <th>Date</th>\n",
       "      <th>Year</th>\n",
       "      <th>Type</th>\n",
       "      <th>Country</th>\n",
       "      <th>Area</th>\n",
       "      <th>Location</th>\n",
       "      <th>Activity</th>\n",
       "      <th>Name</th>\n",
       "      <th>Sex</th>\n",
       "      <th>...</th>\n",
       "      <th>Species</th>\n",
       "      <th>Source</th>\n",
       "      <th>pdf</th>\n",
       "      <th>href_formula</th>\n",
       "      <th>href</th>\n",
       "      <th>Case_Number.1</th>\n",
       "      <th>Case_Number.2</th>\n",
       "      <th>original_order</th>\n",
       "      <th>Unnamed: 22</th>\n",
       "      <th>Unnamed: 23</th>\n",
       "    </tr>\n",
       "  </thead>\n",
       "  <tbody>\n",
       "    <tr>\n",
       "      <th>1478</th>\n",
       "      <td>2006.05.27</td>\n",
       "      <td>27-May-2006</td>\n",
       "      <td>2006.0</td>\n",
       "      <td>Unprovoked</td>\n",
       "      <td>USA</td>\n",
       "      <td>Hawaii</td>\n",
       "      <td>North Shore, O'ahu</td>\n",
       "      <td>Surfing</td>\n",
       "      <td>Bret Desmond</td>\n",
       "      <td>M</td>\n",
       "      <td>...</td>\n",
       "      <td>NaN</td>\n",
       "      <td>R. Collier</td>\n",
       "      <td>2006.05.27-Desmond.pdf</td>\n",
       "      <td>http://sharkattackfile.net/spreadsheets/pdf_di...</td>\n",
       "      <td>http://sharkattackfile.net/spreadsheets/pdf_di...</td>\n",
       "      <td>2006.05.27</td>\n",
       "      <td>2006.05.27</td>\n",
       "      <td>4825.0</td>\n",
       "      <td>stopped here</td>\n",
       "      <td>NaN</td>\n",
       "    </tr>\n",
       "  </tbody>\n",
       "</table>\n",
       "<p>1 rows × 24 columns</p>\n",
       "</div>"
      ],
      "text/plain": [
       "     Case_Number         Date    Year        Type Country    Area  \\\n",
       "1478  2006.05.27  27-May-2006  2006.0  Unprovoked     USA  Hawaii   \n",
       "\n",
       "                Location Activity          Name Sex  ... Species      Source  \\\n",
       "1478  North Shore, O'ahu  Surfing  Bret Desmond   M  ...     NaN  R. Collier   \n",
       "\n",
       "                         pdf  \\\n",
       "1478  2006.05.27-Desmond.pdf   \n",
       "\n",
       "                                           href_formula  \\\n",
       "1478  http://sharkattackfile.net/spreadsheets/pdf_di...   \n",
       "\n",
       "                                                   href Case_Number.1  \\\n",
       "1478  http://sharkattackfile.net/spreadsheets/pdf_di...    2006.05.27   \n",
       "\n",
       "     Case_Number.2 original_order   Unnamed: 22 Unnamed: 23  \n",
       "1478    2006.05.27         4825.0  stopped here         NaN  \n",
       "\n",
       "[1 rows x 24 columns]"
      ]
     },
     "execution_count": 10,
     "metadata": {},
     "output_type": "execute_result"
    }
   ],
   "source": [
    "#Compruebo que el único valor que no es NaN en la comlumna 'Unnamed: 22'\n",
    "# No aporta información relevante\n",
    "sharks[sharks['Unnamed: 22'].notnull() == True]"
   ]
  },
  {
   "cell_type": "code",
   "execution_count": 11,
   "metadata": {
    "scrolled": false
   },
   "outputs": [
    {
     "data": {
      "text/html": [
       "<div>\n",
       "<style scoped>\n",
       "    .dataframe tbody tr th:only-of-type {\n",
       "        vertical-align: middle;\n",
       "    }\n",
       "\n",
       "    .dataframe tbody tr th {\n",
       "        vertical-align: top;\n",
       "    }\n",
       "\n",
       "    .dataframe thead th {\n",
       "        text-align: right;\n",
       "    }\n",
       "</style>\n",
       "<table border=\"1\" class=\"dataframe\">\n",
       "  <thead>\n",
       "    <tr style=\"text-align: right;\">\n",
       "      <th></th>\n",
       "      <th>Case_Number</th>\n",
       "      <th>Date</th>\n",
       "      <th>Year</th>\n",
       "      <th>Type</th>\n",
       "      <th>Country</th>\n",
       "      <th>Area</th>\n",
       "      <th>Location</th>\n",
       "      <th>Activity</th>\n",
       "      <th>Name</th>\n",
       "      <th>Sex</th>\n",
       "      <th>...</th>\n",
       "      <th>Species</th>\n",
       "      <th>Source</th>\n",
       "      <th>pdf</th>\n",
       "      <th>href_formula</th>\n",
       "      <th>href</th>\n",
       "      <th>Case_Number.1</th>\n",
       "      <th>Case_Number.2</th>\n",
       "      <th>original_order</th>\n",
       "      <th>Unnamed: 22</th>\n",
       "      <th>Unnamed: 23</th>\n",
       "    </tr>\n",
       "  </thead>\n",
       "  <tbody>\n",
       "    <tr>\n",
       "      <th>4415</th>\n",
       "      <td>1952.03.30</td>\n",
       "      <td>30-Mar-1952</td>\n",
       "      <td>1952.0</td>\n",
       "      <td>Unprovoked</td>\n",
       "      <td>NETHERLANDS ANTILLES</td>\n",
       "      <td>Curacao</td>\n",
       "      <td>NaN</td>\n",
       "      <td>Went to aid of child being menaced by the shark</td>\n",
       "      <td>A.J. Eggink</td>\n",
       "      <td>M</td>\n",
       "      <td>...</td>\n",
       "      <td>Bull shark, 2.7 m [9'] was captured &amp; dragged ...</td>\n",
       "      <td>J. Randall, p.352 in Sharks &amp; Survival; H.D. B...</td>\n",
       "      <td>1952.03.30-Eggink.pdf</td>\n",
       "      <td>http://sharkattackfile.net/spreadsheets/pdf_di...</td>\n",
       "      <td>http://sharkattackfile.net/spreadsheets/pdf_di...</td>\n",
       "      <td>1952.03.30</td>\n",
       "      <td>1952.03.30</td>\n",
       "      <td>1888.0</td>\n",
       "      <td>NaN</td>\n",
       "      <td>Teramo</td>\n",
       "    </tr>\n",
       "    <tr>\n",
       "      <th>5840</th>\n",
       "      <td>1878.09.14.R</td>\n",
       "      <td>Reported 14-Sep-1878</td>\n",
       "      <td>1878.0</td>\n",
       "      <td>Provoked</td>\n",
       "      <td>USA</td>\n",
       "      <td>Connecticut</td>\n",
       "      <td>Branford, New Haven County</td>\n",
       "      <td>Fishing</td>\n",
       "      <td>Captain Pattison</td>\n",
       "      <td>M</td>\n",
       "      <td>...</td>\n",
       "      <td>NaN</td>\n",
       "      <td>St. Joseph Herald, 9/14/1878</td>\n",
       "      <td>1878.09.14.R-Pattison.pdf</td>\n",
       "      <td>http://sharkattackfile.net/spreadsheets/pdf_di...</td>\n",
       "      <td>http://sharkattackfile.net/spreadsheets/pdf_di...</td>\n",
       "      <td>1878.09.14.R</td>\n",
       "      <td>1878.09.14.R</td>\n",
       "      <td>463.0</td>\n",
       "      <td>NaN</td>\n",
       "      <td>change filename</td>\n",
       "    </tr>\n",
       "  </tbody>\n",
       "</table>\n",
       "<p>2 rows × 24 columns</p>\n",
       "</div>"
      ],
      "text/plain": [
       "       Case_Number                  Date    Year        Type  \\\n",
       "4415    1952.03.30           30-Mar-1952  1952.0  Unprovoked   \n",
       "5840  1878.09.14.R  Reported 14-Sep-1878  1878.0    Provoked   \n",
       "\n",
       "                   Country         Area                    Location  \\\n",
       "4415  NETHERLANDS ANTILLES      Curacao                         NaN   \n",
       "5840                   USA  Connecticut  Branford, New Haven County   \n",
       "\n",
       "                                             Activity              Name Sex  \\\n",
       "4415  Went to aid of child being menaced by the shark       A.J. Eggink   M   \n",
       "5840                                          Fishing  Captain Pattison   M   \n",
       "\n",
       "      ...                                            Species  \\\n",
       "4415  ...  Bull shark, 2.7 m [9'] was captured & dragged ...   \n",
       "5840  ...                                                NaN   \n",
       "\n",
       "                                                 Source  \\\n",
       "4415  J. Randall, p.352 in Sharks & Survival; H.D. B...   \n",
       "5840                       St. Joseph Herald, 9/14/1878   \n",
       "\n",
       "                            pdf  \\\n",
       "4415      1952.03.30-Eggink.pdf   \n",
       "5840  1878.09.14.R-Pattison.pdf   \n",
       "\n",
       "                                           href_formula  \\\n",
       "4415  http://sharkattackfile.net/spreadsheets/pdf_di...   \n",
       "5840  http://sharkattackfile.net/spreadsheets/pdf_di...   \n",
       "\n",
       "                                                   href Case_Number.1  \\\n",
       "4415  http://sharkattackfile.net/spreadsheets/pdf_di...    1952.03.30   \n",
       "5840  http://sharkattackfile.net/spreadsheets/pdf_di...  1878.09.14.R   \n",
       "\n",
       "     Case_Number.2 original_order Unnamed: 22      Unnamed: 23  \n",
       "4415    1952.03.30         1888.0         NaN           Teramo  \n",
       "5840  1878.09.14.R          463.0         NaN  change filename  \n",
       "\n",
       "[2 rows x 24 columns]"
      ]
     },
     "execution_count": 11,
     "metadata": {},
     "output_type": "execute_result"
    }
   ],
   "source": [
    "# Lo mismo con la columna 'Unnamed: 23'\n",
    "sharks[sharks['Unnamed: 23'].notnull() == True]"
   ]
  },
  {
   "cell_type": "code",
   "execution_count": 12,
   "metadata": {},
   "outputs": [],
   "source": [
    "#Borro columnas 'Unnamed: 22' y 'Unnamed: 23'\n",
    "del sharks['Unnamed: 22']\n",
    "del sharks['Unnamed: 23']"
   ]
  },
  {
   "cell_type": "code",
   "execution_count": 13,
   "metadata": {
    "scrolled": false
   },
   "outputs": [
    {
     "data": {
      "text/plain": [
       "Index(['Case_Number', 'Date', 'Year', 'Type', 'Country', 'Area', 'Location',\n",
       "       'Activity', 'Name', 'Sex', 'Age', 'Injury', 'Fatal_Y/N', 'Time',\n",
       "       'Species', 'Source', 'pdf', 'href_formula', 'href', 'Case_Number.1',\n",
       "       'Case_Number.2', 'original_order'],\n",
       "      dtype='object')"
      ]
     },
     "execution_count": 13,
     "metadata": {},
     "output_type": "execute_result"
    }
   ],
   "source": [
    "sharks.columns"
   ]
  },
  {
   "cell_type": "code",
   "execution_count": 14,
   "metadata": {},
   "outputs": [
    {
     "data": {
      "text/html": [
       "<div>\n",
       "<style scoped>\n",
       "    .dataframe tbody tr th:only-of-type {\n",
       "        vertical-align: middle;\n",
       "    }\n",
       "\n",
       "    .dataframe tbody tr th {\n",
       "        vertical-align: top;\n",
       "    }\n",
       "\n",
       "    .dataframe thead th {\n",
       "        text-align: right;\n",
       "    }\n",
       "</style>\n",
       "<table border=\"1\" class=\"dataframe\">\n",
       "  <thead>\n",
       "    <tr style=\"text-align: right;\">\n",
       "      <th></th>\n",
       "      <th>Age</th>\n",
       "      <th>Injury</th>\n",
       "      <th>Fatal_Y/N</th>\n",
       "      <th>Time</th>\n",
       "    </tr>\n",
       "  </thead>\n",
       "  <tbody>\n",
       "    <tr>\n",
       "      <th>0</th>\n",
       "      <td>57</td>\n",
       "      <td>No injury to occupant, outrigger canoe and pad...</td>\n",
       "      <td>N</td>\n",
       "      <td>18h00</td>\n",
       "    </tr>\n",
       "    <tr>\n",
       "      <th>1</th>\n",
       "      <td>11</td>\n",
       "      <td>Minor injury to left thigh</td>\n",
       "      <td>N</td>\n",
       "      <td>14h00  -15h00</td>\n",
       "    </tr>\n",
       "    <tr>\n",
       "      <th>2</th>\n",
       "      <td>48</td>\n",
       "      <td>Injury to left lower leg from surfboard skeg</td>\n",
       "      <td>N</td>\n",
       "      <td>07h45</td>\n",
       "    </tr>\n",
       "    <tr>\n",
       "      <th>3</th>\n",
       "      <td>NaN</td>\n",
       "      <td>Minor injury to lower leg</td>\n",
       "      <td>N</td>\n",
       "      <td>NaN</td>\n",
       "    </tr>\n",
       "    <tr>\n",
       "      <th>4</th>\n",
       "      <td>NaN</td>\n",
       "      <td>Lacerations to leg &amp; hand shark PROVOKED INCIDENT</td>\n",
       "      <td>N</td>\n",
       "      <td>NaN</td>\n",
       "    </tr>\n",
       "    <tr>\n",
       "      <th>...</th>\n",
       "      <td>...</td>\n",
       "      <td>...</td>\n",
       "      <td>...</td>\n",
       "      <td>...</td>\n",
       "    </tr>\n",
       "    <tr>\n",
       "      <th>25718</th>\n",
       "      <td>NaN</td>\n",
       "      <td>NaN</td>\n",
       "      <td>NaN</td>\n",
       "      <td>NaN</td>\n",
       "    </tr>\n",
       "    <tr>\n",
       "      <th>25719</th>\n",
       "      <td>NaN</td>\n",
       "      <td>NaN</td>\n",
       "      <td>NaN</td>\n",
       "      <td>NaN</td>\n",
       "    </tr>\n",
       "    <tr>\n",
       "      <th>25720</th>\n",
       "      <td>NaN</td>\n",
       "      <td>NaN</td>\n",
       "      <td>NaN</td>\n",
       "      <td>NaN</td>\n",
       "    </tr>\n",
       "    <tr>\n",
       "      <th>25721</th>\n",
       "      <td>NaN</td>\n",
       "      <td>NaN</td>\n",
       "      <td>NaN</td>\n",
       "      <td>NaN</td>\n",
       "    </tr>\n",
       "    <tr>\n",
       "      <th>25722</th>\n",
       "      <td>NaN</td>\n",
       "      <td>NaN</td>\n",
       "      <td>NaN</td>\n",
       "      <td>NaN</td>\n",
       "    </tr>\n",
       "  </tbody>\n",
       "</table>\n",
       "<p>25723 rows × 4 columns</p>\n",
       "</div>"
      ],
      "text/plain": [
       "       Age                                             Injury Fatal_Y/N  \\\n",
       "0       57  No injury to occupant, outrigger canoe and pad...         N   \n",
       "1       11                         Minor injury to left thigh         N   \n",
       "2       48       Injury to left lower leg from surfboard skeg         N   \n",
       "3      NaN                          Minor injury to lower leg         N   \n",
       "4      NaN  Lacerations to leg & hand shark PROVOKED INCIDENT         N   \n",
       "...    ...                                                ...       ...   \n",
       "25718  NaN                                                NaN       NaN   \n",
       "25719  NaN                                                NaN       NaN   \n",
       "25720  NaN                                                NaN       NaN   \n",
       "25721  NaN                                                NaN       NaN   \n",
       "25722  NaN                                                NaN       NaN   \n",
       "\n",
       "                Time  \n",
       "0              18h00  \n",
       "1      14h00  -15h00  \n",
       "2              07h45  \n",
       "3                NaN  \n",
       "4                NaN  \n",
       "...              ...  \n",
       "25718            NaN  \n",
       "25719            NaN  \n",
       "25720            NaN  \n",
       "25721            NaN  \n",
       "25722            NaN  \n",
       "\n",
       "[25723 rows x 4 columns]"
      ]
     },
     "execution_count": 14,
     "metadata": {},
     "output_type": "execute_result"
    }
   ],
   "source": [
    "#Visualizo las columnas que no podía ver arriba para ver el aspecto de los datos\n",
    "sharks.loc[:,'Age':'Time']"
   ]
  },
  {
   "cell_type": "code",
   "execution_count": 15,
   "metadata": {},
   "outputs": [
    {
     "data": {
      "text/html": [
       "<div>\n",
       "<style scoped>\n",
       "    .dataframe tbody tr th:only-of-type {\n",
       "        vertical-align: middle;\n",
       "    }\n",
       "\n",
       "    .dataframe tbody tr th {\n",
       "        vertical-align: top;\n",
       "    }\n",
       "\n",
       "    .dataframe thead th {\n",
       "        text-align: right;\n",
       "    }\n",
       "</style>\n",
       "<table border=\"1\" class=\"dataframe\">\n",
       "  <thead>\n",
       "    <tr style=\"text-align: right;\">\n",
       "      <th></th>\n",
       "      <th>Year</th>\n",
       "      <th>original_order</th>\n",
       "    </tr>\n",
       "  </thead>\n",
       "  <tbody>\n",
       "    <tr>\n",
       "      <th>count</th>\n",
       "      <td>6300.000000</td>\n",
       "      <td>6309.000000</td>\n",
       "    </tr>\n",
       "    <tr>\n",
       "      <th>mean</th>\n",
       "      <td>1927.272381</td>\n",
       "      <td>3155.999683</td>\n",
       "    </tr>\n",
       "    <tr>\n",
       "      <th>std</th>\n",
       "      <td>281.116308</td>\n",
       "      <td>1821.396206</td>\n",
       "    </tr>\n",
       "    <tr>\n",
       "      <th>min</th>\n",
       "      <td>0.000000</td>\n",
       "      <td>2.000000</td>\n",
       "    </tr>\n",
       "    <tr>\n",
       "      <th>25%</th>\n",
       "      <td>1942.000000</td>\n",
       "      <td>1579.000000</td>\n",
       "    </tr>\n",
       "    <tr>\n",
       "      <th>50%</th>\n",
       "      <td>1977.000000</td>\n",
       "      <td>3156.000000</td>\n",
       "    </tr>\n",
       "    <tr>\n",
       "      <th>75%</th>\n",
       "      <td>2005.000000</td>\n",
       "      <td>4733.000000</td>\n",
       "    </tr>\n",
       "    <tr>\n",
       "      <th>max</th>\n",
       "      <td>2018.000000</td>\n",
       "      <td>6310.000000</td>\n",
       "    </tr>\n",
       "  </tbody>\n",
       "</table>\n",
       "</div>"
      ],
      "text/plain": [
       "              Year  original_order\n",
       "count  6300.000000     6309.000000\n",
       "mean   1927.272381     3155.999683\n",
       "std     281.116308     1821.396206\n",
       "min       0.000000        2.000000\n",
       "25%    1942.000000     1579.000000\n",
       "50%    1977.000000     3156.000000\n",
       "75%    2005.000000     4733.000000\n",
       "max    2018.000000     6310.000000"
      ]
     },
     "execution_count": 15,
     "metadata": {},
     "output_type": "execute_result"
    }
   ],
   "source": [
    "#En este dataset el describe() no aporta gran cosa, ya que casi todas las varibles son categóricas\n",
    "#Las únicas numéricas son 'year' y 'original order'.\n",
    "sharks.describe()"
   ]
  },
  {
   "cell_type": "code",
   "execution_count": 16,
   "metadata": {},
   "outputs": [
    {
     "name": "stdout",
     "output_type": "stream",
     "text": [
      "(25723, 22)\n",
      "(25723, 22)\n",
      "(8703, 22)\n",
      "17020\n"
     ]
    }
   ],
   "source": [
    "#Compruebo si alguna fila o columna contiene todo Nan's\n",
    "print(sharks.shape)\n",
    "\n",
    "allnancol = sharks.dropna(axis = 1, how = 'all')\n",
    "print(allnancol.shape) #Ninguna columna tiene todos los valores NaN\n",
    "\n",
    "allnanrow = sharks.dropna(axis = 0, how = 'all')\n",
    "print(allnanrow.shape)\n",
    "print(sharks.shape[0]-allnanrow.shape[0]) # Hay 17020 filas sin ningún dato"
   ]
  },
  {
   "cell_type": "code",
   "execution_count": 17,
   "metadata": {},
   "outputs": [
    {
     "data": {
      "text/plain": [
       "(8703, 22)"
      ]
     },
     "execution_count": 17,
     "metadata": {},
     "output_type": "execute_result"
    }
   ],
   "source": [
    "#Borro las filas en las que todos los valores son NaN\n",
    "#Esto nos deja un set con 22 columnas y 8703 filas\n",
    "sharks.dropna(axis = 0, how = 'all',inplace = True)\n",
    "sharks.shape"
   ]
  },
  {
   "cell_type": "code",
   "execution_count": 18,
   "metadata": {
    "scrolled": false
   },
   "outputs": [
    {
     "data": {
      "text/html": [
       "<div>\n",
       "<style scoped>\n",
       "    .dataframe tbody tr th:only-of-type {\n",
       "        vertical-align: middle;\n",
       "    }\n",
       "\n",
       "    .dataframe tbody tr th {\n",
       "        vertical-align: top;\n",
       "    }\n",
       "\n",
       "    .dataframe thead th {\n",
       "        text-align: right;\n",
       "    }\n",
       "</style>\n",
       "<table border=\"1\" class=\"dataframe\">\n",
       "  <thead>\n",
       "    <tr style=\"text-align: right;\">\n",
       "      <th></th>\n",
       "      <th>Nulos</th>\n",
       "      <th>No_Nulos</th>\n",
       "      <th>ratio_nulos</th>\n",
       "    </tr>\n",
       "  </thead>\n",
       "  <tbody>\n",
       "    <tr>\n",
       "      <th>Case_Number</th>\n",
       "      <td>1</td>\n",
       "      <td>8702</td>\n",
       "      <td>0.01</td>\n",
       "    </tr>\n",
       "    <tr>\n",
       "      <th>Date</th>\n",
       "      <td>2401</td>\n",
       "      <td>6302</td>\n",
       "      <td>27.59</td>\n",
       "    </tr>\n",
       "    <tr>\n",
       "      <th>Year</th>\n",
       "      <td>2403</td>\n",
       "      <td>6300</td>\n",
       "      <td>27.61</td>\n",
       "    </tr>\n",
       "    <tr>\n",
       "      <th>Type</th>\n",
       "      <td>2405</td>\n",
       "      <td>6298</td>\n",
       "      <td>27.63</td>\n",
       "    </tr>\n",
       "    <tr>\n",
       "      <th>Country</th>\n",
       "      <td>2451</td>\n",
       "      <td>6252</td>\n",
       "      <td>28.16</td>\n",
       "    </tr>\n",
       "    <tr>\n",
       "      <th>Area</th>\n",
       "      <td>2856</td>\n",
       "      <td>5847</td>\n",
       "      <td>32.82</td>\n",
       "    </tr>\n",
       "    <tr>\n",
       "      <th>Location</th>\n",
       "      <td>2941</td>\n",
       "      <td>5762</td>\n",
       "      <td>33.79</td>\n",
       "    </tr>\n",
       "    <tr>\n",
       "      <th>Activity</th>\n",
       "      <td>2945</td>\n",
       "      <td>5758</td>\n",
       "      <td>33.84</td>\n",
       "    </tr>\n",
       "    <tr>\n",
       "      <th>Name</th>\n",
       "      <td>2611</td>\n",
       "      <td>6092</td>\n",
       "      <td>30.00</td>\n",
       "    </tr>\n",
       "    <tr>\n",
       "      <th>Sex</th>\n",
       "      <td>2966</td>\n",
       "      <td>5737</td>\n",
       "      <td>34.08</td>\n",
       "    </tr>\n",
       "    <tr>\n",
       "      <th>Age</th>\n",
       "      <td>5232</td>\n",
       "      <td>3471</td>\n",
       "      <td>60.12</td>\n",
       "    </tr>\n",
       "    <tr>\n",
       "      <th>Injury</th>\n",
       "      <td>2429</td>\n",
       "      <td>6274</td>\n",
       "      <td>27.91</td>\n",
       "    </tr>\n",
       "    <tr>\n",
       "      <th>Fatal_Y/N</th>\n",
       "      <td>2940</td>\n",
       "      <td>5763</td>\n",
       "      <td>33.78</td>\n",
       "    </tr>\n",
       "    <tr>\n",
       "      <th>Time</th>\n",
       "      <td>5755</td>\n",
       "      <td>2948</td>\n",
       "      <td>66.13</td>\n",
       "    </tr>\n",
       "    <tr>\n",
       "      <th>Species</th>\n",
       "      <td>5239</td>\n",
       "      <td>3464</td>\n",
       "      <td>60.20</td>\n",
       "    </tr>\n",
       "    <tr>\n",
       "      <th>Source</th>\n",
       "      <td>2418</td>\n",
       "      <td>6285</td>\n",
       "      <td>27.78</td>\n",
       "    </tr>\n",
       "    <tr>\n",
       "      <th>pdf</th>\n",
       "      <td>2401</td>\n",
       "      <td>6302</td>\n",
       "      <td>27.59</td>\n",
       "    </tr>\n",
       "    <tr>\n",
       "      <th>href_formula</th>\n",
       "      <td>2402</td>\n",
       "      <td>6301</td>\n",
       "      <td>27.60</td>\n",
       "    </tr>\n",
       "    <tr>\n",
       "      <th>href</th>\n",
       "      <td>2401</td>\n",
       "      <td>6302</td>\n",
       "      <td>27.59</td>\n",
       "    </tr>\n",
       "    <tr>\n",
       "      <th>Case_Number.1</th>\n",
       "      <td>2401</td>\n",
       "      <td>6302</td>\n",
       "      <td>27.59</td>\n",
       "    </tr>\n",
       "    <tr>\n",
       "      <th>Case_Number.2</th>\n",
       "      <td>2401</td>\n",
       "      <td>6302</td>\n",
       "      <td>27.59</td>\n",
       "    </tr>\n",
       "    <tr>\n",
       "      <th>original_order</th>\n",
       "      <td>2394</td>\n",
       "      <td>6309</td>\n",
       "      <td>27.51</td>\n",
       "    </tr>\n",
       "  </tbody>\n",
       "</table>\n",
       "</div>"
      ],
      "text/plain": [
       "                Nulos  No_Nulos  ratio_nulos\n",
       "Case_Number         1      8702         0.01\n",
       "Date             2401      6302        27.59\n",
       "Year             2403      6300        27.61\n",
       "Type             2405      6298        27.63\n",
       "Country          2451      6252        28.16\n",
       "Area             2856      5847        32.82\n",
       "Location         2941      5762        33.79\n",
       "Activity         2945      5758        33.84\n",
       "Name             2611      6092        30.00\n",
       "Sex              2966      5737        34.08\n",
       "Age              5232      3471        60.12\n",
       "Injury           2429      6274        27.91\n",
       "Fatal_Y/N        2940      5763        33.78\n",
       "Time             5755      2948        66.13\n",
       "Species          5239      3464        60.20\n",
       "Source           2418      6285        27.78\n",
       "pdf              2401      6302        27.59\n",
       "href_formula     2402      6301        27.60\n",
       "href             2401      6302        27.59\n",
       "Case_Number.1    2401      6302        27.59\n",
       "Case_Number.2    2401      6302        27.59\n",
       "original_order   2394      6309        27.51"
      ]
     },
     "execution_count": 18,
     "metadata": {},
     "output_type": "execute_result"
    }
   ],
   "source": [
    "#Confronto nulos  y no nulos por columnas para tener visualmente el porcentaje\n",
    "#de nulos por columna\n",
    "nulos = pd.DataFrame()\n",
    "nulos['Nulos'] = sharks.isnull().sum()\n",
    "nulos['No_Nulos'] = sharks.notnull().sum()\n",
    "nulos['ratio_nulos'] = round(sharks.isnull().sum()/sharks.shape[0]*100,2)\n",
    "nulos"
   ]
  },
  {
   "cell_type": "code",
   "execution_count": 19,
   "metadata": {},
   "outputs": [],
   "source": [
    "#Creo una columna de 1's para hacer agregaciones    \n",
    "sharks['unos'] = 1"
   ]
  },
  {
   "cell_type": "code",
   "execution_count": 20,
   "metadata": {
    "scrolled": true
   },
   "outputs": [
    {
     "data": {
      "text/plain": [
       "Index(['Case_Number', 'Date', 'Year', 'Type', 'Country', 'Area', 'Location',\n",
       "       'Activity', 'Name', 'Sex', 'Age', 'Injury', 'Fatal_Y/N', 'Time',\n",
       "       'Species', 'Source', 'pdf', 'href_formula', 'href', 'Case_Number.1',\n",
       "       'Case_Number.2', 'original_order', 'unos'],\n",
       "      dtype='object')"
      ]
     },
     "execution_count": 20,
     "metadata": {},
     "output_type": "execute_result"
    }
   ],
   "source": [
    "sharks.columns"
   ]
  },
  {
   "cell_type": "markdown",
   "metadata": {},
   "source": [
    "# Columnas que no voy a utilizar <a id=\"AC1\"></a>\n",
    "\n",
    "- Les sustituyo valores NaN por 'UNKNOWN'"
   ]
  },
  {
   "cell_type": "markdown",
   "metadata": {},
   "source": [
    "## Case_Number "
   ]
  },
  {
   "cell_type": "code",
   "execution_count": 21,
   "metadata": {
    "scrolled": true
   },
   "outputs": [
    {
     "data": {
      "text/html": [
       "<div>\n",
       "<style scoped>\n",
       "    .dataframe tbody tr th:only-of-type {\n",
       "        vertical-align: middle;\n",
       "    }\n",
       "\n",
       "    .dataframe tbody tr th {\n",
       "        vertical-align: top;\n",
       "    }\n",
       "\n",
       "    .dataframe thead th {\n",
       "        text-align: right;\n",
       "    }\n",
       "</style>\n",
       "<table border=\"1\" class=\"dataframe\">\n",
       "  <thead>\n",
       "    <tr style=\"text-align: right;\">\n",
       "      <th></th>\n",
       "      <th>unos</th>\n",
       "    </tr>\n",
       "    <tr>\n",
       "      <th>Case_Number</th>\n",
       "      <th></th>\n",
       "    </tr>\n",
       "  </thead>\n",
       "  <tbody>\n",
       "    <tr>\n",
       "      <th>0</th>\n",
       "      <td>2400</td>\n",
       "    </tr>\n",
       "    <tr>\n",
       "      <th>0000.0214</th>\n",
       "      <td>1</td>\n",
       "    </tr>\n",
       "    <tr>\n",
       "      <th>0000.0336</th>\n",
       "      <td>1</td>\n",
       "    </tr>\n",
       "    <tr>\n",
       "      <th>0000.0493</th>\n",
       "      <td>1</td>\n",
       "    </tr>\n",
       "    <tr>\n",
       "      <th>0000.0725</th>\n",
       "      <td>1</td>\n",
       "    </tr>\n",
       "    <tr>\n",
       "      <th>...</th>\n",
       "      <td>...</td>\n",
       "    </tr>\n",
       "    <tr>\n",
       "      <th>ND.0100</th>\n",
       "      <td>1</td>\n",
       "    </tr>\n",
       "    <tr>\n",
       "      <th>ND.0102</th>\n",
       "      <td>1</td>\n",
       "    </tr>\n",
       "    <tr>\n",
       "      <th>ND.0104</th>\n",
       "      <td>1</td>\n",
       "    </tr>\n",
       "    <tr>\n",
       "      <th>ND.0110</th>\n",
       "      <td>1</td>\n",
       "    </tr>\n",
       "    <tr>\n",
       "      <th>xx</th>\n",
       "      <td>1</td>\n",
       "    </tr>\n",
       "  </tbody>\n",
       "</table>\n",
       "<p>6287 rows × 1 columns</p>\n",
       "</div>"
      ],
      "text/plain": [
       "             unos\n",
       "Case_Number      \n",
       "0            2400\n",
       "0000.0214       1\n",
       "0000.0336       1\n",
       "0000.0493       1\n",
       "0000.0725       1\n",
       "...           ...\n",
       "ND.0100         1\n",
       "ND.0102         1\n",
       "ND.0104         1\n",
       "ND.0110         1\n",
       "xx              1\n",
       "\n",
       "[6287 rows x 1 columns]"
      ]
     },
     "execution_count": 21,
     "metadata": {},
     "output_type": "execute_result"
    }
   ],
   "source": [
    "'''\n",
    "El campo 'Case_Number' tiene un solo NaN, pero al mirar dentro de sus valores,\n",
    "se ve que 2400 registros tienen el valor '0' (str).\n",
    "'''\n",
    "sharks.groupby('Case_Number')[['unos']].sum()"
   ]
  },
  {
   "cell_type": "code",
   "execution_count": 22,
   "metadata": {
    "scrolled": true
   },
   "outputs": [
    {
     "data": {
      "text/html": [
       "<div>\n",
       "<style scoped>\n",
       "    .dataframe tbody tr th:only-of-type {\n",
       "        vertical-align: middle;\n",
       "    }\n",
       "\n",
       "    .dataframe tbody tr th {\n",
       "        vertical-align: top;\n",
       "    }\n",
       "\n",
       "    .dataframe thead th {\n",
       "        text-align: right;\n",
       "    }\n",
       "</style>\n",
       "<table border=\"1\" class=\"dataframe\">\n",
       "  <thead>\n",
       "    <tr style=\"text-align: right;\">\n",
       "      <th></th>\n",
       "      <th>Case_Number</th>\n",
       "      <th>Date</th>\n",
       "      <th>Year</th>\n",
       "      <th>Type</th>\n",
       "      <th>Country</th>\n",
       "      <th>Area</th>\n",
       "      <th>Location</th>\n",
       "      <th>Activity</th>\n",
       "      <th>Name</th>\n",
       "      <th>Sex</th>\n",
       "      <th>...</th>\n",
       "      <th>Time</th>\n",
       "      <th>Species</th>\n",
       "      <th>Source</th>\n",
       "      <th>pdf</th>\n",
       "      <th>href_formula</th>\n",
       "      <th>href</th>\n",
       "      <th>Case_Number.1</th>\n",
       "      <th>Case_Number.2</th>\n",
       "      <th>original_order</th>\n",
       "      <th>unos</th>\n",
       "    </tr>\n",
       "  </thead>\n",
       "  <tbody>\n",
       "    <tr>\n",
       "      <th>6302</th>\n",
       "      <td>0</td>\n",
       "      <td>NaN</td>\n",
       "      <td>NaN</td>\n",
       "      <td>NaN</td>\n",
       "      <td>NaN</td>\n",
       "      <td>NaN</td>\n",
       "      <td>NaN</td>\n",
       "      <td>NaN</td>\n",
       "      <td>NaN</td>\n",
       "      <td>NaN</td>\n",
       "      <td>...</td>\n",
       "      <td>NaN</td>\n",
       "      <td>NaN</td>\n",
       "      <td>NaN</td>\n",
       "      <td>NaN</td>\n",
       "      <td>NaN</td>\n",
       "      <td>NaN</td>\n",
       "      <td>NaN</td>\n",
       "      <td>NaN</td>\n",
       "      <td>6304.0</td>\n",
       "      <td>1</td>\n",
       "    </tr>\n",
       "    <tr>\n",
       "      <th>6303</th>\n",
       "      <td>0</td>\n",
       "      <td>NaN</td>\n",
       "      <td>NaN</td>\n",
       "      <td>NaN</td>\n",
       "      <td>NaN</td>\n",
       "      <td>NaN</td>\n",
       "      <td>NaN</td>\n",
       "      <td>NaN</td>\n",
       "      <td>NaN</td>\n",
       "      <td>NaN</td>\n",
       "      <td>...</td>\n",
       "      <td>NaN</td>\n",
       "      <td>NaN</td>\n",
       "      <td>NaN</td>\n",
       "      <td>NaN</td>\n",
       "      <td>NaN</td>\n",
       "      <td>NaN</td>\n",
       "      <td>NaN</td>\n",
       "      <td>NaN</td>\n",
       "      <td>6305.0</td>\n",
       "      <td>1</td>\n",
       "    </tr>\n",
       "    <tr>\n",
       "      <th>6304</th>\n",
       "      <td>0</td>\n",
       "      <td>NaN</td>\n",
       "      <td>NaN</td>\n",
       "      <td>NaN</td>\n",
       "      <td>NaN</td>\n",
       "      <td>NaN</td>\n",
       "      <td>NaN</td>\n",
       "      <td>NaN</td>\n",
       "      <td>NaN</td>\n",
       "      <td>NaN</td>\n",
       "      <td>...</td>\n",
       "      <td>NaN</td>\n",
       "      <td>NaN</td>\n",
       "      <td>NaN</td>\n",
       "      <td>NaN</td>\n",
       "      <td>NaN</td>\n",
       "      <td>NaN</td>\n",
       "      <td>NaN</td>\n",
       "      <td>NaN</td>\n",
       "      <td>6306.0</td>\n",
       "      <td>1</td>\n",
       "    </tr>\n",
       "    <tr>\n",
       "      <th>6305</th>\n",
       "      <td>0</td>\n",
       "      <td>NaN</td>\n",
       "      <td>NaN</td>\n",
       "      <td>NaN</td>\n",
       "      <td>NaN</td>\n",
       "      <td>NaN</td>\n",
       "      <td>NaN</td>\n",
       "      <td>NaN</td>\n",
       "      <td>NaN</td>\n",
       "      <td>NaN</td>\n",
       "      <td>...</td>\n",
       "      <td>NaN</td>\n",
       "      <td>NaN</td>\n",
       "      <td>NaN</td>\n",
       "      <td>NaN</td>\n",
       "      <td>NaN</td>\n",
       "      <td>NaN</td>\n",
       "      <td>NaN</td>\n",
       "      <td>NaN</td>\n",
       "      <td>6307.0</td>\n",
       "      <td>1</td>\n",
       "    </tr>\n",
       "    <tr>\n",
       "      <th>6306</th>\n",
       "      <td>0</td>\n",
       "      <td>NaN</td>\n",
       "      <td>NaN</td>\n",
       "      <td>NaN</td>\n",
       "      <td>NaN</td>\n",
       "      <td>NaN</td>\n",
       "      <td>NaN</td>\n",
       "      <td>NaN</td>\n",
       "      <td>NaN</td>\n",
       "      <td>NaN</td>\n",
       "      <td>...</td>\n",
       "      <td>NaN</td>\n",
       "      <td>NaN</td>\n",
       "      <td>NaN</td>\n",
       "      <td>NaN</td>\n",
       "      <td>NaN</td>\n",
       "      <td>NaN</td>\n",
       "      <td>NaN</td>\n",
       "      <td>NaN</td>\n",
       "      <td>6308.0</td>\n",
       "      <td>1</td>\n",
       "    </tr>\n",
       "    <tr>\n",
       "      <th>...</th>\n",
       "      <td>...</td>\n",
       "      <td>...</td>\n",
       "      <td>...</td>\n",
       "      <td>...</td>\n",
       "      <td>...</td>\n",
       "      <td>...</td>\n",
       "      <td>...</td>\n",
       "      <td>...</td>\n",
       "      <td>...</td>\n",
       "      <td>...</td>\n",
       "      <td>...</td>\n",
       "      <td>...</td>\n",
       "      <td>...</td>\n",
       "      <td>...</td>\n",
       "      <td>...</td>\n",
       "      <td>...</td>\n",
       "      <td>...</td>\n",
       "      <td>...</td>\n",
       "      <td>...</td>\n",
       "      <td>...</td>\n",
       "      <td>...</td>\n",
       "    </tr>\n",
       "    <tr>\n",
       "      <th>8697</th>\n",
       "      <td>0</td>\n",
       "      <td>NaN</td>\n",
       "      <td>NaN</td>\n",
       "      <td>NaN</td>\n",
       "      <td>NaN</td>\n",
       "      <td>NaN</td>\n",
       "      <td>NaN</td>\n",
       "      <td>NaN</td>\n",
       "      <td>NaN</td>\n",
       "      <td>NaN</td>\n",
       "      <td>...</td>\n",
       "      <td>NaN</td>\n",
       "      <td>NaN</td>\n",
       "      <td>NaN</td>\n",
       "      <td>NaN</td>\n",
       "      <td>NaN</td>\n",
       "      <td>NaN</td>\n",
       "      <td>NaN</td>\n",
       "      <td>NaN</td>\n",
       "      <td>NaN</td>\n",
       "      <td>1</td>\n",
       "    </tr>\n",
       "    <tr>\n",
       "      <th>8698</th>\n",
       "      <td>0</td>\n",
       "      <td>NaN</td>\n",
       "      <td>NaN</td>\n",
       "      <td>NaN</td>\n",
       "      <td>NaN</td>\n",
       "      <td>NaN</td>\n",
       "      <td>NaN</td>\n",
       "      <td>NaN</td>\n",
       "      <td>NaN</td>\n",
       "      <td>NaN</td>\n",
       "      <td>...</td>\n",
       "      <td>NaN</td>\n",
       "      <td>NaN</td>\n",
       "      <td>NaN</td>\n",
       "      <td>NaN</td>\n",
       "      <td>NaN</td>\n",
       "      <td>NaN</td>\n",
       "      <td>NaN</td>\n",
       "      <td>NaN</td>\n",
       "      <td>NaN</td>\n",
       "      <td>1</td>\n",
       "    </tr>\n",
       "    <tr>\n",
       "      <th>8699</th>\n",
       "      <td>0</td>\n",
       "      <td>NaN</td>\n",
       "      <td>NaN</td>\n",
       "      <td>NaN</td>\n",
       "      <td>NaN</td>\n",
       "      <td>NaN</td>\n",
       "      <td>NaN</td>\n",
       "      <td>NaN</td>\n",
       "      <td>NaN</td>\n",
       "      <td>NaN</td>\n",
       "      <td>...</td>\n",
       "      <td>NaN</td>\n",
       "      <td>NaN</td>\n",
       "      <td>NaN</td>\n",
       "      <td>NaN</td>\n",
       "      <td>NaN</td>\n",
       "      <td>NaN</td>\n",
       "      <td>NaN</td>\n",
       "      <td>NaN</td>\n",
       "      <td>NaN</td>\n",
       "      <td>1</td>\n",
       "    </tr>\n",
       "    <tr>\n",
       "      <th>8700</th>\n",
       "      <td>0</td>\n",
       "      <td>NaN</td>\n",
       "      <td>NaN</td>\n",
       "      <td>NaN</td>\n",
       "      <td>NaN</td>\n",
       "      <td>NaN</td>\n",
       "      <td>NaN</td>\n",
       "      <td>NaN</td>\n",
       "      <td>NaN</td>\n",
       "      <td>NaN</td>\n",
       "      <td>...</td>\n",
       "      <td>NaN</td>\n",
       "      <td>NaN</td>\n",
       "      <td>NaN</td>\n",
       "      <td>NaN</td>\n",
       "      <td>NaN</td>\n",
       "      <td>NaN</td>\n",
       "      <td>NaN</td>\n",
       "      <td>NaN</td>\n",
       "      <td>NaN</td>\n",
       "      <td>1</td>\n",
       "    </tr>\n",
       "    <tr>\n",
       "      <th>8701</th>\n",
       "      <td>0</td>\n",
       "      <td>NaN</td>\n",
       "      <td>NaN</td>\n",
       "      <td>NaN</td>\n",
       "      <td>NaN</td>\n",
       "      <td>NaN</td>\n",
       "      <td>NaN</td>\n",
       "      <td>NaN</td>\n",
       "      <td>NaN</td>\n",
       "      <td>NaN</td>\n",
       "      <td>...</td>\n",
       "      <td>NaN</td>\n",
       "      <td>NaN</td>\n",
       "      <td>NaN</td>\n",
       "      <td>NaN</td>\n",
       "      <td>NaN</td>\n",
       "      <td>NaN</td>\n",
       "      <td>NaN</td>\n",
       "      <td>NaN</td>\n",
       "      <td>NaN</td>\n",
       "      <td>1</td>\n",
       "    </tr>\n",
       "  </tbody>\n",
       "</table>\n",
       "<p>2400 rows × 23 columns</p>\n",
       "</div>"
      ],
      "text/plain": [
       "     Case_Number Date  Year Type Country Area Location Activity Name  Sex  \\\n",
       "6302           0  NaN   NaN  NaN     NaN  NaN      NaN      NaN  NaN  NaN   \n",
       "6303           0  NaN   NaN  NaN     NaN  NaN      NaN      NaN  NaN  NaN   \n",
       "6304           0  NaN   NaN  NaN     NaN  NaN      NaN      NaN  NaN  NaN   \n",
       "6305           0  NaN   NaN  NaN     NaN  NaN      NaN      NaN  NaN  NaN   \n",
       "6306           0  NaN   NaN  NaN     NaN  NaN      NaN      NaN  NaN  NaN   \n",
       "...          ...  ...   ...  ...     ...  ...      ...      ...  ...  ...   \n",
       "8697           0  NaN   NaN  NaN     NaN  NaN      NaN      NaN  NaN  NaN   \n",
       "8698           0  NaN   NaN  NaN     NaN  NaN      NaN      NaN  NaN  NaN   \n",
       "8699           0  NaN   NaN  NaN     NaN  NaN      NaN      NaN  NaN  NaN   \n",
       "8700           0  NaN   NaN  NaN     NaN  NaN      NaN      NaN  NaN  NaN   \n",
       "8701           0  NaN   NaN  NaN     NaN  NaN      NaN      NaN  NaN  NaN   \n",
       "\n",
       "      ... Time Species Source  pdf href_formula href Case_Number.1  \\\n",
       "6302  ...  NaN     NaN    NaN  NaN          NaN  NaN           NaN   \n",
       "6303  ...  NaN     NaN    NaN  NaN          NaN  NaN           NaN   \n",
       "6304  ...  NaN     NaN    NaN  NaN          NaN  NaN           NaN   \n",
       "6305  ...  NaN     NaN    NaN  NaN          NaN  NaN           NaN   \n",
       "6306  ...  NaN     NaN    NaN  NaN          NaN  NaN           NaN   \n",
       "...   ...  ...     ...    ...  ...          ...  ...           ...   \n",
       "8697  ...  NaN     NaN    NaN  NaN          NaN  NaN           NaN   \n",
       "8698  ...  NaN     NaN    NaN  NaN          NaN  NaN           NaN   \n",
       "8699  ...  NaN     NaN    NaN  NaN          NaN  NaN           NaN   \n",
       "8700  ...  NaN     NaN    NaN  NaN          NaN  NaN           NaN   \n",
       "8701  ...  NaN     NaN    NaN  NaN          NaN  NaN           NaN   \n",
       "\n",
       "     Case_Number.2 original_order unos  \n",
       "6302           NaN         6304.0    1  \n",
       "6303           NaN         6305.0    1  \n",
       "6304           NaN         6306.0    1  \n",
       "6305           NaN         6307.0    1  \n",
       "6306           NaN         6308.0    1  \n",
       "...            ...            ...  ...  \n",
       "8697           NaN            NaN    1  \n",
       "8698           NaN            NaN    1  \n",
       "8699           NaN            NaN    1  \n",
       "8700           NaN            NaN    1  \n",
       "8701           NaN            NaN    1  \n",
       "\n",
       "[2400 rows x 23 columns]"
      ]
     },
     "execution_count": 22,
     "metadata": {},
     "output_type": "execute_result"
    }
   ],
   "source": [
    "#A primera vista parece que las filas en las que el case_number es 0, también son todo Nan\n",
    "sharks[sharks['Case_Number']=='0']"
   ]
  },
  {
   "cell_type": "code",
   "execution_count": 23,
   "metadata": {
    "scrolled": true
   },
   "outputs": [
    {
     "name": "stdout",
     "output_type": "stream",
     "text": [
      "[0, 2400, 2400, 2400, 2400, 2400, 2400, 2400, 2400, 2400, 2400, 2400, 2400, 2400, 2400, 2400, 2400, 2400, 2400, 2400, 2400, 2393, 0]\n"
     ]
    }
   ],
   "source": [
    "#Hago una lista con la cantidad de NaNs por columna en los que el valor de\n",
    "#case_number es 0. Se observa que son filas sin información.\n",
    "listanans = []\n",
    "case0 = sharks.loc[sharks['Case_Number']=='0',:]\n",
    "for i in range(23):\n",
    "    \n",
    "    listanans.append(case0.iloc[:,i].isnull().sum())\n",
    "    \n",
    "print(listanans)"
   ]
  },
  {
   "cell_type": "code",
   "execution_count": 24,
   "metadata": {},
   "outputs": [],
   "source": [
    "#La última columna es la de 'unos', se ve que todos son NaN excepto 7 de la columna\n",
    "#'original_order'. Borro estas 2400 líneas ya que no aportan información alguna:\n",
    "\n",
    "sharks.drop(sharks.loc[sharks['Case_Number']=='0'].index, inplace=True)\n",
    "sharks.drop(sharks.loc[sharks['Case_Number']=='xx'].index, inplace=True)"
   ]
  },
  {
   "cell_type": "code",
   "execution_count": 25,
   "metadata": {},
   "outputs": [],
   "source": [
    "#Solo hay un Nan en esta columna, lo convierto en 'UNKNOWN'\n",
    "sharks['Case_Number'].fillna('UNKNOWN', inplace = True)"
   ]
  },
  {
   "cell_type": "markdown",
   "metadata": {},
   "source": [
    "## Area"
   ]
  },
  {
   "cell_type": "code",
   "execution_count": 26,
   "metadata": {},
   "outputs": [
    {
     "data": {
      "text/html": [
       "<div>\n",
       "<style scoped>\n",
       "    .dataframe tbody tr th:only-of-type {\n",
       "        vertical-align: middle;\n",
       "    }\n",
       "\n",
       "    .dataframe tbody tr th {\n",
       "        vertical-align: top;\n",
       "    }\n",
       "\n",
       "    .dataframe thead th {\n",
       "        text-align: right;\n",
       "    }\n",
       "</style>\n",
       "<table border=\"1\" class=\"dataframe\">\n",
       "  <thead>\n",
       "    <tr style=\"text-align: right;\">\n",
       "      <th></th>\n",
       "      <th>unos</th>\n",
       "    </tr>\n",
       "    <tr>\n",
       "      <th>Area</th>\n",
       "      <th></th>\n",
       "    </tr>\n",
       "  </thead>\n",
       "  <tbody>\n",
       "    <tr>\n",
       "      <th>Florida</th>\n",
       "      <td>1037</td>\n",
       "    </tr>\n",
       "    <tr>\n",
       "      <th>New South Wales</th>\n",
       "      <td>486</td>\n",
       "    </tr>\n",
       "    <tr>\n",
       "      <th>Queensland</th>\n",
       "      <td>311</td>\n",
       "    </tr>\n",
       "    <tr>\n",
       "      <th>Hawaii</th>\n",
       "      <td>298</td>\n",
       "    </tr>\n",
       "    <tr>\n",
       "      <th>California</th>\n",
       "      <td>290</td>\n",
       "    </tr>\n",
       "    <tr>\n",
       "      <th>...</th>\n",
       "      <td>...</td>\n",
       "    </tr>\n",
       "    <tr>\n",
       "      <th>Illeginni Atoll</th>\n",
       "      <td>1</td>\n",
       "    </tr>\n",
       "    <tr>\n",
       "      <th>Illinois</th>\n",
       "      <td>1</td>\n",
       "    </tr>\n",
       "    <tr>\n",
       "      <th>Imperia Province</th>\n",
       "      <td>1</td>\n",
       "    </tr>\n",
       "    <tr>\n",
       "      <th>In Convoy OB 274</th>\n",
       "      <td>1</td>\n",
       "    </tr>\n",
       "    <tr>\n",
       "      <th>Madeira Islands</th>\n",
       "      <td>1</td>\n",
       "    </tr>\n",
       "  </tbody>\n",
       "</table>\n",
       "<p>825 rows × 1 columns</p>\n",
       "</div>"
      ],
      "text/plain": [
       "                  unos\n",
       "Area                  \n",
       "Florida           1037\n",
       "New South Wales    486\n",
       "Queensland         311\n",
       "Hawaii             298\n",
       "California         290\n",
       "...                ...\n",
       "Illeginni Atoll      1\n",
       "Illinois             1\n",
       "Imperia Province     1\n",
       "In Convoy OB 274     1\n",
       "Madeira Islands      1\n",
       "\n",
       "[825 rows x 1 columns]"
      ]
     },
     "execution_count": 26,
     "metadata": {},
     "output_type": "execute_result"
    }
   ],
   "source": [
    "#Región del ataque, el análisis será por países, no hago nada, solo quito Nan's\n",
    "sharks.groupby('Area')[['unos']].sum().sort_values('unos', ascending = False)"
   ]
  },
  {
   "cell_type": "code",
   "execution_count": 27,
   "metadata": {},
   "outputs": [],
   "source": [
    "sharks['Area'].fillna('UNKNOWN', inplace = True)"
   ]
  },
  {
   "cell_type": "markdown",
   "metadata": {},
   "source": [
    "## Location"
   ]
  },
  {
   "cell_type": "code",
   "execution_count": 28,
   "metadata": {},
   "outputs": [
    {
     "data": {
      "text/html": [
       "<div>\n",
       "<style scoped>\n",
       "    .dataframe tbody tr th:only-of-type {\n",
       "        vertical-align: middle;\n",
       "    }\n",
       "\n",
       "    .dataframe tbody tr th {\n",
       "        vertical-align: top;\n",
       "    }\n",
       "\n",
       "    .dataframe thead th {\n",
       "        text-align: right;\n",
       "    }\n",
       "</style>\n",
       "<table border=\"1\" class=\"dataframe\">\n",
       "  <thead>\n",
       "    <tr style=\"text-align: right;\">\n",
       "      <th></th>\n",
       "      <th>unos</th>\n",
       "    </tr>\n",
       "    <tr>\n",
       "      <th>Location</th>\n",
       "      <th></th>\n",
       "    </tr>\n",
       "  </thead>\n",
       "  <tbody>\n",
       "    <tr>\n",
       "      <th>New Smyrna Beach, Volusia County</th>\n",
       "      <td>163</td>\n",
       "    </tr>\n",
       "    <tr>\n",
       "      <th>Daytona Beach, Volusia County</th>\n",
       "      <td>30</td>\n",
       "    </tr>\n",
       "    <tr>\n",
       "      <th>Ponce Inlet, Volusia County</th>\n",
       "      <td>20</td>\n",
       "    </tr>\n",
       "    <tr>\n",
       "      <th>Melbourne Beach, Brevard County</th>\n",
       "      <td>18</td>\n",
       "    </tr>\n",
       "    <tr>\n",
       "      <th>Myrtle Beach, Horry County</th>\n",
       "      <td>17</td>\n",
       "    </tr>\n",
       "    <tr>\n",
       "      <th>...</th>\n",
       "      <td>...</td>\n",
       "    </tr>\n",
       "    <tr>\n",
       "      <th>Howard E. Futch Memorial Park at Paradise Beach, Brevard County</th>\n",
       "      <td>1</td>\n",
       "    </tr>\n",
       "    <tr>\n",
       "      <th>Huahine</th>\n",
       "      <td>1</td>\n",
       "    </tr>\n",
       "    <tr>\n",
       "      <th>Hugenot Beach , Jacksonville, Duval County</th>\n",
       "      <td>1</td>\n",
       "    </tr>\n",
       "    <tr>\n",
       "      <th>Huguenot Memorial Park, Duval County</th>\n",
       "      <td>1</td>\n",
       "    </tr>\n",
       "    <tr>\n",
       "      <th>Île de Sable</th>\n",
       "      <td>1</td>\n",
       "    </tr>\n",
       "  </tbody>\n",
       "</table>\n",
       "<p>4108 rows × 1 columns</p>\n",
       "</div>"
      ],
      "text/plain": [
       "                                                    unos\n",
       "Location                                                \n",
       "New Smyrna Beach, Volusia County                     163\n",
       "Daytona Beach, Volusia County                         30\n",
       "Ponce Inlet, Volusia County                           20\n",
       "Melbourne Beach, Brevard County                       18\n",
       "Myrtle Beach, Horry County                            17\n",
       "...                                                  ...\n",
       "Howard E. Futch Memorial Park at Paradise Beach...     1\n",
       "Huahine                                                1\n",
       "Hugenot Beach , Jacksonville, Duval County             1\n",
       "Huguenot Memorial Park, Duval County                   1\n",
       "Île de Sable                                           1\n",
       "\n",
       "[4108 rows x 1 columns]"
      ]
     },
     "execution_count": 28,
     "metadata": {},
     "output_type": "execute_result"
    }
   ],
   "source": [
    "#Zona del ataque dentro de la región, solo quito Nan's\n",
    "sharks.groupby('Location')[['unos']].sum().sort_values('unos', ascending = False)"
   ]
  },
  {
   "cell_type": "code",
   "execution_count": 29,
   "metadata": {},
   "outputs": [],
   "source": [
    "sharks['Location'].fillna('UNKNOWN', inplace = True)"
   ]
  },
  {
   "cell_type": "markdown",
   "metadata": {},
   "source": [
    "## Name"
   ]
  },
  {
   "cell_type": "code",
   "execution_count": 30,
   "metadata": {},
   "outputs": [
    {
     "data": {
      "text/html": [
       "<div>\n",
       "<style scoped>\n",
       "    .dataframe tbody tr th:only-of-type {\n",
       "        vertical-align: middle;\n",
       "    }\n",
       "\n",
       "    .dataframe tbody tr th {\n",
       "        vertical-align: top;\n",
       "    }\n",
       "\n",
       "    .dataframe thead th {\n",
       "        text-align: right;\n",
       "    }\n",
       "</style>\n",
       "<table border=\"1\" class=\"dataframe\">\n",
       "  <thead>\n",
       "    <tr style=\"text-align: right;\">\n",
       "      <th></th>\n",
       "      <th>unos</th>\n",
       "    </tr>\n",
       "    <tr>\n",
       "      <th>Name</th>\n",
       "      <th></th>\n",
       "    </tr>\n",
       "  </thead>\n",
       "  <tbody>\n",
       "    <tr>\n",
       "      <th>male</th>\n",
       "      <td>550</td>\n",
       "    </tr>\n",
       "    <tr>\n",
       "      <th>female</th>\n",
       "      <td>97</td>\n",
       "    </tr>\n",
       "    <tr>\n",
       "      <th>boy</th>\n",
       "      <td>23</td>\n",
       "    </tr>\n",
       "    <tr>\n",
       "      <th>2 males</th>\n",
       "      <td>16</td>\n",
       "    </tr>\n",
       "    <tr>\n",
       "      <th>boat</th>\n",
       "      <td>14</td>\n",
       "    </tr>\n",
       "    <tr>\n",
       "      <th>...</th>\n",
       "      <td>...</td>\n",
       "    </tr>\n",
       "    <tr>\n",
       "      <th>George Wright</th>\n",
       "      <td>1</td>\n",
       "    </tr>\n",
       "    <tr>\n",
       "      <th>George Walter</th>\n",
       "      <td>1</td>\n",
       "    </tr>\n",
       "    <tr>\n",
       "      <th>George Wainwright</th>\n",
       "      <td>1</td>\n",
       "    </tr>\n",
       "    <tr>\n",
       "      <th>George Vanderbilt</th>\n",
       "      <td>1</td>\n",
       "    </tr>\n",
       "    <tr>\n",
       "      <th>young male</th>\n",
       "      <td>1</td>\n",
       "    </tr>\n",
       "  </tbody>\n",
       "</table>\n",
       "<p>5230 rows × 1 columns</p>\n",
       "</div>"
      ],
      "text/plain": [
       "                   unos\n",
       "Name                   \n",
       "male                550\n",
       "female               97\n",
       "boy                  23\n",
       "2 males              16\n",
       "boat                 14\n",
       "...                 ...\n",
       "George Wright         1\n",
       "George Walter         1\n",
       "George Wainwright     1\n",
       "George Vanderbilt     1\n",
       "young male            1\n",
       "\n",
       "[5230 rows x 1 columns]"
      ]
     },
     "execution_count": 30,
     "metadata": {},
     "output_type": "execute_result"
    }
   ],
   "source": [
    "#Nombre de la persona, no está completo, algunos registros tienen género u otros \n",
    "#valores erróneos\n",
    "sharks.groupby('Name')[['unos']].sum().sort_values('unos', ascending = False)"
   ]
  },
  {
   "cell_type": "code",
   "execution_count": 31,
   "metadata": {},
   "outputs": [],
   "source": [
    "sharks['Name'].fillna('UNKNOWN', inplace = True)"
   ]
  },
  {
   "cell_type": "markdown",
   "metadata": {},
   "source": [
    "## Injury"
   ]
  },
  {
   "cell_type": "code",
   "execution_count": 32,
   "metadata": {},
   "outputs": [
    {
     "data": {
      "text/html": [
       "<div>\n",
       "<style scoped>\n",
       "    .dataframe tbody tr th:only-of-type {\n",
       "        vertical-align: middle;\n",
       "    }\n",
       "\n",
       "    .dataframe tbody tr th {\n",
       "        vertical-align: top;\n",
       "    }\n",
       "\n",
       "    .dataframe thead th {\n",
       "        text-align: right;\n",
       "    }\n",
       "</style>\n",
       "<table border=\"1\" class=\"dataframe\">\n",
       "  <thead>\n",
       "    <tr style=\"text-align: right;\">\n",
       "      <th></th>\n",
       "      <th>unos</th>\n",
       "    </tr>\n",
       "    <tr>\n",
       "      <th>Injury</th>\n",
       "      <th></th>\n",
       "    </tr>\n",
       "  </thead>\n",
       "  <tbody>\n",
       "    <tr>\n",
       "      <th>FATAL</th>\n",
       "      <td>802</td>\n",
       "    </tr>\n",
       "    <tr>\n",
       "      <th>Survived</th>\n",
       "      <td>97</td>\n",
       "    </tr>\n",
       "    <tr>\n",
       "      <th>Foot bitten</th>\n",
       "      <td>87</td>\n",
       "    </tr>\n",
       "    <tr>\n",
       "      <th>No injury</th>\n",
       "      <td>82</td>\n",
       "    </tr>\n",
       "    <tr>\n",
       "      <th>Leg bitten</th>\n",
       "      <td>72</td>\n",
       "    </tr>\n",
       "    <tr>\n",
       "      <th>...</th>\n",
       "      <td>...</td>\n",
       "    </tr>\n",
       "    <tr>\n",
       "      <th>He was was bitten on the arm by small sharks &amp; died, but it was not clear if he died as result of the bite or death resulted from drowing</th>\n",
       "      <td>1</td>\n",
       "    </tr>\n",
       "    <tr>\n",
       "      <th>Head &amp; arm bitten</th>\n",
       "      <td>1</td>\n",
       "    </tr>\n",
       "    <tr>\n",
       "      <th>Head &amp; torso bitten</th>\n",
       "      <td>1</td>\n",
       "    </tr>\n",
       "    <tr>\n",
       "      <th>Head bitten by captive shark PROVOKED INCIDENT</th>\n",
       "      <td>1</td>\n",
       "    </tr>\n",
       "    <tr>\n",
       "      <th>Put hand through hatch, shark nearly bit off thumb</th>\n",
       "      <td>1</td>\n",
       "    </tr>\n",
       "  </tbody>\n",
       "</table>\n",
       "<p>3737 rows × 1 columns</p>\n",
       "</div>"
      ],
      "text/plain": [
       "                                                    unos\n",
       "Injury                                                  \n",
       "FATAL                                                802\n",
       "Survived                                              97\n",
       "Foot bitten                                           87\n",
       "No injury                                             82\n",
       "Leg bitten                                            72\n",
       "...                                                  ...\n",
       "He was was bitten on the arm by small sharks & ...     1\n",
       "Head & arm bitten                                      1\n",
       "Head & torso bitten                                    1\n",
       "Head bitten by captive shark PROVOKED INCIDENT         1\n",
       "Put hand through hatch, shark nearly bit off t...     1\n",
       "\n",
       "[3737 rows x 1 columns]"
      ]
     },
     "execution_count": 32,
     "metadata": {},
     "output_type": "execute_result"
    }
   ],
   "source": [
    "#Consecuencias producidas por el ataque, no sigue un criterio, usaré sólo 'Fatal_Y/N'\n",
    "sharks.groupby('Injury')[['unos']].sum().sort_values('unos', ascending = False)"
   ]
  },
  {
   "cell_type": "code",
   "execution_count": 33,
   "metadata": {},
   "outputs": [],
   "source": [
    "sharks['Injury'].fillna('UNKNOWN', inplace = True)"
   ]
  },
  {
   "cell_type": "markdown",
   "metadata": {},
   "source": [
    "## Species"
   ]
  },
  {
   "cell_type": "code",
   "execution_count": 34,
   "metadata": {},
   "outputs": [
    {
     "data": {
      "text/html": [
       "<div>\n",
       "<style scoped>\n",
       "    .dataframe tbody tr th:only-of-type {\n",
       "        vertical-align: middle;\n",
       "    }\n",
       "\n",
       "    .dataframe tbody tr th {\n",
       "        vertical-align: top;\n",
       "    }\n",
       "\n",
       "    .dataframe thead th {\n",
       "        text-align: right;\n",
       "    }\n",
       "</style>\n",
       "<table border=\"1\" class=\"dataframe\">\n",
       "  <thead>\n",
       "    <tr style=\"text-align: right;\">\n",
       "      <th></th>\n",
       "      <th>unos</th>\n",
       "    </tr>\n",
       "    <tr>\n",
       "      <th>Species</th>\n",
       "      <th></th>\n",
       "    </tr>\n",
       "  </thead>\n",
       "  <tbody>\n",
       "    <tr>\n",
       "      <th>White shark</th>\n",
       "      <td>163</td>\n",
       "    </tr>\n",
       "    <tr>\n",
       "      <th>Shark involvement prior to death was not confirmed</th>\n",
       "      <td>105</td>\n",
       "    </tr>\n",
       "    <tr>\n",
       "      <th>Invalid</th>\n",
       "      <td>102</td>\n",
       "    </tr>\n",
       "    <tr>\n",
       "      <th>Shark involvement not confirmed</th>\n",
       "      <td>88</td>\n",
       "    </tr>\n",
       "    <tr>\n",
       "      <th>Tiger shark</th>\n",
       "      <td>73</td>\n",
       "    </tr>\n",
       "    <tr>\n",
       "      <th>...</th>\n",
       "      <td>...</td>\n",
       "    </tr>\n",
       "    <tr>\n",
       "      <th>C. macrurus captured 48 hours after attack with tissue removed from man in its gut; species identified by G.P. Whitley,  reported as C. obscurus by  R. Steel</th>\n",
       "      <td>1</td>\n",
       "    </tr>\n",
       "    <tr>\n",
       "      <th>C. leucas tooth fragment recovered from kayak</th>\n",
       "      <td>1</td>\n",
       "    </tr>\n",
       "    <tr>\n",
       "      <th>Bull sharks x 2</th>\n",
       "      <td>1</td>\n",
       "    </tr>\n",
       "    <tr>\n",
       "      <th>Bull sharks to 1.5 m [5']  in length</th>\n",
       "      <td>1</td>\n",
       "    </tr>\n",
       "    <tr>\n",
       "      <th>Porbeagle shark</th>\n",
       "      <td>1</td>\n",
       "    </tr>\n",
       "  </tbody>\n",
       "</table>\n",
       "<p>1549 rows × 1 columns</p>\n",
       "</div>"
      ],
      "text/plain": [
       "                                                    unos\n",
       "Species                                                 \n",
       "White shark                                          163\n",
       "Shark involvement prior to death was not confirmed   105\n",
       "Invalid                                              102\n",
       "Shark involvement not confirmed                       88\n",
       "Tiger shark                                           73\n",
       "...                                                  ...\n",
       "C. macrurus captured 48 hours after attack with...     1\n",
       "C. leucas tooth fragment recovered from kayak          1\n",
       "Bull sharks x 2                                        1\n",
       "Bull sharks to 1.5 m [5']  in length                   1\n",
       "Porbeagle shark                                        1\n",
       "\n",
       "[1549 rows x 1 columns]"
      ]
     },
     "execution_count": 34,
     "metadata": {},
     "output_type": "execute_result"
    }
   ],
   "source": [
    "#Parece que el tiburón blanco es el más común, quizá se podría limpiar para identificar\n",
    "#especies, pero como no hay ninguna hipótesis relativa,lo dejo como está.\n",
    "sharks.groupby('Species')[['unos']].sum().sort_values('unos', ascending = False)"
   ]
  },
  {
   "cell_type": "code",
   "execution_count": 35,
   "metadata": {},
   "outputs": [],
   "source": [
    "sharks['Species'].fillna('UNKNOWN', inplace = True)"
   ]
  },
  {
   "cell_type": "markdown",
   "metadata": {},
   "source": [
    "## Source"
   ]
  },
  {
   "cell_type": "code",
   "execution_count": 36,
   "metadata": {},
   "outputs": [
    {
     "data": {
      "text/html": [
       "<div>\n",
       "<style scoped>\n",
       "    .dataframe tbody tr th:only-of-type {\n",
       "        vertical-align: middle;\n",
       "    }\n",
       "\n",
       "    .dataframe tbody tr th {\n",
       "        vertical-align: top;\n",
       "    }\n",
       "\n",
       "    .dataframe thead th {\n",
       "        text-align: right;\n",
       "    }\n",
       "</style>\n",
       "<table border=\"1\" class=\"dataframe\">\n",
       "  <thead>\n",
       "    <tr style=\"text-align: right;\">\n",
       "      <th></th>\n",
       "      <th>unos</th>\n",
       "    </tr>\n",
       "    <tr>\n",
       "      <th>Source</th>\n",
       "      <th></th>\n",
       "    </tr>\n",
       "  </thead>\n",
       "  <tbody>\n",
       "    <tr>\n",
       "      <th>C. Moore, GSAF</th>\n",
       "      <td>105</td>\n",
       "    </tr>\n",
       "    <tr>\n",
       "      <th>C. Creswell, GSAF</th>\n",
       "      <td>92</td>\n",
       "    </tr>\n",
       "    <tr>\n",
       "      <th>S. Petersohn, GSAF</th>\n",
       "      <td>82</td>\n",
       "    </tr>\n",
       "    <tr>\n",
       "      <th>R. Collier</th>\n",
       "      <td>55</td>\n",
       "    </tr>\n",
       "    <tr>\n",
       "      <th>T. Peake, GSAF</th>\n",
       "      <td>48</td>\n",
       "    </tr>\n",
       "    <tr>\n",
       "      <th>...</th>\n",
       "      <td>...</td>\n",
       "    </tr>\n",
       "    <tr>\n",
       "      <th>H. Wessel, Orlando Sentinel, 8/1/2001</th>\n",
       "      <td>1</td>\n",
       "    </tr>\n",
       "    <tr>\n",
       "      <th>H. Trong &amp;                 U. Phuong,.Saigon Daily, 1/13/2010</th>\n",
       "      <td>1</td>\n",
       "    </tr>\n",
       "    <tr>\n",
       "      <th>H. Taunton; N. Bartlett,  pp. 233-234</th>\n",
       "      <td>1</td>\n",
       "    </tr>\n",
       "    <tr>\n",
       "      <th>H. Taunton; N. Bartlett,  p. 234</th>\n",
       "      <td>1</td>\n",
       "    </tr>\n",
       "    <tr>\n",
       "      <th>zinfos974</th>\n",
       "      <td>1</td>\n",
       "    </tr>\n",
       "  </tbody>\n",
       "</table>\n",
       "<p>4969 rows × 1 columns</p>\n",
       "</div>"
      ],
      "text/plain": [
       "                                                    unos\n",
       "Source                                                  \n",
       "C. Moore, GSAF                                       105\n",
       "C. Creswell, GSAF                                     92\n",
       "S. Petersohn, GSAF                                    82\n",
       "R. Collier                                            55\n",
       "T. Peake, GSAF                                        48\n",
       "...                                                  ...\n",
       "H. Wessel, Orlando Sentinel, 8/1/2001                  1\n",
       "H. Trong &                 U. Phuong,.Saigon Da...     1\n",
       "H. Taunton; N. Bartlett,  pp. 233-234                  1\n",
       "H. Taunton; N. Bartlett,  p. 234                       1\n",
       "zinfos974                                              1\n",
       "\n",
       "[4969 rows x 1 columns]"
      ]
     },
     "execution_count": 36,
     "metadata": {},
     "output_type": "execute_result"
    }
   ],
   "source": [
    "#Parecen medios de comunicación y personas, no aporta nada al análisis, no hago nada\n",
    "sharks.groupby('Source')[['unos']].sum().sort_values('unos', ascending = False)"
   ]
  },
  {
   "cell_type": "code",
   "execution_count": 37,
   "metadata": {},
   "outputs": [],
   "source": [
    "sharks['Source'].fillna('UNKNOWN', inplace = True)"
   ]
  },
  {
   "cell_type": "markdown",
   "metadata": {},
   "source": [
    "## pdf"
   ]
  },
  {
   "cell_type": "code",
   "execution_count": 38,
   "metadata": {},
   "outputs": [
    {
     "data": {
      "text/html": [
       "<div>\n",
       "<style scoped>\n",
       "    .dataframe tbody tr th:only-of-type {\n",
       "        vertical-align: middle;\n",
       "    }\n",
       "\n",
       "    .dataframe tbody tr th {\n",
       "        vertical-align: top;\n",
       "    }\n",
       "\n",
       "    .dataframe thead th {\n",
       "        text-align: right;\n",
       "    }\n",
       "</style>\n",
       "<table border=\"1\" class=\"dataframe\">\n",
       "  <thead>\n",
       "    <tr style=\"text-align: right;\">\n",
       "      <th></th>\n",
       "      <th>unos</th>\n",
       "    </tr>\n",
       "    <tr>\n",
       "      <th>pdf</th>\n",
       "      <th></th>\n",
       "    </tr>\n",
       "  </thead>\n",
       "  <tbody>\n",
       "    <tr>\n",
       "      <th>1935.06.05.R-SolomonIslands.pdf</th>\n",
       "      <td>2</td>\n",
       "    </tr>\n",
       "    <tr>\n",
       "      <th>1907.10.16.R-HongKong.pdf</th>\n",
       "      <td>2</td>\n",
       "    </tr>\n",
       "    <tr>\n",
       "      <th>1923.00.00.a-NJ fisherman.pdf</th>\n",
       "      <td>2</td>\n",
       "    </tr>\n",
       "    <tr>\n",
       "      <th>1898.00.00.R-Syria.pdf</th>\n",
       "      <td>2</td>\n",
       "    </tr>\n",
       "    <tr>\n",
       "      <th>1931.09.21.a-b-Holaday-Barrows.pdf</th>\n",
       "      <td>2</td>\n",
       "    </tr>\n",
       "    <tr>\n",
       "      <th>...</th>\n",
       "      <td>...</td>\n",
       "    </tr>\n",
       "    <tr>\n",
       "      <th>1959.09.10.R-India.pdf</th>\n",
       "      <td>1</td>\n",
       "    </tr>\n",
       "    <tr>\n",
       "      <th>1959.09.02-NV-InflatableRaft.pdf</th>\n",
       "      <td>1</td>\n",
       "    </tr>\n",
       "    <tr>\n",
       "      <th>1959.09.00-French-woman.pdf</th>\n",
       "      <td>1</td>\n",
       "    </tr>\n",
       "    <tr>\n",
       "      <th>1959.08.31.R-Azores.pdf</th>\n",
       "      <td>1</td>\n",
       "    </tr>\n",
       "    <tr>\n",
       "      <th>ND-0154-Folsom.pdf</th>\n",
       "      <td>1</td>\n",
       "    </tr>\n",
       "  </tbody>\n",
       "</table>\n",
       "<p>6291 rows × 1 columns</p>\n",
       "</div>"
      ],
      "text/plain": [
       "                                    unos\n",
       "pdf                                     \n",
       "1935.06.05.R-SolomonIslands.pdf        2\n",
       "1907.10.16.R-HongKong.pdf              2\n",
       "1923.00.00.a-NJ fisherman.pdf          2\n",
       "1898.00.00.R-Syria.pdf                 2\n",
       "1931.09.21.a-b-Holaday-Barrows.pdf     2\n",
       "...                                  ...\n",
       "1959.09.10.R-India.pdf                 1\n",
       "1959.09.02-NV-InflatableRaft.pdf       1\n",
       "1959.09.00-French-woman.pdf            1\n",
       "1959.08.31.R-Azores.pdf                1\n",
       "ND-0154-Folsom.pdf                     1\n",
       "\n",
       "[6291 rows x 1 columns]"
      ]
     },
     "execution_count": 38,
     "metadata": {},
     "output_type": "execute_result"
    }
   ],
   "source": [
    "#Nombres de ficheros pdf, no sirven para análisis de datos agregados.\n",
    "sharks.groupby('pdf')[['unos']].sum().sort_values('unos', ascending = False)"
   ]
  },
  {
   "cell_type": "code",
   "execution_count": 39,
   "metadata": {},
   "outputs": [],
   "source": [
    "sharks['pdf'].fillna('UNKNOWN', inplace = True)"
   ]
  },
  {
   "cell_type": "markdown",
   "metadata": {},
   "source": [
    "## href_formula"
   ]
  },
  {
   "cell_type": "code",
   "execution_count": 40,
   "metadata": {},
   "outputs": [
    {
     "data": {
      "text/html": [
       "<div>\n",
       "<style scoped>\n",
       "    .dataframe tbody tr th:only-of-type {\n",
       "        vertical-align: middle;\n",
       "    }\n",
       "\n",
       "    .dataframe tbody tr th {\n",
       "        vertical-align: top;\n",
       "    }\n",
       "\n",
       "    .dataframe thead th {\n",
       "        text-align: right;\n",
       "    }\n",
       "</style>\n",
       "<table border=\"1\" class=\"dataframe\">\n",
       "  <thead>\n",
       "    <tr style=\"text-align: right;\">\n",
       "      <th></th>\n",
       "      <th>unos</th>\n",
       "    </tr>\n",
       "    <tr>\n",
       "      <th>href_formula</th>\n",
       "      <th></th>\n",
       "    </tr>\n",
       "  </thead>\n",
       "  <tbody>\n",
       "    <tr>\n",
       "      <th>http://sharkattackfile.net/spreadsheets/pdf_directory/1916.07.12.a-b-Stillwell-Fisher.pdf</th>\n",
       "      <td>2</td>\n",
       "    </tr>\n",
       "    <tr>\n",
       "      <th>http://sharkattackfile.net/spreadsheets/pdf_directory/1907.10.16.R-HongKong.pdf</th>\n",
       "      <td>2</td>\n",
       "    </tr>\n",
       "    <tr>\n",
       "      <th>http://sharkattackfile.net/spreadsheets/pdf_directory/1916.12.08.a-b-German.pdf</th>\n",
       "      <td>2</td>\n",
       "    </tr>\n",
       "    <tr>\n",
       "      <th>http://sharkattackfile.net/spreadsheets/pdf_directory/1906.09.27.R.a&amp;b-Munich-Swede.pdf</th>\n",
       "      <td>2</td>\n",
       "    </tr>\n",
       "    <tr>\n",
       "      <th>http://sharkattackfile.net/spreadsheets/pdf_directory/1923.00.00.a-NJ fisherman.pdf</th>\n",
       "      <td>2</td>\n",
       "    </tr>\n",
       "    <tr>\n",
       "      <th>...</th>\n",
       "      <td>...</td>\n",
       "    </tr>\n",
       "    <tr>\n",
       "      <th>http://sharkattackfile.net/spreadsheets/pdf_directory/1959.09.00-French-woman.pdf</th>\n",
       "      <td>1</td>\n",
       "    </tr>\n",
       "    <tr>\n",
       "      <th>http://sharkattackfile.net/spreadsheets/pdf_directory/1959.08.31.R-Azores.pdf</th>\n",
       "      <td>1</td>\n",
       "    </tr>\n",
       "    <tr>\n",
       "      <th>http://sharkattackfile.net/spreadsheets/pdf_directory/1959.08.30-Cox.pdf</th>\n",
       "      <td>1</td>\n",
       "    </tr>\n",
       "    <tr>\n",
       "      <th>http://sharkattackfile.net/spreadsheets/pdf_directory/1959.08.25-Fukushi.pdf</th>\n",
       "      <td>1</td>\n",
       "    </tr>\n",
       "    <tr>\n",
       "      <th>pdf-directory/2013.05.27.b-Ena.pdf</th>\n",
       "      <td>1</td>\n",
       "    </tr>\n",
       "  </tbody>\n",
       "</table>\n",
       "<p>6290 rows × 1 columns</p>\n",
       "</div>"
      ],
      "text/plain": [
       "                                                    unos\n",
       "href_formula                                            \n",
       "http://sharkattackfile.net/spreadsheets/pdf_dir...     2\n",
       "http://sharkattackfile.net/spreadsheets/pdf_dir...     2\n",
       "http://sharkattackfile.net/spreadsheets/pdf_dir...     2\n",
       "http://sharkattackfile.net/spreadsheets/pdf_dir...     2\n",
       "http://sharkattackfile.net/spreadsheets/pdf_dir...     2\n",
       "...                                                  ...\n",
       "http://sharkattackfile.net/spreadsheets/pdf_dir...     1\n",
       "http://sharkattackfile.net/spreadsheets/pdf_dir...     1\n",
       "http://sharkattackfile.net/spreadsheets/pdf_dir...     1\n",
       "http://sharkattackfile.net/spreadsheets/pdf_dir...     1\n",
       "pdf-directory/2013.05.27.b-Ena.pdf                     1\n",
       "\n",
       "[6290 rows x 1 columns]"
      ]
     },
     "execution_count": 40,
     "metadata": {},
     "output_type": "execute_result"
    }
   ],
   "source": [
    "#Link al fichero pdf\n",
    "sharks.groupby('href_formula')[['unos']].sum().sort_values('unos', ascending = False)"
   ]
  },
  {
   "cell_type": "code",
   "execution_count": 41,
   "metadata": {},
   "outputs": [],
   "source": [
    "sharks['href_formula'].fillna('UNKNOWN', inplace = True)"
   ]
  },
  {
   "cell_type": "markdown",
   "metadata": {},
   "source": [
    "## href"
   ]
  },
  {
   "cell_type": "code",
   "execution_count": 42,
   "metadata": {},
   "outputs": [
    {
     "data": {
      "text/html": [
       "<div>\n",
       "<style scoped>\n",
       "    .dataframe tbody tr th:only-of-type {\n",
       "        vertical-align: middle;\n",
       "    }\n",
       "\n",
       "    .dataframe tbody tr th {\n",
       "        vertical-align: top;\n",
       "    }\n",
       "\n",
       "    .dataframe thead th {\n",
       "        text-align: right;\n",
       "    }\n",
       "</style>\n",
       "<table border=\"1\" class=\"dataframe\">\n",
       "  <thead>\n",
       "    <tr style=\"text-align: right;\">\n",
       "      <th></th>\n",
       "      <th>unos</th>\n",
       "    </tr>\n",
       "    <tr>\n",
       "      <th>href</th>\n",
       "      <th></th>\n",
       "    </tr>\n",
       "  </thead>\n",
       "  <tbody>\n",
       "    <tr>\n",
       "      <th>http://sharkattackfile.net/spreadsheets/pdf_directory/w014.01.25-Grant.pdf</th>\n",
       "      <td>4</td>\n",
       "    </tr>\n",
       "    <tr>\n",
       "      <th>http://sharkattackfile.net/spreadsheets/pdf_directory/2014.10.02.b-Vandenberg.pdf</th>\n",
       "      <td>3</td>\n",
       "    </tr>\n",
       "    <tr>\n",
       "      <th>http://sharkattackfile.net/spreadsheets/pdf_directory/1929.03.04.a-b.Roads-Aldridge.pdf</th>\n",
       "      <td>2</td>\n",
       "    </tr>\n",
       "    <tr>\n",
       "      <th>http://sharkattackfile.net/spreadsheets/pdf_directory/1916.07.12.a-b-Stillwell-Fisher.pdf</th>\n",
       "      <td>2</td>\n",
       "    </tr>\n",
       "    <tr>\n",
       "      <th>http://sharkattackfile.net/spreadsheets/pdf_directory/1907.10.16.R-HongKong.pdf</th>\n",
       "      <td>2</td>\n",
       "    </tr>\n",
       "    <tr>\n",
       "      <th>...</th>\n",
       "      <td>...</td>\n",
       "    </tr>\n",
       "    <tr>\n",
       "      <th>http://sharkattackfile.net/spreadsheets/pdf_directory/1959.09.27-Rawlinson.pdf</th>\n",
       "      <td>1</td>\n",
       "    </tr>\n",
       "    <tr>\n",
       "      <th>http://sharkattackfile.net/spreadsheets/pdf_directory/1959.09.26.b-Walker.pdf</th>\n",
       "      <td>1</td>\n",
       "    </tr>\n",
       "    <tr>\n",
       "      <th>http://sharkattackfile.net/spreadsheets/pdf_directory/1959.09.26.a-Wines.pdf</th>\n",
       "      <td>1</td>\n",
       "    </tr>\n",
       "    <tr>\n",
       "      <th>http://sharkattackfile.net/spreadsheets/pdf_directory/1959.09.11-Tervo.pdf</th>\n",
       "      <td>1</td>\n",
       "    </tr>\n",
       "    <tr>\n",
       "      <th>pdf_directory2014.01.04-Riano.pdf</th>\n",
       "      <td>1</td>\n",
       "    </tr>\n",
       "  </tbody>\n",
       "</table>\n",
       "<p>6285 rows × 1 columns</p>\n",
       "</div>"
      ],
      "text/plain": [
       "                                                    unos\n",
       "href                                                    \n",
       "http://sharkattackfile.net/spreadsheets/pdf_dir...     4\n",
       "http://sharkattackfile.net/spreadsheets/pdf_dir...     3\n",
       "http://sharkattackfile.net/spreadsheets/pdf_dir...     2\n",
       "http://sharkattackfile.net/spreadsheets/pdf_dir...     2\n",
       "http://sharkattackfile.net/spreadsheets/pdf_dir...     2\n",
       "...                                                  ...\n",
       "http://sharkattackfile.net/spreadsheets/pdf_dir...     1\n",
       "http://sharkattackfile.net/spreadsheets/pdf_dir...     1\n",
       "http://sharkattackfile.net/spreadsheets/pdf_dir...     1\n",
       "http://sharkattackfile.net/spreadsheets/pdf_dir...     1\n",
       "pdf_directory2014.01.04-Riano.pdf                      1\n",
       "\n",
       "[6285 rows x 1 columns]"
      ]
     },
     "execution_count": 42,
     "metadata": {},
     "output_type": "execute_result"
    }
   ],
   "source": [
    "#Igual que href_formula\n",
    "sharks.groupby('href')[['unos']].sum().sort_values('unos', ascending = False)"
   ]
  },
  {
   "cell_type": "code",
   "execution_count": 43,
   "metadata": {},
   "outputs": [],
   "source": [
    "sharks['href'].fillna('UNKNOWN', inplace = True)"
   ]
  },
  {
   "cell_type": "markdown",
   "metadata": {},
   "source": [
    "## Case_Number.1"
   ]
  },
  {
   "cell_type": "code",
   "execution_count": 44,
   "metadata": {},
   "outputs": [
    {
     "data": {
      "text/html": [
       "<div>\n",
       "<style scoped>\n",
       "    .dataframe tbody tr th:only-of-type {\n",
       "        vertical-align: middle;\n",
       "    }\n",
       "\n",
       "    .dataframe tbody tr th {\n",
       "        vertical-align: top;\n",
       "    }\n",
       "\n",
       "    .dataframe thead th {\n",
       "        text-align: right;\n",
       "    }\n",
       "</style>\n",
       "<table border=\"1\" class=\"dataframe\">\n",
       "  <thead>\n",
       "    <tr style=\"text-align: right;\">\n",
       "      <th></th>\n",
       "      <th>unos</th>\n",
       "    </tr>\n",
       "    <tr>\n",
       "      <th>Case_Number.1</th>\n",
       "      <th></th>\n",
       "    </tr>\n",
       "  </thead>\n",
       "  <tbody>\n",
       "    <tr>\n",
       "      <th>2013.10.05</th>\n",
       "      <td>2</td>\n",
       "    </tr>\n",
       "    <tr>\n",
       "      <th>1952.08.04</th>\n",
       "      <td>2</td>\n",
       "    </tr>\n",
       "    <tr>\n",
       "      <th>1913.08.27.R</th>\n",
       "      <td>2</td>\n",
       "    </tr>\n",
       "    <tr>\n",
       "      <th>1907.10.16.R</th>\n",
       "      <td>2</td>\n",
       "    </tr>\n",
       "    <tr>\n",
       "      <th>1980.07.00</th>\n",
       "      <td>2</td>\n",
       "    </tr>\n",
       "    <tr>\n",
       "      <th>...</th>\n",
       "      <td>...</td>\n",
       "    </tr>\n",
       "    <tr>\n",
       "      <th>1959.07.30</th>\n",
       "      <td>1</td>\n",
       "    </tr>\n",
       "    <tr>\n",
       "      <th>1959.07.28</th>\n",
       "      <td>1</td>\n",
       "    </tr>\n",
       "    <tr>\n",
       "      <th>1959.07.25.b</th>\n",
       "      <td>1</td>\n",
       "    </tr>\n",
       "    <tr>\n",
       "      <th>1959.07.25.a</th>\n",
       "      <td>1</td>\n",
       "    </tr>\n",
       "    <tr>\n",
       "      <th>ND.0110</th>\n",
       "      <td>1</td>\n",
       "    </tr>\n",
       "  </tbody>\n",
       "</table>\n",
       "<p>6285 rows × 1 columns</p>\n",
       "</div>"
      ],
      "text/plain": [
       "               unos\n",
       "Case_Number.1      \n",
       "2013.10.05        2\n",
       "1952.08.04        2\n",
       "1913.08.27.R      2\n",
       "1907.10.16.R      2\n",
       "1980.07.00        2\n",
       "...             ...\n",
       "1959.07.30        1\n",
       "1959.07.28        1\n",
       "1959.07.25.b      1\n",
       "1959.07.25.a      1\n",
       "ND.0110           1\n",
       "\n",
       "[6285 rows x 1 columns]"
      ]
     },
     "execution_count": 44,
     "metadata": {},
     "output_type": "execute_result"
    }
   ],
   "source": [
    "#No sigue ningún criterio, lo dejo en el df, pero no lo voy a usar\n",
    "sharks.groupby('Case_Number.1')[['unos']].sum().sort_values('unos', ascending = False)"
   ]
  },
  {
   "cell_type": "code",
   "execution_count": 45,
   "metadata": {},
   "outputs": [],
   "source": [
    "sharks['Case_Number.1'].fillna('UNKNOWN', inplace = True)"
   ]
  },
  {
   "cell_type": "markdown",
   "metadata": {},
   "source": [
    "## Case_Number.2"
   ]
  },
  {
   "cell_type": "code",
   "execution_count": 46,
   "metadata": {},
   "outputs": [
    {
     "data": {
      "text/html": [
       "<div>\n",
       "<style scoped>\n",
       "    .dataframe tbody tr th:only-of-type {\n",
       "        vertical-align: middle;\n",
       "    }\n",
       "\n",
       "    .dataframe tbody tr th {\n",
       "        vertical-align: top;\n",
       "    }\n",
       "\n",
       "    .dataframe thead th {\n",
       "        text-align: right;\n",
       "    }\n",
       "</style>\n",
       "<table border=\"1\" class=\"dataframe\">\n",
       "  <thead>\n",
       "    <tr style=\"text-align: right;\">\n",
       "      <th></th>\n",
       "      <th>unos</th>\n",
       "    </tr>\n",
       "    <tr>\n",
       "      <th>Case_Number.2</th>\n",
       "      <th></th>\n",
       "    </tr>\n",
       "  </thead>\n",
       "  <tbody>\n",
       "    <tr>\n",
       "      <th>1962.06.11.b</th>\n",
       "      <td>2</td>\n",
       "    </tr>\n",
       "    <tr>\n",
       "      <th>2006.09.02</th>\n",
       "      <td>2</td>\n",
       "    </tr>\n",
       "    <tr>\n",
       "      <th>2013.10.05</th>\n",
       "      <td>2</td>\n",
       "    </tr>\n",
       "    <tr>\n",
       "      <th>2014.08.02</th>\n",
       "      <td>2</td>\n",
       "    </tr>\n",
       "    <tr>\n",
       "      <th>2005.04.06</th>\n",
       "      <td>2</td>\n",
       "    </tr>\n",
       "    <tr>\n",
       "      <th>...</th>\n",
       "      <td>...</td>\n",
       "    </tr>\n",
       "    <tr>\n",
       "      <th>1959.07.28</th>\n",
       "      <td>1</td>\n",
       "    </tr>\n",
       "    <tr>\n",
       "      <th>1959.07.25.b</th>\n",
       "      <td>1</td>\n",
       "    </tr>\n",
       "    <tr>\n",
       "      <th>1959.07.25.a</th>\n",
       "      <td>1</td>\n",
       "    </tr>\n",
       "    <tr>\n",
       "      <th>1959.07.23.b</th>\n",
       "      <td>1</td>\n",
       "    </tr>\n",
       "    <tr>\n",
       "      <th>ND.0110</th>\n",
       "      <td>1</td>\n",
       "    </tr>\n",
       "  </tbody>\n",
       "</table>\n",
       "<p>6286 rows × 1 columns</p>\n",
       "</div>"
      ],
      "text/plain": [
       "               unos\n",
       "Case_Number.2      \n",
       "1962.06.11.b      2\n",
       "2006.09.02        2\n",
       "2013.10.05        2\n",
       "2014.08.02        2\n",
       "2005.04.06        2\n",
       "...             ...\n",
       "1959.07.28        1\n",
       "1959.07.25.b      1\n",
       "1959.07.25.a      1\n",
       "1959.07.23.b      1\n",
       "ND.0110           1\n",
       "\n",
       "[6286 rows x 1 columns]"
      ]
     },
     "execution_count": 46,
     "metadata": {},
     "output_type": "execute_result"
    }
   ],
   "source": [
    "#No sigue ningún criterio, lo dejo en el df, pero no lo voy a usar\n",
    "sharks.groupby('Case_Number.2')[['unos']].sum().sort_values('unos', ascending = False)"
   ]
  },
  {
   "cell_type": "code",
   "execution_count": 47,
   "metadata": {},
   "outputs": [],
   "source": [
    "sharks['Case_Number.2'].fillna('UNKNOWN', inplace = True)"
   ]
  },
  {
   "cell_type": "markdown",
   "metadata": {},
   "source": [
    "## original_order"
   ]
  },
  {
   "cell_type": "code",
   "execution_count": 48,
   "metadata": {},
   "outputs": [
    {
     "data": {
      "text/html": [
       "<div>\n",
       "<style scoped>\n",
       "    .dataframe tbody tr th:only-of-type {\n",
       "        vertical-align: middle;\n",
       "    }\n",
       "\n",
       "    .dataframe tbody tr th {\n",
       "        vertical-align: top;\n",
       "    }\n",
       "\n",
       "    .dataframe thead th {\n",
       "        text-align: right;\n",
       "    }\n",
       "</style>\n",
       "<table border=\"1\" class=\"dataframe\">\n",
       "  <thead>\n",
       "    <tr style=\"text-align: right;\">\n",
       "      <th></th>\n",
       "      <th>unos</th>\n",
       "    </tr>\n",
       "    <tr>\n",
       "      <th>original_order</th>\n",
       "      <th></th>\n",
       "    </tr>\n",
       "  </thead>\n",
       "  <tbody>\n",
       "    <tr>\n",
       "      <th>569.0</th>\n",
       "      <td>2</td>\n",
       "    </tr>\n",
       "    <tr>\n",
       "      <th>4212.0</th>\n",
       "      <td>1</td>\n",
       "    </tr>\n",
       "    <tr>\n",
       "      <th>4210.0</th>\n",
       "      <td>1</td>\n",
       "    </tr>\n",
       "    <tr>\n",
       "      <th>4209.0</th>\n",
       "      <td>1</td>\n",
       "    </tr>\n",
       "    <tr>\n",
       "      <th>4208.0</th>\n",
       "      <td>1</td>\n",
       "    </tr>\n",
       "    <tr>\n",
       "      <th>...</th>\n",
       "      <td>...</td>\n",
       "    </tr>\n",
       "    <tr>\n",
       "      <th>2101.0</th>\n",
       "      <td>1</td>\n",
       "    </tr>\n",
       "    <tr>\n",
       "      <th>2100.0</th>\n",
       "      <td>1</td>\n",
       "    </tr>\n",
       "    <tr>\n",
       "      <th>2099.0</th>\n",
       "      <td>1</td>\n",
       "    </tr>\n",
       "    <tr>\n",
       "      <th>2098.0</th>\n",
       "      <td>1</td>\n",
       "    </tr>\n",
       "    <tr>\n",
       "      <th>6303.0</th>\n",
       "      <td>1</td>\n",
       "    </tr>\n",
       "  </tbody>\n",
       "</table>\n",
       "<p>6301 rows × 1 columns</p>\n",
       "</div>"
      ],
      "text/plain": [
       "                unos\n",
       "original_order      \n",
       "569.0              2\n",
       "4212.0             1\n",
       "4210.0             1\n",
       "4209.0             1\n",
       "4208.0             1\n",
       "...              ...\n",
       "2101.0             1\n",
       "2100.0             1\n",
       "2099.0             1\n",
       "2098.0             1\n",
       "6303.0             1\n",
       "\n",
       "[6301 rows x 1 columns]"
      ]
     },
     "execution_count": 48,
     "metadata": {},
     "output_type": "execute_result"
    }
   ],
   "source": [
    "#Parece un índice de entrada de datos porque sólo hay uno repetido.\n",
    "sharks.groupby('original_order')[['unos']].sum().sort_values('unos', ascending = False)"
   ]
  },
  {
   "cell_type": "code",
   "execution_count": 49,
   "metadata": {},
   "outputs": [],
   "source": [
    "sharks['original_order'].fillna('UNKNOWN', inplace = True)"
   ]
  },
  {
   "cell_type": "markdown",
   "metadata": {},
   "source": [
    "# Columnas útiles para análisis <a id=\"AC2\"></a>\n",
    "\n",
    "## Limpieza de datos:\n",
    "\n",
    "* [Date](#Date)\n",
    "* [Year](#Year)\n",
    "* [Type](#Type)\n",
    "* [Country](#Country)\n",
    "* [Activity](#Activity)\n",
    "* [Sex](#Sex)\n",
    "* [Age](#Age)\n",
    "* [Fatal_Y/N](#Fatal_Y/N)\n",
    "* [Time](#Time)\n",
    "\n",
    "\n",
    "El objetivo es practicar la limpieza de datos y crear un csv más limpio"
   ]
  },
  {
   "cell_type": "markdown",
   "metadata": {},
   "source": [
    "## Date <a id=\"Date\"></a>"
   ]
  },
  {
   "cell_type": "code",
   "execution_count": 50,
   "metadata": {
    "scrolled": false
   },
   "outputs": [
    {
     "ename": "KeyError",
     "evalue": "'len_Date'",
     "output_type": "error",
     "traceback": [
      "\u001b[0;31m---------------------------------------------------------------------------\u001b[0m",
      "\u001b[0;31mKeyError\u001b[0m                                  Traceback (most recent call last)",
      "\u001b[0;32m<ipython-input-50-add4f10ed42e>\u001b[0m in \u001b[0;36m<module>\u001b[0;34m\u001b[0m\n\u001b[1;32m      5\u001b[0m '''\n\u001b[1;32m      6\u001b[0m \u001b[0;31m#Observo la cantidad de registros por número de caracteres:\u001b[0m\u001b[0;34m\u001b[0m\u001b[0;34m\u001b[0m\u001b[0;34m\u001b[0m\u001b[0m\n\u001b[0;32m----> 7\u001b[0;31m \u001b[0msharks\u001b[0m\u001b[0;34m.\u001b[0m\u001b[0mgroupby\u001b[0m\u001b[0;34m(\u001b[0m\u001b[0;34m'len_Date'\u001b[0m\u001b[0;34m)\u001b[0m\u001b[0;34m[\u001b[0m\u001b[0;34m[\u001b[0m\u001b[0;34m'unos'\u001b[0m\u001b[0;34m]\u001b[0m\u001b[0;34m]\u001b[0m\u001b[0;34m.\u001b[0m\u001b[0msum\u001b[0m\u001b[0;34m(\u001b[0m\u001b[0;34m)\u001b[0m\u001b[0;34m.\u001b[0m\u001b[0msort_values\u001b[0m\u001b[0;34m(\u001b[0m\u001b[0;34m'unos'\u001b[0m\u001b[0;34m,\u001b[0m\u001b[0mascending\u001b[0m \u001b[0;34m=\u001b[0m \u001b[0;32mFalse\u001b[0m\u001b[0;34m)\u001b[0m\u001b[0;34m\u001b[0m\u001b[0;34m\u001b[0m\u001b[0m\n\u001b[0m",
      "\u001b[0;32m~/opt/anaconda3/lib/python3.8/site-packages/pandas/core/frame.py\u001b[0m in \u001b[0;36mgroupby\u001b[0;34m(self, by, axis, level, as_index, sort, group_keys, squeeze, observed, dropna)\u001b[0m\n\u001b[1;32m   6509\u001b[0m         \u001b[0maxis\u001b[0m \u001b[0;34m=\u001b[0m \u001b[0mself\u001b[0m\u001b[0;34m.\u001b[0m\u001b[0m_get_axis_number\u001b[0m\u001b[0;34m(\u001b[0m\u001b[0maxis\u001b[0m\u001b[0;34m)\u001b[0m\u001b[0;34m\u001b[0m\u001b[0;34m\u001b[0m\u001b[0m\n\u001b[1;32m   6510\u001b[0m \u001b[0;34m\u001b[0m\u001b[0m\n\u001b[0;32m-> 6511\u001b[0;31m         return DataFrameGroupBy(\n\u001b[0m\u001b[1;32m   6512\u001b[0m             \u001b[0mobj\u001b[0m\u001b[0;34m=\u001b[0m\u001b[0mself\u001b[0m\u001b[0;34m,\u001b[0m\u001b[0;34m\u001b[0m\u001b[0;34m\u001b[0m\u001b[0m\n\u001b[1;32m   6513\u001b[0m             \u001b[0mkeys\u001b[0m\u001b[0;34m=\u001b[0m\u001b[0mby\u001b[0m\u001b[0;34m,\u001b[0m\u001b[0;34m\u001b[0m\u001b[0;34m\u001b[0m\u001b[0m\n",
      "\u001b[0;32m~/opt/anaconda3/lib/python3.8/site-packages/pandas/core/groupby/groupby.py\u001b[0m in \u001b[0;36m__init__\u001b[0;34m(self, obj, keys, axis, level, grouper, exclusions, selection, as_index, sort, group_keys, squeeze, observed, mutated, dropna)\u001b[0m\n\u001b[1;32m    523\u001b[0m             \u001b[0;32mfrom\u001b[0m \u001b[0mpandas\u001b[0m\u001b[0;34m.\u001b[0m\u001b[0mcore\u001b[0m\u001b[0;34m.\u001b[0m\u001b[0mgroupby\u001b[0m\u001b[0;34m.\u001b[0m\u001b[0mgrouper\u001b[0m \u001b[0;32mimport\u001b[0m \u001b[0mget_grouper\u001b[0m\u001b[0;34m\u001b[0m\u001b[0;34m\u001b[0m\u001b[0m\n\u001b[1;32m    524\u001b[0m \u001b[0;34m\u001b[0m\u001b[0m\n\u001b[0;32m--> 525\u001b[0;31m             grouper, exclusions, obj = get_grouper(\n\u001b[0m\u001b[1;32m    526\u001b[0m                 \u001b[0mobj\u001b[0m\u001b[0;34m,\u001b[0m\u001b[0;34m\u001b[0m\u001b[0;34m\u001b[0m\u001b[0m\n\u001b[1;32m    527\u001b[0m                 \u001b[0mkeys\u001b[0m\u001b[0;34m,\u001b[0m\u001b[0;34m\u001b[0m\u001b[0;34m\u001b[0m\u001b[0m\n",
      "\u001b[0;32m~/opt/anaconda3/lib/python3.8/site-packages/pandas/core/groupby/grouper.py\u001b[0m in \u001b[0;36mget_grouper\u001b[0;34m(obj, key, axis, level, sort, observed, mutated, validate, dropna)\u001b[0m\n\u001b[1;32m    779\u001b[0m                 \u001b[0min_axis\u001b[0m\u001b[0;34m,\u001b[0m \u001b[0mname\u001b[0m\u001b[0;34m,\u001b[0m \u001b[0mlevel\u001b[0m\u001b[0;34m,\u001b[0m \u001b[0mgpr\u001b[0m \u001b[0;34m=\u001b[0m \u001b[0;32mFalse\u001b[0m\u001b[0;34m,\u001b[0m \u001b[0;32mNone\u001b[0m\u001b[0;34m,\u001b[0m \u001b[0mgpr\u001b[0m\u001b[0;34m,\u001b[0m \u001b[0;32mNone\u001b[0m\u001b[0;34m\u001b[0m\u001b[0;34m\u001b[0m\u001b[0m\n\u001b[1;32m    780\u001b[0m             \u001b[0;32melse\u001b[0m\u001b[0;34m:\u001b[0m\u001b[0;34m\u001b[0m\u001b[0;34m\u001b[0m\u001b[0m\n\u001b[0;32m--> 781\u001b[0;31m                 \u001b[0;32mraise\u001b[0m \u001b[0mKeyError\u001b[0m\u001b[0;34m(\u001b[0m\u001b[0mgpr\u001b[0m\u001b[0;34m)\u001b[0m\u001b[0;34m\u001b[0m\u001b[0;34m\u001b[0m\u001b[0m\n\u001b[0m\u001b[1;32m    782\u001b[0m         \u001b[0;32melif\u001b[0m \u001b[0misinstance\u001b[0m\u001b[0;34m(\u001b[0m\u001b[0mgpr\u001b[0m\u001b[0;34m,\u001b[0m \u001b[0mGrouper\u001b[0m\u001b[0;34m)\u001b[0m \u001b[0;32mand\u001b[0m \u001b[0mgpr\u001b[0m\u001b[0;34m.\u001b[0m\u001b[0mkey\u001b[0m \u001b[0;32mis\u001b[0m \u001b[0;32mnot\u001b[0m \u001b[0;32mNone\u001b[0m\u001b[0;34m:\u001b[0m\u001b[0;34m\u001b[0m\u001b[0;34m\u001b[0m\u001b[0m\n\u001b[1;32m    783\u001b[0m             \u001b[0;31m# Add key to exclusions\u001b[0m\u001b[0;34m\u001b[0m\u001b[0;34m\u001b[0m\u001b[0;34m\u001b[0m\u001b[0m\n",
      "\u001b[0;31mKeyError\u001b[0m: 'len_Date'"
     ]
    }
   ],
   "source": [
    "'''\n",
    "Analizo el campo 'Date', imprimo los valores únicos y observo que la mayoría de los\n",
    "5435 registros tiene la estructura de fecha: 'DD-MMM-YY'(las M's son las 3 primeras letras del mes)\n",
    "Para limpiar ese campo llevaré los registros que pueda a ese formato.\n",
    "'''\n",
    "#Observo la cantidad de registros por número de caracteres:\n",
    "sharks.groupby('len_Date')[['unos']].sum().sort_values('unos',ascending = False)"
   ]
  },
  {
   "cell_type": "code",
   "execution_count": null,
   "metadata": {},
   "outputs": [],
   "source": [
    "#Creo una columna 'Date2', gemela a 'Date' y una columna 'len_Date2'\n",
    "#en la que incorporo el len de columna 'Date2'\n",
    "sharks['Date2'] = sharks['Date']\n",
    "sharks['len_Date'] = sharks['Date2'].str.len()"
   ]
  },
  {
   "cell_type": "code",
   "execution_count": null,
   "metadata": {},
   "outputs": [],
   "source": [
    "'''\n",
    "Después de hacer un análisis visual de los datos, voy a intentar dejar solo registros\n",
    "con este aspecto:\n",
    "\n",
    "1 - 01-Jan-2008  ; La mayoría de los resgistros tienen este formato, 11 caracteres, hay \n",
    "registros que no tienen día: 'Jan-2008'. A estos registros les añadiré el día 1: '01-', \n",
    "esto añade información falsa respecto al día, sin embargo habilita más registros \n",
    "para hacer un hipotético análisis temporal por meses o por años.\n",
    "\n",
    "2 - 2008  ; Hay registros en los que solo viene el año, a veces incorporado dentro de un texto.\n",
    "Los limpio dejando solo el año, para compararlos con la columna 'Year', quizá haya algún \n",
    "registro que en 'Year' no esté  y sí en 'Date', en ese caso copio el año en 'Year'\n",
    "'''\n",
    "sharks['Date2'] = sharks['Date2'].apply(lambda x: str(x).replace(' ','')\\\n",
    "                  .replace('(?)','').replace('May','May-')\\\n",
    "                  .replace('July','Jul').replace('June','Jun-')\\\n",
    "                  .replace('?','').replace('nan','UNKNOWN')\\\n",
    "                  .replace('-','-').replace('A.D.','')\\\n",
    "                  .replace('B.C.','-').replace('Nodate','UNKNOWN')\\\n",
    "                  .replace('Ca.','').replace('','').replace('493-','493')\\\n",
    "                  .replace('.00.','').replace('19955','UNKNOWN')\\\n",
    "                  .replace('Late','').replace('21764','UNKNOWN')\\\n",
    "                  .replace('Circa','').replace('mid-','')\\\n",
    "                  .replace('Early','').replace('.B.C..','')\\\n",
    "                  .replace('725-','725').replace('16001728','UNKNOWN')\\\n",
    "                  .replace('214-','214').replace('A.D.','')\\\n",
    "                  .replace('--','-').replace('November','Nov-')\\\n",
    "                  .replace('.a','').replace('.b','')\\\n",
    "                  .replace('2006.','2006').replace('2005-','2005')\\\n",
    "                  .replace('tohavehappened\"ontheweekend\"','').replace('Lastincidentof1994HongKong','')\\\n",
    "                  .replace('BetweenMay-&Nov-1993','1933').replace('MidJul-1985ormidJul-1986','Jul-1985')\\\n",
    "                  .replace('Summerof','').replace('13or','').replace('summer','')\\\n",
    "                  .replace('May-Jun-1965','Jun-1965').replace('Jan-Jun-1962','1962')\\\n",
    "                  .replace('Between10and','').replace('Jul-toSep-','')\\\n",
    "                  .replace('(samedayas195400.f)','').replace('1951.12.15.R','15-Dec-1951').replace('Between01-Aug-1951&','')\\\n",
    "                  .replace('orApr-1949','').replace('\"Bittenlastweekend','')\\\n",
    "                  .replace('Between18&22-Dec1944','22-Dec-1944').replace('SometimebetweenApr&','')\\\n",
    "                  .replace('to07-Mar-1943','').replace('to16-Sep-1942','')\\\n",
    "                  .replace('Sometimebetween08-Jan-1928&','').replace('or27-Mar-1925','')\\\n",
    "                  .replace('tohavetakenplace','').replace('to19-Nov-1909','')\\\n",
    "                  .replace('10-April1906','10-Apr-1906').replace('02-April1906','02-Apr-1906')\\\n",
    "                  .replace('.22-Feb-1902','22-Feb-1902').replace('DuringtheSeigeofLadysmith','')\\\n",
    "                  .replace('(soonafterthecloseoftheSpanish-AmericanWar)','').replace('Mid-Aug-1886','15-Aug-1886')\\\n",
    "                  .replace('Reportd','').replace('(probablyhappened1843/1844)','')\\\n",
    "                  .replace('March','Mar').replace('Nov-or','')\\\n",
    "                  .replace(',buttookplacearound1868','').replace('Sept','Sep')\\\n",
    "                  .replace('Sepor','').replace('\"AnniversaryDay\"22-Jan-1850or1852','22-Jan-1850')\\\n",
    "                  .replace('1844.07.16.R','16-07-1844').replace('1836.07.26.R','26-07-1836')\\\n",
    "                  .replace('Letterdated','').replace('Before','')\\\n",
    "                  .replace('Between','').replace('UNKNOWN,late','').replace('UNKNOWN,Before','')\\\n",
    "                  .replace(',AfterAugust1926andbefore1936','').replace('24Apr','24-Apr')\\\n",
    "                  .replace('\"Duringthewar\"','').replace('\"thewar\"','UNKNOWN')\\\n",
    "                  .replace('Saidtobe1941-1945,morelikely','').replace('Afewyearsbefore','')\\\n",
    "                  .replace('&','-').replace('UNKNOWN(3daysafterprecedingincident)&priorto','')\\\n",
    "                  .replace('UNKNOWN,','').replace('UNKNOWN(3daysafterprecedingincident)-priorto19-Jul-1913','UNKNOWN')\\\n",
    "                  .replace('&','-').replace('UNKNOWN(3daysafterprecedingincident)&priorto','')\\\n",
    "                  .replace('Reprted','').replace('2017.06.05','05-Jun-2017').replace('May2015','May-2015')\\\n",
    "                  .replace('Nov2013','Nov-2013').replace('2008.01.30','30-Jan-2008')\\\n",
    "                  .replace('Jan2011','Jan-2011').replace('Jul2006','Jul-2006')\\\n",
    "                  .replace('-Ap-','-Apr-')\\\n",
    "                  .replace('Jul1991','Jul-1991').replace('Feb1993','Feb-1993')\\\n",
    "                  .replace('Winter','').replace('Summer','').replace('05May','05-May')\\\n",
    "                  .replace('1950.07.19','19-Jul-1950').replace('1898.01.24','24-Jan-1898')\\\n",
    "                  .replace('Jan1858','Jan-1858').replace('1853or1854','1853-1854')\\\n",
    "                  .replace('16-07-1844','16-Jul-1844').replace('/','').replace('26-07-1836','26-Jul-1836')\\\n",
    "                  .replace('1990or1991','1990-1991').replace('19955','UNKNOWN')\\\n",
    "                  .replace('r1994','1994').replace('WorldWarII','UNKNOWN')\\\n",
    "                  .replace('-2008','2008').replace('201-Aug','01-Aug')\\\n",
    "                  .replace('102-Jul-1997','02-Jul-1997').replace('105-Mar-1986','05-Mar-1986')\\\n",
    "                  .replace('105-Jul-1975','05-Jul-1975').replace('108-Sep-1966','08-Sep-1966')\\\n",
    "                  .replace('106-Dec-1951','06-Dec-1951').replace('Lastcidentof1994HongKong','1994')\\\n",
    "                  .replace('\\n15-Dec-1951','15-Dec-1951').replace('1899DurgtheSeigeofLadysmith','1899')\\\n",
    "                  .replace('\"Durgthewar\"1943-1945','1943-1945').replace('UNKNOWN(3daysafterprecedgcident)-priorto19-Jul-1913','UNKNOWN')\\\n",
    "                  .replace('Jan2008','Jan-2008').replace('Feb2008','Feb-2008')\\\n",
    "                  .replace('Mar2008','Mar-2008').replace('Apr2008','Apr-2008')\\\n",
    "                  .replace('May2008','May-2008').replace('Jun2008','Jun-2008')\\\n",
    "                  .replace('Jul2008','Jul-2008').replace('Aug2008','Aug-2008')\\\n",
    "                  .replace('Sep2008','Sep-2008').replace('Oct2008','Oct-2008')\\\n",
    "                  .replace('Nov2008','Nov-2008').replace('Dec2008','Dec-2008')\\\n",
    "                  .replace('12-30-1980','30-Dec-1980').replace('06-26-1890','26-Jun-1890')\\\n",
    "                  .replace('`','').replace('18391840','UNKNOWN').replace('336.-.','UNKNOWN')\\\n",
    "                  )\n",
    "\n",
    "#Tras los cambios, vuelvo a calcular el len de 'Date2' \n",
    "sharks['len_Date'] = sharks['Date2'].str.len()"
   ]
  },
  {
   "cell_type": "code",
   "execution_count": null,
   "metadata": {},
   "outputs": [],
   "source": [
    "#Vuelvo a ver los registros por cantidad de caracteres\n",
    "sharks.groupby('len_Date')[['unos']].sum().sort_values('unos',ascending = False)"
   ]
  },
  {
   "cell_type": "code",
   "execution_count": null,
   "metadata": {},
   "outputs": [],
   "source": [
    "#Tras la limpieza, no quedan registros con más de 11 caracteres.\n",
    "print(len(list(sharks.loc[sharks['len_Date']>11,'Date2'].unique())))\n",
    "list(sharks.loc[sharks['len_Date']>11,'Date2'].unique())"
   ]
  },
  {
   "cell_type": "code",
   "execution_count": null,
   "metadata": {
    "scrolled": true
   },
   "outputs": [],
   "source": [
    "#Ahora compruebo y limpio los registros de menos de 11 caracteres\n",
    "print(len(list(sharks.loc[sharks['len_Date']==10,'Date2'].unique())))\n",
    "list(sharks.loc[sharks['len_Date']==10,'Date2'].unique())"
   ]
  },
  {
   "cell_type": "code",
   "execution_count": null,
   "metadata": {
    "scrolled": true
   },
   "outputs": [],
   "source": [
    "#Todavía hay uno que tiene 10 caracteres porque le falta un número al año,\n",
    "#Compruebo y en el campo Year el año es 1944 así que lo actualizo con ese valor\n",
    "sharks[sharks['Date2']=='22-Jul-144']"
   ]
  },
  {
   "cell_type": "code",
   "execution_count": null,
   "metadata": {},
   "outputs": [],
   "source": [
    "sharks.loc[sharks['Date2']=='22-Jul-144','Date2'] = '22-Jul-1944'\n",
    "sharks.loc[sharks['Date']=='22-Jul-144','Date'] = '22-Jul-1944'\n",
    "sharks['len_Date'] = sharks['Date2'].str.len()"
   ]
  },
  {
   "cell_type": "code",
   "execution_count": null,
   "metadata": {},
   "outputs": [],
   "source": [
    "sharks.loc[sharks['len_Date']==10,'Date2'] = '0' + sharks.loc[sharks['len_Date']==10,'Date2']\n",
    "sharks['len_Date'] = sharks['Date2'].str.len()"
   ]
  },
  {
   "cell_type": "code",
   "execution_count": null,
   "metadata": {},
   "outputs": [],
   "source": [
    "print(len(list(sharks.loc[sharks['len_Date']==10,'Date2'].unique())))\n",
    "list(sharks.loc[sharks['len_Date']==10,'Date2'].unique())"
   ]
  },
  {
   "cell_type": "code",
   "execution_count": null,
   "metadata": {},
   "outputs": [],
   "source": [
    "# Compruebo los de 9, tiene un formato diferente, pero los dejo tal cual están.\n",
    "print(len(list(sharks.loc[sharks['len_Date']==9,'Date2'].unique())))\n",
    "list(sharks.loc[sharks['len_Date']==9,'Date2'].unique())"
   ]
  },
  {
   "cell_type": "code",
   "execution_count": null,
   "metadata": {
    "scrolled": true
   },
   "outputs": [],
   "source": [
    "# Compruebo los de 8, tienen formato MMM-YYYY\n",
    "print(len(list(sharks.loc[sharks['len_Date']==8,'Date2'].unique())))\n",
    "list(sharks.loc[sharks['len_Date']==8,'Date2'].unique())"
   ]
  },
  {
   "cell_type": "code",
   "execution_count": null,
   "metadata": {},
   "outputs": [],
   "source": [
    "#Les añado el día '01-' a la izquierda, para tener el mismo formato que el grueso de registros\n",
    "sharks.loc[sharks['len_Date']==8,'Date2'] = '01-' + sharks.loc[sharks['len_Date']==8,'Date2']\n",
    "sharks['len_Date'] = sharks['Date2'].str.len()"
   ]
  },
  {
   "cell_type": "code",
   "execution_count": null,
   "metadata": {},
   "outputs": [],
   "source": [
    "# Compruebo\n",
    "print(len(list(sharks.loc[sharks['len_Date']==8,'Date2'].unique())))\n",
    "list(sharks.loc[sharks['len_Date']==8,'Date2'].unique())"
   ]
  },
  {
   "cell_type": "code",
   "execution_count": null,
   "metadata": {},
   "outputs": [],
   "source": [
    "# Compruebo los de 7\n",
    "print(len(list(sharks.loc[sharks['len_Date']==7,'Date2'].unique())))\n",
    "list(sharks.loc[sharks['len_Date']==7,'Date2'].unique())"
   ]
  },
  {
   "cell_type": "code",
   "execution_count": null,
   "metadata": {},
   "outputs": [],
   "source": [
    "# Compruebo los de 6\n",
    "print(len(list(sharks.loc[sharks['len_Date']==6,'Date2'].unique())))\n",
    "list(sharks.loc[sharks['len_Date']==6,'Date2'].unique())"
   ]
  },
  {
   "cell_type": "code",
   "execution_count": null,
   "metadata": {},
   "outputs": [],
   "source": [
    "# Compruebo los de 5\n",
    "print(len(list(sharks.loc[sharks['len_Date']==5,'Date2'].unique())))\n",
    "list(sharks.loc[sharks['len_Date']==5,'Date2'].unique())"
   ]
  },
  {
   "cell_type": "code",
   "execution_count": null,
   "metadata": {},
   "outputs": [],
   "source": [
    "# Los de 4 Caracteres son los que tienen solamente el año.\n",
    "print(len(list(sharks.loc[sharks['len_Date']==4,'Date2'].unique())))\n",
    "list(sharks.loc[sharks['len_Date']==4,'Date2'].unique())"
   ]
  },
  {
   "cell_type": "code",
   "execution_count": null,
   "metadata": {
    "scrolled": false
   },
   "outputs": [],
   "source": [
    "sharks.loc[sharks['len_Date']==4,['Year','Date2']]"
   ]
  },
  {
   "cell_type": "code",
   "execution_count": null,
   "metadata": {
    "scrolled": false
   },
   "outputs": [],
   "source": [
    "#De los 125 registros que en 'Year' tienen valor 0, 78 se pueden recuperar\n",
    "#gracias al campo 'Date2'\n",
    "sharks.loc[sharks['len_Date']==4,['Year','unos']].groupby('Year')[['unos']].sum()\\\n",
    "                 .sort_values('unos',ascending = False)"
   ]
  },
  {
   "cell_type": "code",
   "execution_count": null,
   "metadata": {},
   "outputs": [],
   "source": [
    "#Los actualizo con el año de 'Date2'\n",
    "sharks.loc[sharks['len_Date']==4,'Year'] = sharks.loc[sharks['len_Date']==4,'Date2']\n",
    "sharks['len_Date'] = sharks['Date2'].str.len()"
   ]
  },
  {
   "cell_type": "code",
   "execution_count": null,
   "metadata": {},
   "outputs": [],
   "source": [
    "#Compruebo\n",
    "sharks.loc[sharks['len_Date']==4,['Year','unos']].groupby('Year')[['unos']].sum()\\\n",
    "                 .sort_values('unos',ascending = False)"
   ]
  },
  {
   "cell_type": "code",
   "execution_count": null,
   "metadata": {
    "scrolled": true
   },
   "outputs": [],
   "source": [
    "#Los de 3 dígitos también son años\n",
    "print(len(list(sharks.loc[sharks['len_Date']==3,'Date2'].unique())))\n",
    "list(sharks.loc[sharks['len_Date']==3,'Date2'].unique())"
   ]
  },
  {
   "cell_type": "code",
   "execution_count": null,
   "metadata": {
    "scrolled": true
   },
   "outputs": [],
   "source": [
    "#El único de 2 dígitos también es el año\n",
    "print(len(list(sharks.loc[sharks['len_Date']==2,'Date2'].unique())))\n",
    "list(sharks.loc[sharks['len_Date']==2,'Date2'].unique())"
   ]
  },
  {
   "cell_type": "code",
   "execution_count": null,
   "metadata": {
    "scrolled": false
   },
   "outputs": [],
   "source": [
    "#El único de  dígito también es el año\n",
    "print(len(list(sharks.loc[sharks['len_Date']==1,'Date2'].unique())))\n",
    "list(sharks.loc[sharks['len_Date']==1,'Date2'].unique())"
   ]
  },
  {
   "cell_type": "markdown",
   "metadata": {},
   "source": [
    "## Year <a id=\"Year\"></a>"
   ]
  },
  {
   "cell_type": "code",
   "execution_count": null,
   "metadata": {},
   "outputs": [],
   "source": [
    "sharks[sharks['Year'].isnull()].shape"
   ]
  },
  {
   "cell_type": "code",
   "execution_count": null,
   "metadata": {
    "scrolled": true
   },
   "outputs": [],
   "source": [
    "#En los dos registros que el año es NaN, el dato viene tanto en case number como en date\n",
    "sharks.loc[sharks['Year'].isnull(),['Case_Number','Year','Date']]"
   ]
  },
  {
   "cell_type": "code",
   "execution_count": null,
   "metadata": {},
   "outputs": [],
   "source": [
    "#Como son solo dos actualizo el dato manualmente:\n",
    "sharks.loc[187,'Year'] = 2017\n",
    "sharks.loc[6079,'Year'] = 1836"
   ]
  },
  {
   "cell_type": "code",
   "execution_count": null,
   "metadata": {
    "scrolled": true
   },
   "outputs": [],
   "source": [
    "#Compruebo uno\n",
    "sharks.loc[6079,['Case_Number','Year','Date']]"
   ]
  },
  {
   "cell_type": "code",
   "execution_count": null,
   "metadata": {},
   "outputs": [],
   "source": [
    "#Hay 125 registros que tienen valor 0 en el año, asumo que no es el año 0, sino que \n",
    "#es años desconocido, como si fuera NaN. En cualquier caso, si hay que hacer análisis con\n",
    "#este campo, lo haré a partir del años 1543.\n",
    "print(sharks.groupby('Year')[['unos']].sum().sum())\n",
    "sharks.groupby('Year')[['unos']].sum().sort_values('unos',ascending = False)"
   ]
  },
  {
   "cell_type": "markdown",
   "metadata": {},
   "source": [
    "## Type <a id=\"Type\"></a>"
   ]
  },
  {
   "cell_type": "code",
   "execution_count": null,
   "metadata": {},
   "outputs": [],
   "source": [
    "#Tipo de ataque, sólo hay uno repetido, es utilizable,\n",
    "#Uno los valores 'Boatomg','Boat' y 'Boating'\n",
    "sharks.groupby('Type')[['unos']].sum().sort_values('unos', ascending = False)"
   ]
  },
  {
   "cell_type": "code",
   "execution_count": null,
   "metadata": {},
   "outputs": [],
   "source": [
    "sharks.loc[sharks['Type']=='Boat','Type'] = 'Boating'\n",
    "sharks.loc[sharks['Type']=='Boatomg','Type'] = 'Boating'\n",
    "sharks.groupby('Type')[['unos']].sum().sort_values('unos', ascending = False)"
   ]
  },
  {
   "cell_type": "code",
   "execution_count": null,
   "metadata": {},
   "outputs": [],
   "source": [
    "sharks['Type'].fillna('UNKNOWN',inplace = True)"
   ]
  },
  {
   "cell_type": "code",
   "execution_count": null,
   "metadata": {},
   "outputs": [],
   "source": [
    "sharks.groupby('Type')[['unos']].sum().sort_values('unos',ascending = False)"
   ]
  },
  {
   "cell_type": "markdown",
   "metadata": {},
   "source": [
    "## Country <a id=\"Country\"></a>"
   ]
  },
  {
   "cell_type": "code",
   "execution_count": null,
   "metadata": {},
   "outputs": [],
   "source": [
    "sharks['Country'].fillna('UNKNOWN',inplace = True)"
   ]
  },
  {
   "cell_type": "code",
   "execution_count": null,
   "metadata": {
    "scrolled": false
   },
   "outputs": [],
   "source": [
    "#Observo los 231 valores únicos de 'Country'\n",
    "print(len(list(sharks.loc[sharks['Country']!= '','Country'].unique())))\n",
    "sorted(list(sharks.loc[sharks['Country']!= '','Country'].unique()))"
   ]
  },
  {
   "cell_type": "code",
   "execution_count": null,
   "metadata": {},
   "outputs": [],
   "source": [
    "'''\n",
    "Algunos países tienen un espacio al principio o al final de la celda, no puedo\n",
    "hacer un replace porque quitaría los espacios entre palabras, así que hago correcciones\n",
    "a mano, ya que son pocas. Algunos valores con más de un país o con interrogaciones no los cambio.\n",
    "'''\n",
    "\n",
    "sharks.loc[sharks['Country']=='ANDAMAN / NICOBAR ISLANDAS','Country'] = 'ANDAMAN ISLANDS'\n",
    "sharks.loc[sharks['Country']=='CEYLON (SRI LANKA)','Country'] = 'CEYLON'\n",
    "sharks.loc[sharks['Country']=='EGYPT ','Country'] = 'EGYPT'\n",
    "sharks.loc[sharks['Country']=='EGYPT / ISRAEL','Country'] = 'EGYPT'\n",
    "sharks.loc[sharks['Country']=='Fiji','Country'] = 'FIJI'\n",
    "sharks.loc[sharks['Country']=='MALDIVES','Country'] = 'MALDIVE ISLANDS'\n",
    "sharks.loc[sharks['Country']=='MEXICO ','Country'] = 'MEXICO'\n",
    "sharks.loc[sharks['Country']=='NICARAGUA ','Country'] = 'NICARAGUA'\n",
    "sharks.loc[sharks['Country']=='PACIFIC OCEAN ','Country'] = 'PACIFIC OCEAN'\n",
    "sharks.loc[sharks['Country']=='REUNION','Country'] = 'REUNION ISLAND'\n",
    "sharks.loc[sharks['Country']=='SOLOMON ISLANDS / VANUATU','Country'] = 'SOLOMON ISLANDS'\n",
    "sharks.loc[sharks['Country']=='ST. MAARTIN','Country'] = 'ST. MARTIN'\n",
    "sharks.loc[sharks['Country']=='TOBAGO','Country'] = 'TRINIDAD & TOBAGO'\n",
    "sharks.loc[sharks['Country']=='YEMEN ','Country'] = 'YEMEN'\n",
    "sharks.loc[sharks['Country']==' PHILIPPINES','Country'] = 'PHILIPPINES'\n",
    "sharks.loc[sharks['Country']==' TONGA','Country'] = 'TONGA'"
   ]
  },
  {
   "cell_type": "code",
   "execution_count": null,
   "metadata": {
    "scrolled": true
   },
   "outputs": [],
   "source": [
    "sharks.groupby('Country')[['unos']].sum().sort_values('unos',ascending = False)"
   ]
  },
  {
   "cell_type": "markdown",
   "metadata": {},
   "source": [
    "## Activity <a id=\"Activity\"></a>"
   ]
  },
  {
   "cell_type": "code",
   "execution_count": null,
   "metadata": {},
   "outputs": [],
   "source": [
    "sharks['Activity'].fillna('UNKNOWN',inplace = True)"
   ]
  },
  {
   "cell_type": "code",
   "execution_count": null,
   "metadata": {
    "scrolled": true
   },
   "outputs": [],
   "source": [
    "#Hay 5.758 registros con valores conocidos, de los cuales 2.271 están categorizados\n",
    "#como surfing, swimming y fishing. Sin embargo hay muchos registros que también pertenecen\n",
    "#a una de esas categorías, pero que está escrito con texto diferente. La idea es intentar\n",
    "#rescatar los valores e incluirlos en estas categorías.\n",
    "print(sharks[sharks['Activity']!='UNKNOWN'].groupby('Activity')[['unos']].sum().sum())\n",
    "sharks[sharks['Activity']!='UNKNOWN'].groupby('Activity')[['unos']].sum().sort_values('unos',ascending = False).head(30)"
   ]
  },
  {
   "cell_type": "code",
   "execution_count": null,
   "metadata": {},
   "outputs": [],
   "source": [
    "#Creo un campo 'Activity2' para mejorar la categorización.\n",
    "sharks['Activity2'] = sharks['Activity'].str.lower()"
   ]
  },
  {
   "cell_type": "code",
   "execution_count": null,
   "metadata": {
    "scrolled": true
   },
   "outputs": [],
   "source": [
    "#Hecho vistazo a la lista de valores para recoger los más generales y añadirlos a un diccionario\n",
    "print(len(list(sharks['Activity2'].value_counts().index)))\n",
    "list(sharks['Activity2'].value_counts().index)"
   ]
  },
  {
   "cell_type": "code",
   "execution_count": null,
   "metadata": {},
   "outputs": [],
   "source": [
    "#Hago diccionario con valores que compararé para rellenar nueva columna 'Activity2'\n",
    "dicact = {'swimming':'swimming','fishing':'fishing','diving':'diving',\n",
    "          'scuba':'swimming','surf':'surfing',\n",
    "          'body boarding':'surfing','boogie boarding':'surfing','snorkeling':'swimming',\n",
    "          'kayaking':'boating','canoeing':'boating','floating':'swimming','rowing':'boating',\n",
    "          'paddle boarding':'surfing','surfboard':'surfing','sailing':'boating','bathing':'swimming','01h':'mañana',\n",
    "          'kiteboarding':'surfing','kite boarding':'surfing'\n",
    "         }"
   ]
  },
  {
   "cell_type": "code",
   "execution_count": null,
   "metadata": {},
   "outputs": [],
   "source": [
    "#Creo un campo 'Activity2' donde pondré la nueva categorización.\n",
    "sharks['Activity2'] = sharks['Activity'].str.lower()"
   ]
  },
  {
   "cell_type": "code",
   "execution_count": null,
   "metadata": {},
   "outputs": [],
   "source": [
    "for i in range(len(sharks['Activity2'])):\n",
    "    celda = sharks.loc[i,'Activity2']\n",
    "    for clave, valor in dicact.items():\n",
    "        if clave in celda:\n",
    "            sharks.loc[i,'Activity2'] = valor"
   ]
  },
  {
   "cell_type": "code",
   "execution_count": null,
   "metadata": {},
   "outputs": [],
   "source": [
    "# Se han aumentado significativamente los valores principales, swimming supera a\n",
    "#surfing\n",
    "print(sharks.groupby('Activity2')[['unos']].sum().sum())\n",
    "sharks.groupby('Activity2')[['unos']].sum().sort_values('unos', ascending = False).head(20)"
   ]
  },
  {
   "cell_type": "markdown",
   "metadata": {},
   "source": [
    "## Sex <a id=\"Sex\"></a>"
   ]
  },
  {
   "cell_type": "code",
   "execution_count": null,
   "metadata": {
    "scrolled": true
   },
   "outputs": [],
   "source": [
    "#Hago el mismo proceso con la columna 'Sex'\n",
    "sharks.groupby('Sex')[['unos']].sum()"
   ]
  },
  {
   "cell_type": "code",
   "execution_count": null,
   "metadata": {},
   "outputs": [],
   "source": [
    "sharks.loc[sharks['Sex']==' M','Sex'] = 'M'\n",
    "sharks.loc[sharks['Sex']=='N','Sex'] = 'M'\n",
    "sharks.loc[sharks['Sex']=='M ','Sex'] = 'M'\n",
    "sharks.loc[sharks['Sex']=='lli','Sex'] = 'UNKNOWN'\n",
    "sharks.loc[sharks['Sex']=='.','Sex'] = 'UNKNOWN'"
   ]
  },
  {
   "cell_type": "code",
   "execution_count": null,
   "metadata": {
    "scrolled": true
   },
   "outputs": [],
   "source": [
    "sharks.groupby('Sex')[['unos']].sum()"
   ]
  },
  {
   "cell_type": "code",
   "execution_count": null,
   "metadata": {},
   "outputs": [],
   "source": [
    "#Todavía quedan NaN's, los transformo a 'UNKNOWN'\n",
    "print(sharks[sharks['Sex'].isnull()].shape)\n",
    "#Los transformo en 'UNKNOWN'\n",
    "sharks['Sex'].fillna('UNKNOWN', inplace = True)\n",
    "sharks[sharks['Sex'].isnull()].shape"
   ]
  },
  {
   "cell_type": "markdown",
   "metadata": {},
   "source": [
    "## Age <a id=\"Age\"></a>"
   ]
  },
  {
   "cell_type": "code",
   "execution_count": null,
   "metadata": {},
   "outputs": [],
   "source": [
    "sharks['Age'].fillna('UNKNOWN', inplace = True)"
   ]
  },
  {
   "cell_type": "code",
   "execution_count": null,
   "metadata": {},
   "outputs": [],
   "source": [
    "sharks.groupby('Age')[['unos']].sum().sort_values('unos',ascending=False)"
   ]
  },
  {
   "cell_type": "code",
   "execution_count": null,
   "metadata": {},
   "outputs": [],
   "source": [
    "#Hago una columna 'Age2' y otra len_age' con el length de 'Age'\n",
    "sharks['Age2'] = sharks['Age']\n",
    "sharks['len_age'] = sharks['Age'].str.len()"
   ]
  },
  {
   "cell_type": "code",
   "execution_count": null,
   "metadata": {},
   "outputs": [],
   "source": [
    "sharks['Age2'] = sharks['Age2'].apply(lambda x: str(x).replace(' ',''))\n",
    "sharks['len_age'] = sharks['Age2'].str.len()"
   ]
  },
  {
   "cell_type": "code",
   "execution_count": null,
   "metadata": {},
   "outputs": [],
   "source": [
    "#print(len(list(sharks[sharks['Age2']].value_counts().index)))\n",
    "#list(sharks['Age2'].value_counts().index)\n",
    "sharks.groupby('Age2')[['unos']].sum().sort_values('unos',ascending= False)"
   ]
  },
  {
   "cell_type": "code",
   "execution_count": null,
   "metadata": {
    "scrolled": true
   },
   "outputs": [],
   "source": [
    "print(len(list(sharks[['Age2']].value_counts().index)))\n",
    "list(sharks[['Age2']].value_counts().index)"
   ]
  },
  {
   "cell_type": "code",
   "execution_count": null,
   "metadata": {
    "scrolled": true
   },
   "outputs": [],
   "source": [
    "#Miro todos los valores con más de 2 dígitos\n",
    "list(sharks.loc[sharks['len_age']>2,'Age2'].unique())"
   ]
  },
  {
   "cell_type": "code",
   "execution_count": null,
   "metadata": {},
   "outputs": [],
   "source": [
    "#Hago algunas correcciones\n",
    "sharks['Age2'] = sharks['Age2'].apply(lambda x: str(x).replace(\"'s'\",'')\\\n",
    "                  .replace('s','').replace('mid-','').replace('?','')\\\n",
    "                  .replace('teen','').replace('teens','')\\\n",
    "                  .replace('Teens','').replace('months','')\\\n",
    "                  .replace('Ca.','').replace('>','').replace('Teen','')\\\n",
    "                  .replace('(adult)','UNKNOWN').replace('MAKELINEGREEN','UNKNOWN')\\\n",
    "                  .replace('\"young\"','UNKNOWN').replace('young','UNKNOWN').replace('A.M.','UNKNOWN')\\\n",
    "                  .replace('Elderly','UNKNOWN').replace('7or8','7').replace('9or10','9')\\\n",
    "                  .replace('25to35','30').replace('7&31','UNKNOWN')\\\n",
    "                  .replace('8or10','10').replace('months','').replace('month','')\\\n",
    "                  .replace('\"middle-age\"','UNKNOWN').replace('adult','UNKNOWN')\\\n",
    "                  .replace('2to3','2').replace('Both','')\\\n",
    "                  .replace('9&12','12').replace('&19','19').replace('&14','14'))\n",
    "                                      \n",
    "sharks['len_age'] = sharks['Age2'].str.len()"
   ]
  },
  {
   "cell_type": "code",
   "execution_count": null,
   "metadata": {
    "scrolled": true
   },
   "outputs": [],
   "source": [
    "#Compruebo. De los 31 elementos que quedan (quitando el UNKNOWN),\n",
    "#como son datos dispares los dejo así\n",
    "print(len(list(sharks.loc[sharks['len_age']>2,'Age2'].unique())))\n",
    "list(sharks.loc[sharks['len_age']>2,'Age2'].unique())"
   ]
  },
  {
   "cell_type": "code",
   "execution_count": null,
   "metadata": {},
   "outputs": [],
   "source": [
    "#No quedan muchos valores útiles, así que no se va a poder hacer análisis por edad\n",
    "print(len(list(sharks.loc[sharks['len_age']<=2,'Age2'].unique())))\n",
    "list(sharks.loc[sharks['len_age']<=2,'Age2'].unique())"
   ]
  },
  {
   "cell_type": "markdown",
   "metadata": {},
   "source": [
    "\n",
    "## Fatal_Y/N <a id=\"Fatal_Y/N\"></a>"
   ]
  },
  {
   "cell_type": "code",
   "execution_count": null,
   "metadata": {
    "scrolled": false
   },
   "outputs": [],
   "source": [
    "'''\n",
    "Compruebo las columnas con solo dos valores categóricos: Sex y Fatal_Y/N\n",
    "'''\n",
    "sharks.groupby('Fatal_Y/N')[['unos']].sum()"
   ]
  },
  {
   "cell_type": "code",
   "execution_count": null,
   "metadata": {},
   "outputs": [],
   "source": [
    "sharks.index"
   ]
  },
  {
   "cell_type": "code",
   "execution_count": null,
   "metadata": {},
   "outputs": [],
   "source": [
    "# La M es más que probable que sea una N, la y es Y y el 2017 es un valor claramente mal introducido\n",
    "sharks.loc[sharks['Fatal_Y/N']==' N','Fatal_Y/N'] = 'N'\n",
    "sharks.loc[sharks['Fatal_Y/N']=='N ','Fatal_Y/N'] = 'N'\n",
    "sharks.loc[sharks['Fatal_Y/N']=='M','Fatal_Y/N'] = 'N'\n",
    "sharks.loc[sharks['Fatal_Y/N']=='M ','Fatal_Y/N'] = 'N'\n",
    "sharks.loc[sharks['Fatal_Y/N']==' M','Fatal_Y/N'] = 'N'\n",
    "sharks.loc[sharks['Fatal_Y/N']=='y','Fatal_Y/N'] = 'Y'\n",
    "#sharks.drop(sharks[sharks['Fatal_Y/N'] == '2017'].index, axis = 0, inplace = True)\n",
    "#sharks.drop(sharks[sharks['Fatal_Y/N'] == 'UNKNOWN'].index, axis = 0, inplace = True)"
   ]
  },
  {
   "cell_type": "code",
   "execution_count": null,
   "metadata": {
    "scrolled": true
   },
   "outputs": [],
   "source": [
    "sharks.groupby('Fatal_Y/N')[['unos']].sum()"
   ]
  },
  {
   "cell_type": "code",
   "execution_count": null,
   "metadata": {
    "scrolled": true
   },
   "outputs": [],
   "source": [
    "#Compruebo que el registro (que tiene 2017 en Fatal_Y/N) tiene el año bien y, si no,\n",
    "#lo actualizo y en Fatal_Y/N pongo UNKNOWN\n",
    "sharks.loc[sharks['Fatal_Y/N']=='2017','Year':'Fatal_Y/N']"
   ]
  },
  {
   "cell_type": "code",
   "execution_count": null,
   "metadata": {},
   "outputs": [],
   "source": [
    "#El año es 2012, así que pongo 'UNKNOWN' en Fatal_Y/N\n",
    "sharks.loc[sharks['Fatal_Y/N']=='2017','Fatal_Y/N'] = 'UNKNOWN'\n",
    "sharks.loc[sharks['Fatal_Y/N']=='2017',['Fatal_Y/N']]"
   ]
  },
  {
   "cell_type": "code",
   "execution_count": null,
   "metadata": {
    "scrolled": true
   },
   "outputs": [],
   "source": [
    "sharks.groupby('Fatal_Y/N')[['unos']].sum()"
   ]
  },
  {
   "cell_type": "code",
   "execution_count": null,
   "metadata": {},
   "outputs": [],
   "source": [
    "#Todavía quedan 539 NaN's, por el momento no hago nada con ellos\n",
    "print(sharks[sharks['Fatal_Y/N'].isnull()].shape)\n",
    "#Los transformo en 'UNKNOWN'\n",
    "sharks['Fatal_Y/N'].fillna('UNKNOWN', inplace = True)\n",
    "sharks[sharks['Fatal_Y/N'].isnull()].shape"
   ]
  },
  {
   "cell_type": "markdown",
   "metadata": {},
   "source": [
    "## Time <a id=\"Time\"></a>"
   ]
  },
  {
   "cell_type": "code",
   "execution_count": null,
   "metadata": {},
   "outputs": [],
   "source": [
    "#Analizo el campo Time\n",
    "sharks.groupby('Time')[['unos']].sum()"
   ]
  },
  {
   "cell_type": "code",
   "execution_count": null,
   "metadata": {},
   "outputs": [],
   "source": [
    "#Hay celdas vacías y con espacios, hago un 'strip para quitar combinaciones de más de un espacio'\n",
    "sharks['Time'] = sharks['Time'].map(lambda x: str(x).replace(' ',''))"
   ]
  },
  {
   "cell_type": "code",
   "execution_count": null,
   "metadata": {},
   "outputs": [],
   "source": [
    "#Compruebo si quedan espacios\n",
    "sharks[sharks['Time'].str.contains(' ')]"
   ]
  },
  {
   "cell_type": "code",
   "execution_count": null,
   "metadata": {
    "scrolled": true
   },
   "outputs": [],
   "source": [
    "#Compruebo si hay vacíos\n",
    "sharks[sharks['Time']=='']"
   ]
  },
  {
   "cell_type": "code",
   "execution_count": null,
   "metadata": {},
   "outputs": [],
   "source": [
    "#A los vacíos les doy valor 'UNKNOWN'\n",
    "sharks.loc[sharks['Time']=='','Time'] = 'UNKNOWN'"
   ]
  },
  {
   "cell_type": "code",
   "execution_count": null,
   "metadata": {},
   "outputs": [],
   "source": [
    "#Compruebo\n",
    "sharks[sharks['Time']=='']"
   ]
  },
  {
   "cell_type": "code",
   "execution_count": null,
   "metadata": {
    "scrolled": true
   },
   "outputs": [],
   "source": [
    "'''\n",
    "En el campo 'Time', analizando la cantidad de NaN's, quizá no tenga sentido molestarse\n",
    "tanto para limpiarlo, dado que el 66% son nulos, pero lo hago para practicar.\n",
    "Intentaré automatizarlo lo máximo posible.\n",
    "\n",
    "La idea es crear un campo 'Time2', categórico, que\n",
    "contenga solo 3 valores: 'mañana', 'tarde' o 'noche' y hacerlo de la forma \n",
    "más automatizada posible\n",
    "'''"
   ]
  },
  {
   "cell_type": "code",
   "execution_count": null,
   "metadata": {
    "scrolled": false
   },
   "outputs": [],
   "source": [
    "#Agrupo y sumo los registros a ver si hay valores que se repitan\n",
    "sharks.groupby('Time')[['unos']].sum().sort_values('unos',ascending = False).head(10)"
   ]
  },
  {
   "cell_type": "code",
   "execution_count": null,
   "metadata": {
    "scrolled": true
   },
   "outputs": [],
   "source": [
    "#Hay 3354 registros en los que 'Time' tiene valor string 'nan'\n",
    "sharks[sharks['Time']=='nan']"
   ]
  },
  {
   "cell_type": "code",
   "execution_count": null,
   "metadata": {},
   "outputs": [],
   "source": [
    "#Los cambio a 'UNKNOWN'\n",
    "sharks.loc[sharks['Time']=='nan','Time'] = 'UNKNOWN'"
   ]
  },
  {
   "cell_type": "code",
   "execution_count": null,
   "metadata": {
    "scrolled": true
   },
   "outputs": [],
   "source": [
    "#primero hago lista con 359 valores únicos (excepto Nan's)para verlos\n",
    "listahoras = list(sorted(sharks['Time'].unique()))\n",
    "#Otra forma:\n",
    "#listahoras = list(sharks.groupby('Time')[['unos']].sum().index)\n",
    "\n",
    "print(len(listahoras))\n",
    "listahoras"
   ]
  },
  {
   "cell_type": "code",
   "execution_count": null,
   "metadata": {},
   "outputs": [],
   "source": [
    "#Creo una columna 'len_time' con el len de las celdas de la columna 'Time'\n",
    "sharks['len_time'] = sharks['Time'].str.len()"
   ]
  },
  {
   "cell_type": "code",
   "execution_count": null,
   "metadata": {},
   "outputs": [],
   "source": [
    "#Observo todos los que tienen len > 5, dado que tienen algo mal escrito seguro\n",
    "print(len(list(sharks.loc[sharks['len_time']>5,'Time'].unique())))\n",
    "list(sharks.loc[sharks['len_time']>5,'Time'].unique())"
   ]
  },
  {
   "cell_type": "code",
   "execution_count": null,
   "metadata": {},
   "outputs": [],
   "source": [
    "'''\n",
    "Hay 98 registros con más de 5 caracteres que, obviamente, no tienen formato '00h00'\n",
    "Para limpiarlo haré un diccionario con el que después filtraré para hacer la columna\n",
    "con valores 'mañana', 'tarde' o 'noche'.\n",
    "\n",
    "Para no hacer el diccionario de forma totalmente manual, hago una lista con las 24 horas\n",
    "del día en formato '00h' para poder hacer copy-paste al crear el diccionario.\n",
    "'''\n",
    "#primero hago lista con cada hora del día concatenado con una 'h', para no escribirlos a mano\n",
    "listaval = []\n",
    "val = ''\n",
    "for i in range(25):    \n",
    "    if i < 10:\n",
    "        val = str(0)+str(i)+'h'\n",
    "    else:\n",
    "        val = str(i)+'h'    \n",
    "    listaval.append(val)\n",
    "listaval"
   ]
  },
  {
   "cell_type": "code",
   "execution_count": null,
   "metadata": {},
   "outputs": [],
   "source": [
    "'''\n",
    "Uso los valores de la lista, junto con palabras clave dentro de la columna que me indican\n",
    "el momento del día, para hacer un diccionario que usaré en una función para definir\n",
    "el momento del día en una nueva columna\n",
    "'''\n",
    "dicval = {'morning':'mañana','dusk':'noche','night':'noche',\n",
    "          'midday':'tarde','noon':'tarde',\n",
    "          'afternoon':'tarde','afternon':'tarde','evening':'tarde','pm':'tarde',\n",
    "          'p.m.':'tarde','sundown':'noche','dawn':'mañana','daybreak':'mañana',\n",
    "          'dark':'noche','am':'mañana','a.m.':'mañana','00h':'noche','01h':'mañana',\n",
    "          '02h':'mañana','03h':'mañana','04h':'mañana','05h':'mañana', '06h':'mañana',\n",
    "          '07h':'mañana','08h':'mañana','09h':'mañana','10h':'mañana','11h':'mañana',\n",
    "          '12h':'tarde','13h':'tarde','14h':'tarde','15h':'tarde','16h':'tarde',\n",
    "          '17h':'tarde','18h':'tarde','19h':'tarde','20h':'tarde','21h':'noche',\n",
    "          '22h':'noche','23h':'noche','24h':'noche','lunch':'tarde','x':'UNKNOWN',\n",
    "          'possibly':'UNKNOWN','unknown':'UNKNOWN','sunset':'noche','daytime':'UNKNOWN',\n",
    "          '15j':'tarde','06j':'mañana','beforesunset':'tarde','fatal':'UNKNOWN'}"
   ]
  },
  {
   "cell_type": "code",
   "execution_count": null,
   "metadata": {},
   "outputs": [],
   "source": [
    "#Hago una columna 'Time2' para trabajar sobre ella\n",
    "sharks['Time2'] = sharks['Time'].str.lower()"
   ]
  },
  {
   "cell_type": "code",
   "execution_count": null,
   "metadata": {
    "scrolled": false
   },
   "outputs": [],
   "source": [
    "sharks.groupby('Time2')[['unos']].sum().sort_values('unos',ascending = False)"
   ]
  },
  {
   "cell_type": "code",
   "execution_count": null,
   "metadata": {},
   "outputs": [],
   "source": [
    "'''\n",
    "Intento de usar apply para cambiar elementos de una serie si los valores de un diccionario\n",
    "están en el elemento. No ha funcionado pero dejo aquí el código\n",
    "'''\n",
    "#def cambiar(x):\n",
    "#    for clave, valor in dicval.items():\n",
    "#\n",
    "#        if x in clave:\n",
    "#            x = valor\n",
    "#            return x\n",
    "#        else:\n",
    "#            return x\n",
    "#\n",
    "#sharks['Time2'] = sharks['Time2'].apply(cambiar)"
   ]
  },
  {
   "cell_type": "code",
   "execution_count": null,
   "metadata": {},
   "outputs": [],
   "source": [
    "#Como no funciona el Apply hago un código que recorra cada celda y la compare\n",
    "#con el diccionario. Con el resultado relleno la columna 'Time2'\n",
    "\n",
    "for i in range(len(sharks['Time2'])):\n",
    "    \n",
    "    celda = sharks.loc[i,'Time2']    \n",
    "    \n",
    "    for clave, valor in dicval.items():\n",
    "        \n",
    "        if clave in celda:\n",
    "            sharks.loc[i,'Time2'] = valor"
   ]
  },
  {
   "cell_type": "code",
   "execution_count": null,
   "metadata": {
    "scrolled": true
   },
   "outputs": [],
   "source": [
    "print(sharks.groupby('Time2')[['unos']].sum().sum())\n",
    "sharks.groupby('Time2')[['unos']].sum().sort_values('unos', ascending = False)"
   ]
  },
  {
   "cell_type": "code",
   "execution_count": null,
   "metadata": {},
   "outputs": [],
   "source": [
    "#todavía quedan algunos valores sueltos, los corrijo:\n",
    "sharks.loc[sharks['Time2']== '0830','Time2'] = 'mañana'\n",
    "sharks.loc[sharks['Time2']== '9h00','Time2'] = 'mañana'\n",
    "sharks.loc[sharks['Time2']== '1300','Time2'] = 'tarde'\n",
    "sharks.loc[sharks['Time2']== '1500','Time2'] = 'tarde'\n",
    "sharks.loc[sharks['Time2']== '0500','Time2'] = 'mañana'\n",
    "sharks.loc[sharks['Time2']== '--','Time2'] = 'UNKNOWN'\n",
    "sharks.loc[sharks['Time2']== '30minutesafter1992.07.08.a','Time2'] = 'UNKNOWN'\n",
    "sharks.loc[sharks['Time2']== '2hoursafteropperman','Time2'] = 'UNKNOWN'\n",
    "sharks.loc[sharks['Time2']== '1600','Time2'] = 'tarde'\n",
    "sharks['Time2'] = sharks['Time2'].apply(lambda x: str(x).strip())\n",
    "sharks['Time2'] = sharks['Time2'].apply(lambda x: str(x).replace(' ',''))"
   ]
  },
  {
   "cell_type": "code",
   "execution_count": null,
   "metadata": {},
   "outputs": [],
   "source": [
    "print(sharks.groupby('Time2')[['unos']].sum().sum())\n",
    "sharks.groupby('Time2')[['unos']].sum().sort_values('unos', ascending = False)"
   ]
  },
  {
   "cell_type": "code",
   "execution_count": null,
   "metadata": {
    "scrolled": true
   },
   "outputs": [],
   "source": [
    "#Compruebo cuál es el vacío en Time2\n",
    "sharks.loc[sharks['Time2']=='',['Time']]"
   ]
  },
  {
   "cell_type": "code",
   "execution_count": null,
   "metadata": {},
   "outputs": [],
   "source": [
    "sharks.loc[sharks['Time2']=='','Time2'] = 'tarde'"
   ]
  },
  {
   "cell_type": "code",
   "execution_count": null,
   "metadata": {
    "scrolled": true
   },
   "outputs": [],
   "source": [
    "print(sharks.groupby('Time2')[['unos']].sum().sum())\n",
    "sharks.groupby('Time2')[['unos']].sum().sort_values('unos', ascending = False)"
   ]
  },
  {
   "cell_type": "code",
   "execution_count": null,
   "metadata": {},
   "outputs": [],
   "source": [
    "#Actualizo df nulos\n",
    "nulos = pd.DataFrame()\n",
    "nulos['Nulos'] = sharks.isnull().sum()\n",
    "nulos['No_Nulos'] = sharks.notnull().sum()\n",
    "nulos['ratio_nulos'] = round(sharks.isnull().sum()/sharks.shape[0]*100,2)\n",
    "nulos"
   ]
  },
  {
   "cell_type": "code",
   "execution_count": null,
   "metadata": {},
   "outputs": [],
   "source": [
    "del sharks['len_Date']\n",
    "del sharks['len_time']\n",
    "del sharks['len_age']\n",
    "sharks.info()"
   ]
  },
  {
   "cell_type": "markdown",
   "metadata": {},
   "source": [
    "# Hipótesis 1:  <a id=\"Hipo1\"></a>\n",
    "- El número de supervivientes ha aumentado con el paso de los años"
   ]
  },
  {
   "cell_type": "code",
   "execution_count": null,
   "metadata": {},
   "outputs": [],
   "source": [
    "#Hago un df con los registros que tienen año conocido\n",
    "years = sharks.loc[sharks['Year']!=0,:]"
   ]
  },
  {
   "cell_type": "code",
   "execution_count": null,
   "metadata": {},
   "outputs": [],
   "source": [
    "years.shape"
   ]
  },
  {
   "cell_type": "code",
   "execution_count": null,
   "metadata": {},
   "outputs": [],
   "source": [
    "#Dentro del df years hay 609 registros con el campo 'Fatal_Y/N' con valor 'UNKNOWN'\n",
    "print(years.groupby('Fatal_Y/N')[['unos']].sum().sum())\n",
    "years.groupby('Fatal_Y/N')[['unos']].sum()"
   ]
  },
  {
   "cell_type": "code",
   "execution_count": null,
   "metadata": {
    "scrolled": true
   },
   "outputs": [],
   "source": [
    "#Reviso la columna de supervivencia\n",
    "'''\n",
    "Me queda una muestra de 5.568 registros de los que se conoce si sobrevivió el individuo\n",
    "o no, de las cuales el 23,9% sobrevivieron, casi la cuarta parte.\n",
    "'''\n",
    "print(years[years['Fatal_Y/N']!= 'UNKNOWN'].groupby('Fatal_Y/N')[['unos']].sum().sum())\n",
    "\n",
    "years[years['Fatal_Y/N']!= 'UNKNOWN'].groupby('Fatal_Y/N')[['unos']].sum()"
   ]
  },
  {
   "cell_type": "code",
   "execution_count": null,
   "metadata": {},
   "outputs": [],
   "source": [
    "#Dado que hay 6177 registros con fecha, prescindo de los 609 que tienen 'UNKNOWN' en el campo\n",
    "#'Fatal Y/N' para hacer el análisis. \n",
    "\n",
    "years = years.loc[years['Fatal_Y/N'] != 'UNKNOWN',:]\n",
    "print(years[years['Fatal_Y/N']!= 'UNKNOWN'].groupby('Fatal_Y/N')[['unos']].sum().sum())\n",
    "years[years['Fatal_Y/N']!= 'UNKNOWN'].groupby('Fatal_Y/N')[['unos']].sum()\n",
    "\n",
    "years.shape"
   ]
  },
  {
   "cell_type": "code",
   "execution_count": null,
   "metadata": {},
   "outputs": [],
   "source": [
    "ltemp = years[['Year','Fatal_Y/N','unos']].groupby(['Year',\n",
    "               'Fatal_Y/N'])[['unos']].sum()"
   ]
  },
  {
   "cell_type": "code",
   "execution_count": null,
   "metadata": {},
   "outputs": [],
   "source": [
    "ltemp = ltemp.unstack()"
   ]
  },
  {
   "cell_type": "code",
   "execution_count": null,
   "metadata": {
    "scrolled": true
   },
   "outputs": [],
   "source": [
    "ltemp['year'] = ltemp.index.get_level_values(0)\n",
    "ltemp"
   ]
  },
  {
   "cell_type": "code",
   "execution_count": null,
   "metadata": {},
   "outputs": [],
   "source": [
    "ltemp = ltemp.fillna(0)"
   ]
  },
  {
   "cell_type": "code",
   "execution_count": null,
   "metadata": {},
   "outputs": [],
   "source": [
    "#Hago columna con total de casos con desenlace conocido\n",
    "ltemp['total'] = ltemp['unos']['N'] + ltemp['unos']['Y']\n",
    "ltemp"
   ]
  },
  {
   "cell_type": "code",
   "execution_count": null,
   "metadata": {},
   "outputs": [],
   "source": [
    "#Calculo el porcentaje de supervivientes por año\n",
    "ltemp['Ratio_Vivos'] = round(ltemp['unos']['Y'] / ltemp['total']*100,2)"
   ]
  },
  {
   "cell_type": "code",
   "execution_count": null,
   "metadata": {},
   "outputs": [],
   "source": [
    "ltemp.sort_values('year', ascending = False)"
   ]
  },
  {
   "cell_type": "code",
   "execution_count": null,
   "metadata": {
    "scrolled": false
   },
   "outputs": [],
   "source": [
    "#El resultado de la línea temporal es \"poco comercial\", ya que el rango de años es muy grande,\n",
    "#y en los primeros 1700 años hay pocas observaciones.\n",
    "sns.lineplot(x = ltemp['year'],y = ltemp['Ratio_Vivos'])\n",
    "sns.despine()"
   ]
  },
  {
   "cell_type": "code",
   "execution_count": null,
   "metadata": {},
   "outputs": [],
   "source": [
    "#voy a dividir el lineplot en 3 periodos, para ello hago 1 df por periodo\n",
    "'''\n",
    "Antes de 1800 solo hay 33 observaciones así que prescindo de ellas\n",
    "Periodo bajo: entre 1800 y 1874\n",
    "Periodo medio: entre 1875 y 1949\n",
    "Periodo alto: desde 1950 hasta la actualidad\n",
    "'''\n",
    "print(years[years['Year']<1800].shape)\n",
    "pbajo = ltemp.loc[(ltemp['year'] >= 1800) & (ltemp['year'] < 1875),:]\n",
    "pmedio = ltemp.loc[(ltemp['year'] >= 1875) & (ltemp['year'] < 1950),:]\n",
    "palto = ltemp.loc[ltemp['year'] >= 1950,:]"
   ]
  },
  {
   "cell_type": "code",
   "execution_count": null,
   "metadata": {},
   "outputs": [],
   "source": [
    "#print(pbajo.shape, pmedio.shape, palto.shape)\n",
    "print(pbajo.shape, pmedio.shape, palto.shape)"
   ]
  },
  {
   "cell_type": "code",
   "execution_count": null,
   "metadata": {},
   "outputs": [],
   "source": [
    "#Según el gráfico, parece que la línea de Ratio de supervivientes desciente,\n",
    "#Especialmente entre 1950 y la actualidad.\n",
    "\n",
    "fig, axs = plt.subplots(1,3, figsize = (30,7))\n",
    "sns.lineplot(x = pbajo['year'],y = pbajo['Ratio_Vivos'],ax = axs[0])\n",
    "sns.lineplot(x = pmedio['year'],y = pmedio['Ratio_Vivos'],ax = axs[1])\n",
    "sns.lineplot(x = palto['year'],y = palto['Ratio_Vivos'],ax = axs[2])\n",
    "\n",
    "sns.despine()"
   ]
  },
  {
   "cell_type": "code",
   "execution_count": null,
   "metadata": {},
   "outputs": [],
   "source": [
    "#Pruebo con un Scatter\n",
    "plt.figure(figsize=(8,4))\n",
    "sns.scatterplot(x = ltemp['year'], y = ltemp['Ratio_Vivos'])\n",
    "sns.despine()"
   ]
  },
  {
   "cell_type": "code",
   "execution_count": null,
   "metadata": {},
   "outputs": [],
   "source": [
    "#Lo hago con un df poniendo como primer año 1800 , se distingue mejor la línea descendiente\n",
    "ltemp2 = ltemp[ltemp['year']>1800]\n",
    "plt.figure(figsize=(8,4))\n",
    "sns.scatterplot(x = ltemp2['year'], y = ltemp2['Ratio_Vivos'])\n",
    "sns.despine()"
   ]
  },
  {
   "cell_type": "code",
   "execution_count": null,
   "metadata": {
    "scrolled": true
   },
   "outputs": [],
   "source": [
    "#divido también el scatter en 3 periodos.\n",
    "fig, axs = plt.subplots(1,3, figsize = (30,7))\n",
    "sns.scatterplot(x = pbajo['year'],y = pbajo['Ratio_Vivos'],ax = axs[0])\n",
    "sns.scatterplot(x = pmedio['year'],y = pmedio['Ratio_Vivos'],ax = axs[1])\n",
    "sns.scatterplot(x = palto['year'],y = palto['Ratio_Vivos'],ax = axs[2])\n",
    "\n",
    "sns.despine()"
   ]
  },
  {
   "cell_type": "markdown",
   "metadata": {},
   "source": [
    "### Solución Hipótesis 1 <a id=\"solu1\"></a>"
   ]
  },
  {
   "cell_type": "code",
   "execution_count": null,
   "metadata": {},
   "outputs": [],
   "source": [
    "'''\n",
    "Hipótesis 1.\n",
    "Del primer periodo no se puede sacar mucha info, en el segundo se intuye una línea descendente,\n",
    "Pero desde 1950 se aprecia una línea claramente descendente en el ratio de vivos\n",
    "Con los datos disponibles, la hipótesis 1 no se valida, la tendencia es la contraria.\n",
    "'''"
   ]
  },
  {
   "cell_type": "markdown",
   "metadata": {},
   "source": [
    "# Hipótesis 2. <a id=\"Hipo2\"></a>\n",
    "\n",
    "- Todos los ataques producidos en la India, ocurren a primera hora de la mañana"
   ]
  },
  {
   "cell_type": "code",
   "execution_count": null,
   "metadata": {
    "scrolled": true
   },
   "outputs": [],
   "source": [
    "#Compruebo la cantidad de casos por pais\n",
    "xpais = sharks.groupby('Country')[['unos']].sum().sort_values('unos',ascending = False)\n",
    "xpais['country'] = xpais.index.get_level_values(0)\n",
    "xpais.head(10)"
   ]
  },
  {
   "cell_type": "code",
   "execution_count": null,
   "metadata": {
    "scrolled": true
   },
   "outputs": [],
   "source": [
    "#Hago la comprobación visualmente con el top 20\n",
    "\n",
    "plt.figure(figsize=(20,8))\n",
    "sns.barplot(x = xpais['country'].head(20),\n",
    "           y = xpais['unos'],\n",
    "           palette = 'Blues_d',\n",
    "           ci = None)\n",
    "plt.xticks(rotation = 45)\n",
    "sns.despine()"
   ]
  },
  {
   "cell_type": "code",
   "execution_count": null,
   "metadata": {},
   "outputs": [],
   "source": [
    "#Compruebo si hay más indias, con espacios en el nombre o incluido en otros strings\n",
    "xpais[xpais['country'].str.contains('INDIA')]"
   ]
  },
  {
   "cell_type": "code",
   "execution_count": null,
   "metadata": {
    "scrolled": false
   },
   "outputs": [],
   "source": [
    "#Compruebo si gracias a 'Time2' se ha recuperado algún dato de 'Time'\n",
    "india = sharks.loc[sharks['Country'].isin(['INDIA']),['Time','Time2']]\n",
    "india"
   ]
  },
  {
   "cell_type": "code",
   "execution_count": null,
   "metadata": {
    "scrolled": false
   },
   "outputs": [],
   "source": [
    "#Lamentablemente, todos los de la India eran de los que tenían valor NaN\n",
    "#Por tanto solo se pueden analizar 5 registros\n",
    "indiaplot = india.groupby('Time2')[['unos']].sum()\n",
    "indiaplot"
   ]
  },
  {
   "cell_type": "code",
   "execution_count": null,
   "metadata": {},
   "outputs": [],
   "source": [
    "indiaplot = indiaplot.rename(columns={'unos':'Momento del día en ataques'})\n",
    "                                  \n",
    "plt.figure(figsize=(10,4))\n",
    "colors = ['#ff9999','#66b3ff','#ffcc99']\n",
    "\n",
    "indiaplot.plot.pie(y='Momento del día en ataques', \n",
    "                   figsize=(5, 5), shadow = True, colors = colors)\n",
    "\n",
    "\n",
    "plt.tight_layout()\n",
    "sns.despine()"
   ]
  },
  {
   "cell_type": "markdown",
   "metadata": {},
   "source": [
    "### Solución Hipótesis 2 <a id=\"solu2\"></a>"
   ]
  },
  {
   "cell_type": "code",
   "execution_count": null,
   "metadata": {},
   "outputs": [],
   "source": [
    "'''\n",
    "De los 40 ataques registrados en INDIA, 32 no tienen información sobre la hora en que \n",
    "se produjeron, lo que supone 80% de la muestra, por lo que no se puede comprobar la hipótesis\n",
    "con certeza. Siendo, además, una zona de tiburones, la muestra de 40 ataques parece exigua, lo que supone que,\n",
    "aun habiendo tenido los 40 registros con datos de la hora, no habría sido suficiente para\n",
    "confirmar la hipótesis.\n",
    "\n",
    "Dicho esto, disponemos de 8 ataques con información de hora, de los cuáles, solo 3, se\n",
    "han producido antes de las 12:00 p.m. Por lo que, con los datos disponibles, la hipótesis\n",
    "sería la contraria, dado que el 62,5% de los ataques registrados han sido por la tarde.\n",
    "'''"
   ]
  },
  {
   "cell_type": "markdown",
   "metadata": {},
   "source": [
    "# Hipótesis 3. <a id=\"Hipo3\"></a>\n",
    "\n",
    "- La mayoría de los ataques en los últimos 200 años tuvieron lugar en USA, Australia y Sudáfrica"
   ]
  },
  {
   "cell_type": "code",
   "execution_count": null,
   "metadata": {},
   "outputs": [],
   "source": [
    "#Hago el df con los registros de los últimos 200 años\n",
    "ult200 = years[years['Year'] > 1820]\n",
    "ult200.shape"
   ]
  },
  {
   "cell_type": "code",
   "execution_count": null,
   "metadata": {
    "scrolled": false
   },
   "outputs": [],
   "source": [
    "# Extraigo la cantidad de casos por pais los últimos 200 años.\n",
    "grupais = ult200.groupby('Country')[['unos']].sum().sort_values('unos', ascending = False).head(10)\n",
    "grupais['country'] = grupais.index.get_level_values(0)\n",
    "grupais"
   ]
  },
  {
   "cell_type": "code",
   "execution_count": null,
   "metadata": {
    "scrolled": true
   },
   "outputs": [],
   "source": [
    "#Visualmente\n",
    "\n",
    "plt.figure(figsize=(20,8))\n",
    "sns.barplot(x = grupais.index.get_level_values(0),\n",
    "           y = grupais['unos'],\n",
    "           palette = 'Blues_d',\n",
    "           ci = None)\n",
    "plt.xticks(rotation = 45)\n",
    "sns.despine()"
   ]
  },
  {
   "cell_type": "markdown",
   "metadata": {},
   "source": [
    "### Solución Hipótesis 3 <a id=\"solu3\"></a>"
   ]
  },
  {
   "cell_type": "code",
   "execution_count": null,
   "metadata": {},
   "outputs": [],
   "source": [
    "'''\n",
    "Según los datos, la hipótesis 3 queda validada, ya que los tres países acumulan \n",
    "la mayoría de los casos registrados.\n",
    "'''"
   ]
  },
  {
   "cell_type": "markdown",
   "metadata": {},
   "source": [
    "# Hipótesis 4. <a id=\"Hipo4\"></a>\n",
    "\n",
    "- Las actividades con más riesgo de sufrir un ataque de tiburon son pescar y nadar."
   ]
  },
  {
   "cell_type": "code",
   "execution_count": null,
   "metadata": {
    "scrolled": false
   },
   "outputs": [],
   "source": [
    "activity = sharks.groupby('Activity2')[['unos']].count().sort_values('unos',ascending = False).head()\n",
    "activity"
   ]
  },
  {
   "cell_type": "code",
   "execution_count": null,
   "metadata": {},
   "outputs": [],
   "source": [
    "plt.figure(figsize=(10,4))\n",
    "\n",
    "sns.barplot(x = activity.index.get_level_values(0),\n",
    "           y = activity['unos'],\n",
    "           palette = 'Blues_d',\n",
    "           ci = None)\n",
    "plt.xticks(rotation = 45)\n",
    "sns.despine()"
   ]
  },
  {
   "cell_type": "markdown",
   "metadata": {},
   "source": [
    "### Solución Hipótesis 4 <a id=\"solu4\"></a>"
   ]
  },
  {
   "cell_type": "code",
   "execution_count": null,
   "metadata": {},
   "outputs": [],
   "source": [
    "'''\n",
    "Aunque hay actividades repetidas, se ve claramente que las dos actividades principales\n",
    "son Swimming y Surfing, la tercera es Fishing, \n",
    "\n",
    "Con los datos, la hipótesis número 4 no se valida, ya que las actividades principales\n",
    "son nadar y hacer surf\n",
    "'''"
   ]
  },
  {
   "cell_type": "markdown",
   "metadata": {},
   "source": [
    "# Hipótesis 5. <a id=\"Hipo5\"></a>\n",
    "- La mayoría de los ataques de tiburón fueron fatales"
   ]
  },
  {
   "cell_type": "code",
   "execution_count": null,
   "metadata": {},
   "outputs": [],
   "source": [
    "# Esta hipótesis se podría comprobar con el trabajo ya realizado en la primera hipótesis\n",
    "#pero, en este caso, usaré el dataframe original sharks y hacele la limpieza que hice \n",
    "#en df years."
   ]
  },
  {
   "cell_type": "code",
   "execution_count": null,
   "metadata": {
    "scrolled": true
   },
   "outputs": [],
   "source": [
    "sharks.groupby('Fatal_Y/N')[['unos']].sum()"
   ]
  },
  {
   "cell_type": "code",
   "execution_count": null,
   "metadata": {},
   "outputs": [],
   "source": [
    "fatales = sharks[sharks['Fatal_Y/N']!='UNKNOWN']"
   ]
  },
  {
   "cell_type": "code",
   "execution_count": null,
   "metadata": {},
   "outputs": [],
   "source": [
    "#Visualmente\n",
    "sns.catplot('Fatal_Y/N', data = fatales, kind = 'count', palette = 'Blues_d')\n",
    "sns.despine"
   ]
  },
  {
   "cell_type": "markdown",
   "metadata": {},
   "source": [
    "### Solución Hipótesis 5  <a id=\"solu5\"></a>"
   ]
  },
  {
   "cell_type": "code",
   "execution_count": null,
   "metadata": {},
   "outputs": [],
   "source": [
    "'''\n",
    "La mayoría de los casos NO fueron fatales, por la que la hipótesis 5 no se cumple\n",
    "'''"
   ]
  },
  {
   "cell_type": "markdown",
   "metadata": {},
   "source": [
    "# Hipótesis 6. <a id=\"Hipo6\"></a>\n",
    "- Los tiburones tienen especial predilección por los surferos."
   ]
  },
  {
   "cell_type": "code",
   "execution_count": null,
   "metadata": {},
   "outputs": [],
   "source": [
    "plt.figure(figsize=(10,4))\n",
    "\n",
    "sns.barplot(x = activity.index.get_level_values(0),\n",
    "           y = activity['unos'],\n",
    "           palette = 'Blues_d',\n",
    "           ci = None)\n",
    "plt.xticks(rotation = 45)\n",
    "sns.despine()"
   ]
  },
  {
   "cell_type": "markdown",
   "metadata": {},
   "source": [
    "### Solución Hipótesis 6 <a id=\"solu6\"></a>"
   ]
  },
  {
   "cell_type": "code",
   "execution_count": null,
   "metadata": {},
   "outputs": [],
   "source": [
    "'''\n",
    "Esta hipótesis se puede validar con los datos obtenidos en la hipótesis 4.\n",
    "Si bien es cierto que los tiburones NO tienen predilección por las personas\n",
    "por el hecho de hacer Surf, sí que es una actividad que fomenta los ataques, de igual forma\n",
    "que lo hace nadar, ya que muchas especies de tiburones atacan a presas en la superficie. La forma de la \n",
    "tabla y los chapoteos hacen que confundan a los surfistas con leones marinos o focas,\n",
    "lo que provoca el ataque.\n",
    "'''"
   ]
  },
  {
   "cell_type": "markdown",
   "metadata": {},
   "source": [
    "# Hipótesis 7. <a id=\"Hipo7\"></a>\n",
    "- Reunion Island es el lugar del mundo donde ocurren más ataques de tiburón en terminos relativos."
   ]
  },
  {
   "cell_type": "code",
   "execution_count": null,
   "metadata": {
    "scrolled": true
   },
   "outputs": [],
   "source": [
    "#country = pd.read_csv('../input/country_population.csv', error_bad_lines=False)\n",
    "countries = pd.read_csv('../input/country_population.csv', sep = ';')"
   ]
  },
  {
   "cell_type": "code",
   "execution_count": null,
   "metadata": {},
   "outputs": [],
   "source": [
    "#country['Country'] = country['Country'].map(lambda x: str(x).upper()) \n",
    "countries.loc[countries['country']=='UNITED STATES OF AMERICA','country'] = 'USA'"
   ]
  },
  {
   "cell_type": "code",
   "execution_count": null,
   "metadata": {
    "scrolled": false
   },
   "outputs": [],
   "source": [
    "countries.head()"
   ]
  },
  {
   "cell_type": "code",
   "execution_count": null,
   "metadata": {
    "scrolled": true
   },
   "outputs": [],
   "source": [
    "countries.info()"
   ]
  },
  {
   "cell_type": "code",
   "execution_count": null,
   "metadata": {},
   "outputs": [],
   "source": [
    "countries['population'] = countries['population'].map(lambda x: x.replace('.',''))"
   ]
  },
  {
   "cell_type": "code",
   "execution_count": null,
   "metadata": {},
   "outputs": [],
   "source": [
    "countries['population'] = pd.to_numeric(countries['population'],downcast = 'integer')"
   ]
  },
  {
   "cell_type": "code",
   "execution_count": 57,
   "metadata": {
    "scrolled": true
   },
   "outputs": [
    {
     "ename": "NameError",
     "evalue": "name 'countries' is not defined",
     "output_type": "error",
     "traceback": [
      "\u001b[0;31m---------------------------------------------------------------------------\u001b[0m",
      "\u001b[0;31mNameError\u001b[0m                                 Traceback (most recent call last)",
      "\u001b[0;32m<ipython-input-57-73face62ee3b>\u001b[0m in \u001b[0;36m<module>\u001b[0;34m\u001b[0m\n\u001b[0;32m----> 1\u001b[0;31m \u001b[0mcountries\u001b[0m\u001b[0;34m.\u001b[0m\u001b[0minfo\u001b[0m\u001b[0;34m(\u001b[0m\u001b[0;34m)\u001b[0m\u001b[0;34m\u001b[0m\u001b[0;34m\u001b[0m\u001b[0m\n\u001b[0m",
      "\u001b[0;31mNameError\u001b[0m: name 'countries' is not defined"
     ]
    }
   ],
   "source": [
    "countries.info()"
   ]
  },
  {
   "cell_type": "code",
   "execution_count": 56,
   "metadata": {},
   "outputs": [
    {
     "ename": "NameError",
     "evalue": "name 'countries' is not defined",
     "output_type": "error",
     "traceback": [
      "\u001b[0;31m---------------------------------------------------------------------------\u001b[0m",
      "\u001b[0;31mNameError\u001b[0m                                 Traceback (most recent call last)",
      "\u001b[0;32m<ipython-input-56-fb47b0d6e584>\u001b[0m in \u001b[0;36m<module>\u001b[0;34m\u001b[0m\n\u001b[0;32m----> 1\u001b[0;31m \u001b[0msharks\u001b[0m\u001b[0;34m[\u001b[0m\u001b[0msharks\u001b[0m\u001b[0;34m[\u001b[0m\u001b[0;34m'Country'\u001b[0m\u001b[0;34m]\u001b[0m\u001b[0;34m.\u001b[0m\u001b[0misin\u001b[0m\u001b[0;34m(\u001b[0m\u001b[0mcountries\u001b[0m\u001b[0;34m[\u001b[0m\u001b[0;34m'country'\u001b[0m\u001b[0;34m]\u001b[0m\u001b[0;34m)\u001b[0m\u001b[0;34m]\u001b[0m\u001b[0;34m\u001b[0m\u001b[0;34m\u001b[0m\u001b[0m\n\u001b[0m",
      "\u001b[0;31mNameError\u001b[0m: name 'countries' is not defined"
     ]
    }
   ],
   "source": [
    "sharks[sharks['Country'].isin(countries['country'])]"
   ]
  },
  {
   "cell_type": "code",
   "execution_count": null,
   "metadata": {},
   "outputs": [],
   "source": [
    "'''\n",
    "Para comprobar esta hipótesis, usaré las poblaciones de los 3 países principales\n",
    "y la de Islas Reunión ya que, Dada la diferencia de cantidad de ataques de los países Top 3 \n",
    "con el resto, si ratio de ataques/habitantede de las Islas Reunión es mayor que el de\n",
    "los países top 3, se podría decir, con una alta probabilidad, que se \n",
    "confirma la hipótesis.\n",
    "'''"
   ]
  },
  {
   "cell_type": "code",
   "execution_count": null,
   "metadata": {
    "scrolled": true
   },
   "outputs": [],
   "source": [
    "#Vuelvo a crear xpais, agrupado por Country\n",
    "xpais = sharks.groupby('Country')[['unos']].sum().sort_values('unos',ascending = False)"
   ]
  },
  {
   "cell_type": "code",
   "execution_count": null,
   "metadata": {},
   "outputs": [],
   "source": [
    "#Creo columna con nombre de paises\n",
    "xpais['country'] = xpais.index.get_level_values(0)"
   ]
  },
  {
   "cell_type": "code",
   "execution_count": null,
   "metadata": {},
   "outputs": [],
   "source": [
    "xpais.head(12)"
   ]
  },
  {
   "cell_type": "code",
   "execution_count": null,
   "metadata": {
    "scrolled": true
   },
   "outputs": [],
   "source": [
    "# Hab. Islas Reunión: 859.959 ; USA: 328.000.000\n",
    "#      Australia: 25.000.000 ; Sudáfrica: 57.780.000\n",
    "pob = xpais.head(12)\n",
    "pob"
   ]
  },
  {
   "cell_type": "code",
   "execution_count": null,
   "metadata": {
    "scrolled": true
   },
   "outputs": [],
   "source": [
    "#Hago un Dataframe con los paises con los que voy a comprobar la hipótesis\n",
    "pob = pob.loc[['USA','AUSTRALIA','SOUTH AFRICA','REUNION ISLAND'],:]\n",
    "pob"
   ]
  },
  {
   "cell_type": "code",
   "execution_count": null,
   "metadata": {},
   "outputs": [],
   "source": [
    "# Añado una columna con las poblaciones\n",
    "poblacion = [328000000,25000000,57780000,859959]\n",
    "pob['poblacion'] = poblacion\n",
    "pob"
   ]
  },
  {
   "cell_type": "code",
   "execution_count": null,
   "metadata": {
    "scrolled": true
   },
   "outputs": [],
   "source": [
    "# Añado una columna con el ratio de ataques por 1000 habitantes\n",
    "pob['ratio_ataques'] = round(pob['unos']/pob['poblacion']*1000,2)\n",
    "pob"
   ]
  },
  {
   "cell_type": "code",
   "execution_count": null,
   "metadata": {},
   "outputs": [],
   "source": [
    "#plt.figure(figsize=(10,4))\n",
    "fig, ax = plt.subplots()\n",
    "sns.barplot(x = pob['country'],\n",
    "           y = pob['ratio_ataques'],\n",
    "           palette = 'Blues_d',\n",
    "           ci = None,order = [\"REUNION ISLAND\", \"AUSTRALIA\",\n",
    "                              \"SOUTH AFRICA\", \"USA\"])\n",
    "ax.set_title('Ratio Ataques/1000_Habitantes', \n",
    "             fontsize = 14)\n",
    "#plt.xticks(rotation = 45)\n",
    "\n",
    "sns.despine()"
   ]
  },
  {
   "cell_type": "markdown",
   "metadata": {},
   "source": [
    "### Solución Hipótesis 7"
   ]
  },
  {
   "cell_type": "code",
   "execution_count": null,
   "metadata": {},
   "outputs": [],
   "source": [
    "'''\n",
    "Hipótesis 7\n",
    "Comparando Islas Reunión con el Top 3, el ratio de ataques/1000 habitantes es superior, se confirma\n",
    "la hipótesis 7, Proporcionalmente hay más ataques en estas Islas.\n",
    "'''"
   ]
  },
  {
   "cell_type": "markdown",
   "metadata": {},
   "source": [
    "# Hipótesis 8. <a id=\"Hipo8\"></a>\n",
    "- En Sudáfrica hay más ataques letales a mujeres que en Australia."
   ]
  },
  {
   "cell_type": "code",
   "execution_count": null,
   "metadata": {},
   "outputs": [],
   "source": [
    "#Compruebo que no hay celdas duplicadas de Australia, por tener espacios en la celda y cosas así\n",
    "sharks[sharks['Country'].str.contains('AUST')].groupby('Country').sum()"
   ]
  },
  {
   "cell_type": "code",
   "execution_count": null,
   "metadata": {},
   "outputs": [],
   "source": [
    "#Hago un df con los registros de Sudáfrica y Australia\n",
    "ausafri = sharks[(sharks['Country']== 'SOUTH AFRICA')|(sharks['Country']== 'AUSTRALIA')]\n",
    "ausafri.shape"
   ]
  },
  {
   "cell_type": "code",
   "execution_count": null,
   "metadata": {
    "scrolled": true
   },
   "outputs": [],
   "source": [
    "ausafri.groupby(['Country','Fatal_Y/N','Sex'])[['unos']].sum()"
   ]
  },
  {
   "cell_type": "markdown",
   "metadata": {},
   "source": [
    "### Solución Hipótesis 8 <a id=\"solu8\"></a>"
   ]
  },
  {
   "cell_type": "code",
   "execution_count": null,
   "metadata": {},
   "outputs": [],
   "source": [
    "'''\n",
    "Hipótesis 8: Según los datos, en términos absolutos, la hipótesis 8 no se cumple, ya que, de los ataques\n",
    "en los que se conoce el resultado, en sudáfrica hay 5 letales a mujeres y en Australia 17 \n",
    "\n",
    "Haciendo una comparación proporcional....\n",
    "'''"
   ]
  },
  {
   "cell_type": "markdown",
   "metadata": {},
   "source": [
    "# sharks a csv, nombre: sharks_clean.csv <a id=\"tocsv\"></a>"
   ]
  },
  {
   "cell_type": "code",
   "execution_count": null,
   "metadata": {},
   "outputs": [],
   "source": [
    "#Guardo en carpeta 'Output' un csv con el dataframe sharks limpio\n",
    "sharks.to_csv('../output/sharks_clean.csv', index=False)"
   ]
  }
 ],
 "metadata": {
  "kernelspec": {
   "display_name": "Python 3",
   "language": "python",
   "name": "python3"
  },
  "language_info": {
   "codemirror_mode": {
    "name": "ipython",
    "version": 3
   },
   "file_extension": ".py",
   "mimetype": "text/x-python",
   "name": "python",
   "nbconvert_exporter": "python",
   "pygments_lexer": "ipython3",
   "version": "3.8.5"
  }
 },
 "nbformat": 4,
 "nbformat_minor": 4
}
