{
 "cells": [
  {
   "cell_type": "markdown",
   "metadata": {},
   "source": [
    "![EDA.png](img/proyecto_eda.png)"
   ]
  },
  {
   "cell_type": "markdown",
   "metadata": {},
   "source": [
    "# Primera entrega"
   ]
  },
  {
   "cell_type": "markdown",
   "metadata": {},
   "source": [
    "En este primer entregable se espera que durante las próximas dos semanas, hagas la búsqueda de datos e investigación suficiente como para definir la que será la hipótesis de tu proyecto EDA, los datos que necesitarás, incluyendo al menos un dataset principal aunque también podrás incluir fuentes de datos alternativas.\n",
    "\n",
    "Tienes hasta el día _05/04 a las 23:59_ para entregar este archivo completado. Posteriormente se os introducirá el proyecto y darán los detalles pertinentes."
   ]
  },
  {
   "cell_type": "markdown",
   "metadata": {},
   "source": [
    "## HIPÓTESIS PLANTEADAS:\n",
    "\n",
    "#### Principal:\n",
    "\n",
    "- La probabilidad de tener un accidente aéreo cambia significativamente en función del **país de destino**, el factor más determinante es la existencia de zonas montañosas en (o cerca) de los aeropuertos.\n",
    "\n",
    "\n",
    "#### Otras hipótesis para intentar resolver:\n",
    "- La mayor causa de accidente es el error humano.\n",
    "- Las compañías aéreas más seguras del mundo están en Oceanía\n",
    "- Las compañías aéreas menos seguras del mundo están en Asia\n",
    "- Los fabricantes de aviones más seguros están en Europa\n",
    "- Los fabricantes de aviones menos seguros están en Antigua URSS\n",
    "- El modelo de avión con más accidentes es el Boeing 737\n",
    "- Los vuelos nocturnos son más peligrosos que los diurnos\n",
    "- Es más probable que te toque la lotería a tener un accidente de avión\n",
    "- Los vuelos militares (en periodo de paz) son más peligrosos que los comerciales\n",
    "- El año que tuvo más atentados fue 2001\n",
    "- Es más probable tener un accidente provocado por un rayo que por un fallo de diseño del avión.\n",
    "\n",
    "\n",
    "**NOTA:** Estas son hipótesis iniciales. Podrá incorporarse alguna más durante el proceso.\n",
    "Para la hipótesis principal será necesario acceder a diferentes fuentes de datos, si no fueva viable una resolución fiable, iteraré hacia otra hipótesis principal."
   ]
  },
  {
   "cell_type": "markdown",
   "metadata": {},
   "source": [
    "# FUENTE PRINCIPAL:\n",
    "\n",
    "### Kaggle:\n",
    "         \n",
    "Usuario MihirSethi          \n",
    "Hay dos datasets aparentemente iguales, hay que mirarlos bien y decidir cuál tiene los datos más completos\n",
    "\n",
    "**dataset1:** Airplane_Crashes_and_Fatalities_Since_1908.csv         \n",
    "**dataset12:** aircrash1908-2008.csv \n",
    "\n",
    "link: 'https://www.kaggle.com/mihirsethi007/aircrash-data'        \n",
    "Descripción: Datos de accidentes desde 1908. \n",
    "\n",
    "### **Variables:**\n",
    "\n",
    "| Variable    | Description                                          | Type    | Nulls |\n",
    "| :-------    | :--------------------------------------------------: | :------:|------:|\n",
    "| **Date**    | Date of accident,  in the format - January 01, 2001  | Object  | 0     |\n",
    "| **Time**    | Local time, 24h format unless otherwise specified    | Object  | 2219  |\n",
    "| **Location**| Region and/or Country where the accident took place  | Object  | 20    |\n",
    "| **Operator**| Airline or operator of the aircraft                  | Object  | 18    |\n",
    "| **nFlight** | Flight number assigned by the aircraft operator      | Object  | 4199  |\n",
    "| **Route**   | Complete/partial route flown prior to the accident   | Object  | 1706  |\n",
    "| **Type**    | Aircraft type                                        | Object  | 27    |\n",
    "| **Regist**  | ICAO registration of the aircraft                    | Object  | 335   |\n",
    "| **cn/In**   | Construction-serial number / Line-fuselage number    | Object  | 1228  |\n",
    "| **Aboard**  | Total aboard (passengers / crew)                     | Float   | 22    |\n",
    "| **Fatal**   | Total fatalities aboard (passengers / crew)          | Float   | 12    |\n",
    "| **Ground**  | Total killed on the ground                           | Float   | 22    |\n",
    "| **Summary** | Brief description of the accident and cause if known | Object  | 390   |\n",
    "\n"
   ]
  },
  {
   "cell_type": "markdown",
   "metadata": {},
   "source": [
    "## Fuentes alternativas de datos\n",
    "\n",
    "### planecrashinfo.com:\n",
    "Richard Kebabjian  \n",
    "dataset: web scrapping\n",
    "link: 'http://www.planecrashinfo.com/database.htm'          \n",
    "***Fuente Complementaria***                       \n",
    "Descripción: Datos de accidentes desde 1908, tiene datos diversos, parece ser la fuente desde la que se hizo el dataset de Kaggle. En las tablas de la web no están todos los campos, sin embargo tiene url's con datos agregados por tipo de accidente y otras variables interesantes.\n",
    "\n",
    "### datos.bancomundial.org: \n",
    "\n",
    "Organización de Aviación Civil Internacional (OACI)       \n",
    "dataset: API_IS.AIR.DPRT_DS2_es_csv_v2_2169474.csv       \n",
    "link: 'https://datos.bancomundial.org/indicator/IS.AIR.DPRT'             \n",
    "***Fuente Complementaria***                      \n",
    "Descripción: Número de vuelos por país y año desde 1970 hasta 2019, interesante para comparar accidentes con número total de vuelos\n",
    "\n",
    "### Airfleets: \n",
    "\n",
    "Airfleets.net\n",
    "dataset: web scrapping\n",
    "link: https://www.airfleets.es/crash        \n",
    "***Fuente Complementaria***                      \n",
    "Descripción: Datos de vuelos con fecha, compañía aérea, modelo de avión, ciudad de origen, país de origen y número de víctimas. Los datos están normalizados. Interesante para análisis por compañía y modelo de avión.\n",
    "\n",
    "### elperiodico: \n",
    "\n",
    "Graphic News    \n",
    "dataset: web image\n",
    "link:https://www.elperiodico.com/es/extra/20160914/loteria-probabilidad-primitiva-sorteos-5377677         \n",
    "***Fuente Secundaria***                             \n",
    "Descripción: Lista de probabilidades de que toquen las diferentes loterías.\n",
    "\n",
    "\n",
    "### Otras fuentes de consulta:\n",
    "https://www.tendenciashoy.com/transportes/siete-aeropuertos-no-aptos-para-miedosos_636098_102.html\n",
    "\n",
    "https://www.abc.es/viajar/nieve/abci-15-paises-mas-altitud-media-mundo-201702162006_noticia.html\n",
    "\n",
    "USA: https://es.wikipedia.org/wiki/Estados_montañosos\n",
    "\n",
    "https://es.gizmodo.com/20-pistas-de-aterrizaje-terrorificas-que-te-quitaran-la-360923120"
   ]
  }
 ],
 "metadata": {
  "kernelspec": {
   "display_name": "Python 3",
   "language": "python",
   "name": "python3"
  },
  "language_info": {
   "codemirror_mode": {
    "name": "ipython",
    "version": 3
   },
   "file_extension": ".py",
   "mimetype": "text/x-python",
   "name": "python",
   "nbconvert_exporter": "python",
   "pygments_lexer": "ipython3",
   "version": "3.8.5"
  }
 },
 "nbformat": 4,
 "nbformat_minor": 5
}
